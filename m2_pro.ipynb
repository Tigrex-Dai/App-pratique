{
  "nbformat": 4,
  "nbformat_minor": 0,
  "metadata": {
    "colab": {
      "provenance": [],
      "collapsed_sections": [],
      "toc_visible": true,
      "authorship_tag": "ABX9TyPk5BnbWRkzy/e5w4r4wbU2",
      "include_colab_link": true
    },
    "kernelspec": {
      "name": "python3",
      "display_name": "Python 3"
    },
    "language_info": {
      "name": "python"
    }
  },
  "cells": [
    {
      "cell_type": "markdown",
      "metadata": {
        "id": "view-in-github",
        "colab_type": "text"
      },
      "source": [
        "<a href=\"https://colab.research.google.com/github/ouissem11/App-pratique/blob/master/m2_pro.ipynb\" target=\"_parent\"><img src=\"https://colab.research.google.com/assets/colab-badge.svg\" alt=\"Open In Colab\"/></a>"
      ]
    },
    {
      "cell_type": "code",
      "execution_count": null,
      "metadata": {
        "id": "v6V4eQa0G5KX"
      },
      "outputs": [],
      "source": [
        "import numpy as np\n",
        "import pandas as pd"
      ]
    },
    {
      "cell_type": "code",
      "source": [
        "!pip install pandas==1.2.0"
      ],
      "metadata": {
        "colab": {
          "base_uri": "https://localhost:8080/",
          "height": 366
        },
        "id": "K1vLjEFiHSJ3",
        "outputId": "16b701c3-6da5-48e0-c6cf-db70ce50e6b8"
      },
      "execution_count": null,
      "outputs": [
        {
          "output_type": "stream",
          "name": "stdout",
          "text": [
            "Looking in indexes: https://pypi.org/simple, https://us-python.pkg.dev/colab-wheels/public/simple/\n",
            "Collecting pandas==1.2.0\n",
            "  Downloading pandas-1.2.0-cp37-cp37m-manylinux1_x86_64.whl (9.9 MB)\n",
            "\u001b[K     |████████████████████████████████| 9.9 MB 32.5 MB/s \n",
            "\u001b[?25hRequirement already satisfied: numpy>=1.16.5 in /usr/local/lib/python3.7/dist-packages (from pandas==1.2.0) (1.21.6)\n",
            "Requirement already satisfied: python-dateutil>=2.7.3 in /usr/local/lib/python3.7/dist-packages (from pandas==1.2.0) (2.8.2)\n",
            "Requirement already satisfied: pytz>=2017.3 in /usr/local/lib/python3.7/dist-packages (from pandas==1.2.0) (2022.2.1)\n",
            "Requirement already satisfied: six>=1.5 in /usr/local/lib/python3.7/dist-packages (from python-dateutil>=2.7.3->pandas==1.2.0) (1.15.0)\n",
            "Installing collected packages: pandas\n",
            "  Attempting uninstall: pandas\n",
            "    Found existing installation: pandas 1.3.5\n",
            "    Uninstalling pandas-1.3.5:\n",
            "      Successfully uninstalled pandas-1.3.5\n",
            "Successfully installed pandas-1.2.0\n"
          ]
        },
        {
          "output_type": "display_data",
          "data": {
            "application/vnd.colab-display-data+json": {
              "pip_warning": {
                "packages": [
                  "pandas"
                ]
              }
            }
          },
          "metadata": {}
        }
      ]
    },
    {
      "cell_type": "code",
      "source": [
        "df1 = pd.read_excel(\"/content/RESULTAT-PREPS-2012.xls\")"
      ],
      "metadata": {
        "id": "fMbC9xv1IhEe"
      },
      "execution_count": null,
      "outputs": []
    },
    {
      "cell_type": "code",
      "source": [
        "df1"
      ],
      "metadata": {
        "colab": {
          "base_uri": "https://localhost:8080/",
          "height": 1000
        },
        "id": "YAXCxoxpUIqO",
        "outputId": "3dda2984-b59e-4fc7-f80a-2730c0b49276"
      },
      "execution_count": null,
      "outputs": [
        {
          "output_type": "execute_result",
          "data": {
            "text/plain": [
              "    Porteur de projet / Investigateur\\ncoordonnateur\\nNOM  \\\n",
              "0                                           380780080       \n",
              "1                                           380780080       \n",
              "2                                           750712184       \n",
              "3                                           800000044       \n",
              "4                                           750712184       \n",
              "5                                           440000289       \n",
              "6                                           690781810       \n",
              "7                                           750000549       \n",
              "8                                           750712184       \n",
              "9                                           780001236       \n",
              "10                                          380780080       \n",
              "11                                          750000143       \n",
              "12                                          350005179       \n",
              "13                                          470000423       \n",
              "14                                          750712184       \n",
              "15                                          380780080       \n",
              "16                                          440000289       \n",
              "17                                          370000481       \n",
              "18                                          750000523       \n",
              "19                                          290000975       \n",
              "20                                          350005179       \n",
              "21                                          130786049       \n",
              "22                                          130786049       \n",
              "23                                          690781810       \n",
              "24                                          310781406       \n",
              "25                                          690781810       \n",
              "\n",
              "   Porteur de projet / Investigateur\\ncoordonnateur\\nPRENOM  \\\n",
              "0                                        CHU GRENOBLE         \n",
              "1                                        CHU GRENOBLE         \n",
              "2                           ASSISTANCE PUBLIQUE AP-HP         \n",
              "3                                          CHU AMIENS         \n",
              "4                           ASSISTANCE PUBLIQUE AP-HP         \n",
              "5                                       CHU DE NANTES         \n",
              "6                             HOSPICES CIVILS DE LYON         \n",
              "7                FONDATION OPHTALMOLOGIQUE ROTHSCHILD         \n",
              "8                           ASSISTANCE PUBLIQUE AP-HP         \n",
              "9               CH INTERCOMMUNAL DE POISSY ST-GERMAIN         \n",
              "10                                       CHU GRENOBLE         \n",
              "11                     MAISON MEDICALE JEANNE GARNIER         \n",
              "12                                      CHU DE RENNES         \n",
              "13                                            CH AGEN         \n",
              "14                          ASSISTANCE PUBLIQUE AP-HP         \n",
              "15                                       CHU GRENOBLE         \n",
              "16                                      CHU DE NANTES         \n",
              "17                                      CHRU DE TOURS         \n",
              "18              GROUPE HOSPITALIER PARIS SAINT-JOSEPH         \n",
              "19  CENTRE DE SOINS DE SUITE ET DE READAPTATION SP...         \n",
              "20                                      CHU DE RENNES         \n",
              "21                                               APHM         \n",
              "22                                               APHM         \n",
              "23                            HOSPICES CIVILS DE LYON         \n",
              "24                                    CHU DE TOULOUSE         \n",
              "25                            HOSPICES CIVILS DE LYON         \n",
              "\n",
              "   N° du projet PREPS           FINESS  \\\n",
              "0          ALBALADEJO           Pierre   \n",
              "1             ALLENET           Benoit   \n",
              "2           ASTAGNEAU           Pascal   \n",
              "3             BARBARE      Jean-Claude   \n",
              "4             BOUTRON         Isabelle   \n",
              "5         BRETONNIERE          Cédric    \n",
              "6           DERUMEAUX        Geneviève   \n",
              "7               DEVYS      Jean-Michel   \n",
              "8             DURIEUX           Pierre   \n",
              "9          FAUCONNIER           Arnaud   \n",
              "10           FRANCOIS          Patrice   \n",
              "11          GUIRIMAND         Frédéric   \n",
              "12              JARNO           Pascal   \n",
              "13              LABAT          Mathieu   \n",
              "14              LUCET  Jean-Christophe   \n",
              "15             MARTIN         Claudine   \n",
              "16              MORET            Leila   \n",
              "17            POURRAT           Xavier   \n",
              "18           RAJZBAUM          Gérald    \n",
              "19              RAULT           Gilles   \n",
              "20               RIOU        Françoise   \n",
              "21              ROCH          Antoine    \n",
              "22       SARRADON-ECK            Aline   \n",
              "23             SCHOTT       Anne-Marie   \n",
              "24             TURNIN  Marie-Christine   \n",
              "25            VERMONT          Jacques   \n",
              "\n",
              "   Nom de l'établissement de santé\\ngestionnaire des fonds        Acronyme  \\\n",
              "0   Impact d'un programme pédagogique sur la cultu...          12-026-0101   \n",
              "1   Evaluation de l’apport du Dossier Pharmaceutiq...          12-026-0056   \n",
              "2   Evaluation des pratiques et analyse des risque...          12-002-0037   \n",
              "3   Essai randomisé évaluant l'intervention du Can...          12-022-0048   \n",
              "4   Comparaison de l’effet traitement entre sujets...       12-002-0014 \\n   \n",
              "5   Mesure de la Culture de Sécurité des Soins dan...          12-020-0062   \n",
              "6   Essai comparatif randomisé de deux stratégies ...          12-027-0084   \n",
              "7   SURVEILLANCE ANESTHESIQUE CENTRALISEE HORS-SAL...          12-002-0030   \n",
              "8   Evaluation de l’efficacité d’un système par le...          12-002-0076   \n",
              "9   Urgences gynécologiques : Définition et valida...          12-002-0081   \n",
              "10  Apport des comités de retour d'expérience à la...          12-026-0001   \n",
              "11  Développement et validation d'un outil standar...          12-002-0105   \n",
              "12  Le représentant des usagers dans la prévention...          12-009-0035   \n",
              "13  Comment les mangers peuvent-ils créer une cult...          12-004-0096   \n",
              "14  Connaissances et perception de la résistance b...          12-002-0077   \n",
              "15             SORties PRécoces de maternité en ISEre          12-026-0034   \n",
              "16  Bientraitance en établissemens sanitaires et e...          12-020-0040   \n",
              "17  Impact des transmissions pharmaceutiques Hôpit...          12-010-0054   \n",
              "18  Optimisation de la prise en charge de l’ostéop...          12-002-0073   \n",
              "19  Evaluation de la Performance des Microsystèmes...          12-008-0099   \n",
              "20  Connaitre et comprendre la prise en charge des...          12-009-0016   \n",
              "21  Apport de la présence régulière d’un hygiénist...          12-024-0036   \n",
              "22  Recherche évaluative des processus de mise en ...          12-024-0089   \n",
              "23  PREVention secondaire de l’OSTéoporose chez le...          12-027-0088   \n",
              "24  Evaluation de l’efficacité d’un programme de t...          12-018-0078   \n",
              "25  Etude contrôlée randomisée en cluster évaluant...          12-027-0100   \n",
              "\n",
              "    Titre du projet  Autorisation d'engagement (AE)  \n",
              "0           PROPECS                        222970.0  \n",
              "1         DP-CONCIL                        198880.0  \n",
              "2          CATHEVAL                        146960.0  \n",
              "3              ERNU                        555720.0  \n",
              "4      COMA-study\\n                         48675.0  \n",
              "5         REA-C-Sur                        130046.4  \n",
              "6           EFICARD                        491700.0  \n",
              "7             SACHS                        122760.0  \n",
              "8             DREAM                        251986.9  \n",
              "9              URGO                        101884.2  \n",
              "10            ACREX                         88880.0  \n",
              "11       ACTI-PALLI                        527274.0  \n",
              "12            RUPIN                         76184.9  \n",
              "13             RMCS                        216119.2  \n",
              "14         PerceptR                        380188.6  \n",
              "15         SORPRISE                        152394.0  \n",
              "16      CONVERGENGE                        183656.0  \n",
              "17          REPHVIM                        254056.0  \n",
              "18         OPTIPOST                        214372.4  \n",
              "19  PHAREM PERF MSC                        523250.2  \n",
              "20           PUFPAE                        215161.1  \n",
              "21         BacterHy                        414491.0  \n",
              "22            REDAP                        192830.0  \n",
              "23          PREVOST                        238260.0  \n",
              "24         EDUC@DOM                        790086.0  \n",
              "25      PLATEL-EVAL                         69960.0  "
            ],
            "text/html": [
              "\n",
              "  <div id=\"df-c62179fd-a443-4712-b9e2-5e0d815a70a9\">\n",
              "    <div class=\"colab-df-container\">\n",
              "      <div>\n",
              "<style scoped>\n",
              "    .dataframe tbody tr th:only-of-type {\n",
              "        vertical-align: middle;\n",
              "    }\n",
              "\n",
              "    .dataframe tbody tr th {\n",
              "        vertical-align: top;\n",
              "    }\n",
              "\n",
              "    .dataframe thead th {\n",
              "        text-align: right;\n",
              "    }\n",
              "</style>\n",
              "<table border=\"1\" class=\"dataframe\">\n",
              "  <thead>\n",
              "    <tr style=\"text-align: right;\">\n",
              "      <th></th>\n",
              "      <th>Porteur de projet / Investigateur\\ncoordonnateur\\nNOM</th>\n",
              "      <th>Porteur de projet / Investigateur\\ncoordonnateur\\nPRENOM</th>\n",
              "      <th>N° du projet PREPS</th>\n",
              "      <th>FINESS</th>\n",
              "      <th>Nom de l'établissement de santé\\ngestionnaire des fonds</th>\n",
              "      <th>Acronyme</th>\n",
              "      <th>Titre du projet</th>\n",
              "      <th>Autorisation d'engagement (AE)</th>\n",
              "    </tr>\n",
              "  </thead>\n",
              "  <tbody>\n",
              "    <tr>\n",
              "      <th>0</th>\n",
              "      <td>380780080</td>\n",
              "      <td>CHU GRENOBLE</td>\n",
              "      <td>ALBALADEJO</td>\n",
              "      <td>Pierre</td>\n",
              "      <td>Impact d'un programme pédagogique sur la cultu...</td>\n",
              "      <td>12-026-0101</td>\n",
              "      <td>PROPECS</td>\n",
              "      <td>222970.0</td>\n",
              "    </tr>\n",
              "    <tr>\n",
              "      <th>1</th>\n",
              "      <td>380780080</td>\n",
              "      <td>CHU GRENOBLE</td>\n",
              "      <td>ALLENET</td>\n",
              "      <td>Benoit</td>\n",
              "      <td>Evaluation de l’apport du Dossier Pharmaceutiq...</td>\n",
              "      <td>12-026-0056</td>\n",
              "      <td>DP-CONCIL</td>\n",
              "      <td>198880.0</td>\n",
              "    </tr>\n",
              "    <tr>\n",
              "      <th>2</th>\n",
              "      <td>750712184</td>\n",
              "      <td>ASSISTANCE PUBLIQUE AP-HP</td>\n",
              "      <td>ASTAGNEAU</td>\n",
              "      <td>Pascal</td>\n",
              "      <td>Evaluation des pratiques et analyse des risque...</td>\n",
              "      <td>12-002-0037</td>\n",
              "      <td>CATHEVAL</td>\n",
              "      <td>146960.0</td>\n",
              "    </tr>\n",
              "    <tr>\n",
              "      <th>3</th>\n",
              "      <td>800000044</td>\n",
              "      <td>CHU AMIENS</td>\n",
              "      <td>BARBARE</td>\n",
              "      <td>Jean-Claude</td>\n",
              "      <td>Essai randomisé évaluant l'intervention du Can...</td>\n",
              "      <td>12-022-0048</td>\n",
              "      <td>ERNU</td>\n",
              "      <td>555720.0</td>\n",
              "    </tr>\n",
              "    <tr>\n",
              "      <th>4</th>\n",
              "      <td>750712184</td>\n",
              "      <td>ASSISTANCE PUBLIQUE AP-HP</td>\n",
              "      <td>BOUTRON</td>\n",
              "      <td>Isabelle</td>\n",
              "      <td>Comparaison de l’effet traitement entre sujets...</td>\n",
              "      <td>12-002-0014 \\n</td>\n",
              "      <td>COMA-study\\n</td>\n",
              "      <td>48675.0</td>\n",
              "    </tr>\n",
              "    <tr>\n",
              "      <th>5</th>\n",
              "      <td>440000289</td>\n",
              "      <td>CHU DE NANTES</td>\n",
              "      <td>BRETONNIERE</td>\n",
              "      <td>Cédric</td>\n",
              "      <td>Mesure de la Culture de Sécurité des Soins dan...</td>\n",
              "      <td>12-020-0062</td>\n",
              "      <td>REA-C-Sur</td>\n",
              "      <td>130046.4</td>\n",
              "    </tr>\n",
              "    <tr>\n",
              "      <th>6</th>\n",
              "      <td>690781810</td>\n",
              "      <td>HOSPICES CIVILS DE LYON</td>\n",
              "      <td>DERUMEAUX</td>\n",
              "      <td>Geneviève</td>\n",
              "      <td>Essai comparatif randomisé de deux stratégies ...</td>\n",
              "      <td>12-027-0084</td>\n",
              "      <td>EFICARD</td>\n",
              "      <td>491700.0</td>\n",
              "    </tr>\n",
              "    <tr>\n",
              "      <th>7</th>\n",
              "      <td>750000549</td>\n",
              "      <td>FONDATION OPHTALMOLOGIQUE ROTHSCHILD</td>\n",
              "      <td>DEVYS</td>\n",
              "      <td>Jean-Michel</td>\n",
              "      <td>SURVEILLANCE ANESTHESIQUE CENTRALISEE HORS-SAL...</td>\n",
              "      <td>12-002-0030</td>\n",
              "      <td>SACHS</td>\n",
              "      <td>122760.0</td>\n",
              "    </tr>\n",
              "    <tr>\n",
              "      <th>8</th>\n",
              "      <td>750712184</td>\n",
              "      <td>ASSISTANCE PUBLIQUE AP-HP</td>\n",
              "      <td>DURIEUX</td>\n",
              "      <td>Pierre</td>\n",
              "      <td>Evaluation de l’efficacité d’un système par le...</td>\n",
              "      <td>12-002-0076</td>\n",
              "      <td>DREAM</td>\n",
              "      <td>251986.9</td>\n",
              "    </tr>\n",
              "    <tr>\n",
              "      <th>9</th>\n",
              "      <td>780001236</td>\n",
              "      <td>CH INTERCOMMUNAL DE POISSY ST-GERMAIN</td>\n",
              "      <td>FAUCONNIER</td>\n",
              "      <td>Arnaud</td>\n",
              "      <td>Urgences gynécologiques : Définition et valida...</td>\n",
              "      <td>12-002-0081</td>\n",
              "      <td>URGO</td>\n",
              "      <td>101884.2</td>\n",
              "    </tr>\n",
              "    <tr>\n",
              "      <th>10</th>\n",
              "      <td>380780080</td>\n",
              "      <td>CHU GRENOBLE</td>\n",
              "      <td>FRANCOIS</td>\n",
              "      <td>Patrice</td>\n",
              "      <td>Apport des comités de retour d'expérience à la...</td>\n",
              "      <td>12-026-0001</td>\n",
              "      <td>ACREX</td>\n",
              "      <td>88880.0</td>\n",
              "    </tr>\n",
              "    <tr>\n",
              "      <th>11</th>\n",
              "      <td>750000143</td>\n",
              "      <td>MAISON MEDICALE JEANNE GARNIER</td>\n",
              "      <td>GUIRIMAND</td>\n",
              "      <td>Frédéric</td>\n",
              "      <td>Développement et validation d'un outil standar...</td>\n",
              "      <td>12-002-0105</td>\n",
              "      <td>ACTI-PALLI</td>\n",
              "      <td>527274.0</td>\n",
              "    </tr>\n",
              "    <tr>\n",
              "      <th>12</th>\n",
              "      <td>350005179</td>\n",
              "      <td>CHU DE RENNES</td>\n",
              "      <td>JARNO</td>\n",
              "      <td>Pascal</td>\n",
              "      <td>Le représentant des usagers dans la prévention...</td>\n",
              "      <td>12-009-0035</td>\n",
              "      <td>RUPIN</td>\n",
              "      <td>76184.9</td>\n",
              "    </tr>\n",
              "    <tr>\n",
              "      <th>13</th>\n",
              "      <td>470000423</td>\n",
              "      <td>CH AGEN</td>\n",
              "      <td>LABAT</td>\n",
              "      <td>Mathieu</td>\n",
              "      <td>Comment les mangers peuvent-ils créer une cult...</td>\n",
              "      <td>12-004-0096</td>\n",
              "      <td>RMCS</td>\n",
              "      <td>216119.2</td>\n",
              "    </tr>\n",
              "    <tr>\n",
              "      <th>14</th>\n",
              "      <td>750712184</td>\n",
              "      <td>ASSISTANCE PUBLIQUE AP-HP</td>\n",
              "      <td>LUCET</td>\n",
              "      <td>Jean-Christophe</td>\n",
              "      <td>Connaissances et perception de la résistance b...</td>\n",
              "      <td>12-002-0077</td>\n",
              "      <td>PerceptR</td>\n",
              "      <td>380188.6</td>\n",
              "    </tr>\n",
              "    <tr>\n",
              "      <th>15</th>\n",
              "      <td>380780080</td>\n",
              "      <td>CHU GRENOBLE</td>\n",
              "      <td>MARTIN</td>\n",
              "      <td>Claudine</td>\n",
              "      <td>SORties PRécoces de maternité en ISEre</td>\n",
              "      <td>12-026-0034</td>\n",
              "      <td>SORPRISE</td>\n",
              "      <td>152394.0</td>\n",
              "    </tr>\n",
              "    <tr>\n",
              "      <th>16</th>\n",
              "      <td>440000289</td>\n",
              "      <td>CHU DE NANTES</td>\n",
              "      <td>MORET</td>\n",
              "      <td>Leila</td>\n",
              "      <td>Bientraitance en établissemens sanitaires et e...</td>\n",
              "      <td>12-020-0040</td>\n",
              "      <td>CONVERGENGE</td>\n",
              "      <td>183656.0</td>\n",
              "    </tr>\n",
              "    <tr>\n",
              "      <th>17</th>\n",
              "      <td>370000481</td>\n",
              "      <td>CHRU DE TOURS</td>\n",
              "      <td>POURRAT</td>\n",
              "      <td>Xavier</td>\n",
              "      <td>Impact des transmissions pharmaceutiques Hôpit...</td>\n",
              "      <td>12-010-0054</td>\n",
              "      <td>REPHVIM</td>\n",
              "      <td>254056.0</td>\n",
              "    </tr>\n",
              "    <tr>\n",
              "      <th>18</th>\n",
              "      <td>750000523</td>\n",
              "      <td>GROUPE HOSPITALIER PARIS SAINT-JOSEPH</td>\n",
              "      <td>RAJZBAUM</td>\n",
              "      <td>Gérald</td>\n",
              "      <td>Optimisation de la prise en charge de l’ostéop...</td>\n",
              "      <td>12-002-0073</td>\n",
              "      <td>OPTIPOST</td>\n",
              "      <td>214372.4</td>\n",
              "    </tr>\n",
              "    <tr>\n",
              "      <th>19</th>\n",
              "      <td>290000975</td>\n",
              "      <td>CENTRE DE SOINS DE SUITE ET DE READAPTATION SP...</td>\n",
              "      <td>RAULT</td>\n",
              "      <td>Gilles</td>\n",
              "      <td>Evaluation de la Performance des Microsystèmes...</td>\n",
              "      <td>12-008-0099</td>\n",
              "      <td>PHAREM PERF MSC</td>\n",
              "      <td>523250.2</td>\n",
              "    </tr>\n",
              "    <tr>\n",
              "      <th>20</th>\n",
              "      <td>350005179</td>\n",
              "      <td>CHU DE RENNES</td>\n",
              "      <td>RIOU</td>\n",
              "      <td>Françoise</td>\n",
              "      <td>Connaitre et comprendre la prise en charge des...</td>\n",
              "      <td>12-009-0016</td>\n",
              "      <td>PUFPAE</td>\n",
              "      <td>215161.1</td>\n",
              "    </tr>\n",
              "    <tr>\n",
              "      <th>21</th>\n",
              "      <td>130786049</td>\n",
              "      <td>APHM</td>\n",
              "      <td>ROCH</td>\n",
              "      <td>Antoine</td>\n",
              "      <td>Apport de la présence régulière d’un hygiénist...</td>\n",
              "      <td>12-024-0036</td>\n",
              "      <td>BacterHy</td>\n",
              "      <td>414491.0</td>\n",
              "    </tr>\n",
              "    <tr>\n",
              "      <th>22</th>\n",
              "      <td>130786049</td>\n",
              "      <td>APHM</td>\n",
              "      <td>SARRADON-ECK</td>\n",
              "      <td>Aline</td>\n",
              "      <td>Recherche évaluative des processus de mise en ...</td>\n",
              "      <td>12-024-0089</td>\n",
              "      <td>REDAP</td>\n",
              "      <td>192830.0</td>\n",
              "    </tr>\n",
              "    <tr>\n",
              "      <th>23</th>\n",
              "      <td>690781810</td>\n",
              "      <td>HOSPICES CIVILS DE LYON</td>\n",
              "      <td>SCHOTT</td>\n",
              "      <td>Anne-Marie</td>\n",
              "      <td>PREVention secondaire de l’OSTéoporose chez le...</td>\n",
              "      <td>12-027-0088</td>\n",
              "      <td>PREVOST</td>\n",
              "      <td>238260.0</td>\n",
              "    </tr>\n",
              "    <tr>\n",
              "      <th>24</th>\n",
              "      <td>310781406</td>\n",
              "      <td>CHU DE TOULOUSE</td>\n",
              "      <td>TURNIN</td>\n",
              "      <td>Marie-Christine</td>\n",
              "      <td>Evaluation de l’efficacité d’un programme de t...</td>\n",
              "      <td>12-018-0078</td>\n",
              "      <td>EDUC@DOM</td>\n",
              "      <td>790086.0</td>\n",
              "    </tr>\n",
              "    <tr>\n",
              "      <th>25</th>\n",
              "      <td>690781810</td>\n",
              "      <td>HOSPICES CIVILS DE LYON</td>\n",
              "      <td>VERMONT</td>\n",
              "      <td>Jacques</td>\n",
              "      <td>Etude contrôlée randomisée en cluster évaluant...</td>\n",
              "      <td>12-027-0100</td>\n",
              "      <td>PLATEL-EVAL</td>\n",
              "      <td>69960.0</td>\n",
              "    </tr>\n",
              "  </tbody>\n",
              "</table>\n",
              "</div>\n",
              "      <button class=\"colab-df-convert\" onclick=\"convertToInteractive('df-c62179fd-a443-4712-b9e2-5e0d815a70a9')\"\n",
              "              title=\"Convert this dataframe to an interactive table.\"\n",
              "              style=\"display:none;\">\n",
              "        \n",
              "  <svg xmlns=\"http://www.w3.org/2000/svg\" height=\"24px\"viewBox=\"0 0 24 24\"\n",
              "       width=\"24px\">\n",
              "    <path d=\"M0 0h24v24H0V0z\" fill=\"none\"/>\n",
              "    <path d=\"M18.56 5.44l.94 2.06.94-2.06 2.06-.94-2.06-.94-.94-2.06-.94 2.06-2.06.94zm-11 1L8.5 8.5l.94-2.06 2.06-.94-2.06-.94L8.5 2.5l-.94 2.06-2.06.94zm10 10l.94 2.06.94-2.06 2.06-.94-2.06-.94-.94-2.06-.94 2.06-2.06.94z\"/><path d=\"M17.41 7.96l-1.37-1.37c-.4-.4-.92-.59-1.43-.59-.52 0-1.04.2-1.43.59L10.3 9.45l-7.72 7.72c-.78.78-.78 2.05 0 2.83L4 21.41c.39.39.9.59 1.41.59.51 0 1.02-.2 1.41-.59l7.78-7.78 2.81-2.81c.8-.78.8-2.07 0-2.86zM5.41 20L4 18.59l7.72-7.72 1.47 1.35L5.41 20z\"/>\n",
              "  </svg>\n",
              "      </button>\n",
              "      \n",
              "  <style>\n",
              "    .colab-df-container {\n",
              "      display:flex;\n",
              "      flex-wrap:wrap;\n",
              "      gap: 12px;\n",
              "    }\n",
              "\n",
              "    .colab-df-convert {\n",
              "      background-color: #E8F0FE;\n",
              "      border: none;\n",
              "      border-radius: 50%;\n",
              "      cursor: pointer;\n",
              "      display: none;\n",
              "      fill: #1967D2;\n",
              "      height: 32px;\n",
              "      padding: 0 0 0 0;\n",
              "      width: 32px;\n",
              "    }\n",
              "\n",
              "    .colab-df-convert:hover {\n",
              "      background-color: #E2EBFA;\n",
              "      box-shadow: 0px 1px 2px rgba(60, 64, 67, 0.3), 0px 1px 3px 1px rgba(60, 64, 67, 0.15);\n",
              "      fill: #174EA6;\n",
              "    }\n",
              "\n",
              "    [theme=dark] .colab-df-convert {\n",
              "      background-color: #3B4455;\n",
              "      fill: #D2E3FC;\n",
              "    }\n",
              "\n",
              "    [theme=dark] .colab-df-convert:hover {\n",
              "      background-color: #434B5C;\n",
              "      box-shadow: 0px 1px 3px 1px rgba(0, 0, 0, 0.15);\n",
              "      filter: drop-shadow(0px 1px 2px rgba(0, 0, 0, 0.3));\n",
              "      fill: #FFFFFF;\n",
              "    }\n",
              "  </style>\n",
              "\n",
              "      <script>\n",
              "        const buttonEl =\n",
              "          document.querySelector('#df-c62179fd-a443-4712-b9e2-5e0d815a70a9 button.colab-df-convert');\n",
              "        buttonEl.style.display =\n",
              "          google.colab.kernel.accessAllowed ? 'block' : 'none';\n",
              "\n",
              "        async function convertToInteractive(key) {\n",
              "          const element = document.querySelector('#df-c62179fd-a443-4712-b9e2-5e0d815a70a9');\n",
              "          const dataTable =\n",
              "            await google.colab.kernel.invokeFunction('convertToInteractive',\n",
              "                                                     [key], {});\n",
              "          if (!dataTable) return;\n",
              "\n",
              "          const docLinkHtml = 'Like what you see? Visit the ' +\n",
              "            '<a target=\"_blank\" href=https://colab.research.google.com/notebooks/data_table.ipynb>data table notebook</a>'\n",
              "            + ' to learn more about interactive tables.';\n",
              "          element.innerHTML = '';\n",
              "          dataTable['output_type'] = 'display_data';\n",
              "          await google.colab.output.renderOutput(dataTable, element);\n",
              "          const docLink = document.createElement('div');\n",
              "          docLink.innerHTML = docLinkHtml;\n",
              "          element.appendChild(docLink);\n",
              "        }\n",
              "      </script>\n",
              "    </div>\n",
              "  </div>\n",
              "  "
            ]
          },
          "metadata": {},
          "execution_count": 47
        }
      ]
    },
    {
      "cell_type": "code",
      "source": [
        "df2 = pd.read_excel(\"/content/RESULTAT-PREPS-SIPS-2012.xls\")"
      ],
      "metadata": {
        "id": "rAqw7E_JIhG5"
      },
      "execution_count": null,
      "outputs": []
    },
    {
      "cell_type": "code",
      "source": [
        "df3 = pd.read_excel(\"/content/Resultats_PREPS-DP_2013.xlsx\")"
      ],
      "metadata": {
        "id": "hcn39q-SIhJi"
      },
      "execution_count": null,
      "outputs": []
    },
    {
      "cell_type": "code",
      "source": [
        "df3.columns"
      ],
      "metadata": {
        "colab": {
          "base_uri": "https://localhost:8080/"
        },
        "id": "G9SLYYusN8Oh",
        "outputId": "42bfd20a-48e7-41a0-c193-85eb3dec6115"
      },
      "execution_count": null,
      "outputs": [
        {
          "output_type": "execute_result",
          "data": {
            "text/plain": [
              "Index(['FINESS\\njuridique', 'Nom de l'établissement de santé\\ncoordonnateur',\n",
              "       'Porteur de projet / Investigateur\\ncoordonnateur\\nNOM',\n",
              "       'Porteur de projet / Investigateur\\ncoordonnateur\\nPRENOM',\n",
              "       'Titre du projet', 'N° du projet',\n",
              "       'Champ \"Innovation Recherche\" du PMSI', 'Acronyme',\n",
              "       'Montant accordé sous conditions de suivi (€)'],\n",
              "      dtype='object')"
            ]
          },
          "metadata": {},
          "execution_count": 24
        }
      ]
    },
    {
      "cell_type": "code",
      "source": [
        "df3=df3.drop('Champ \"Innovation Recherche\" du PMSI', axis=1)"
      ],
      "metadata": {
        "id": "uRS0s1grOyGo"
      },
      "execution_count": null,
      "outputs": []
    },
    {
      "cell_type": "code",
      "source": [
        "df3.columns"
      ],
      "metadata": {
        "colab": {
          "base_uri": "https://localhost:8080/"
        },
        "id": "zFNrIy5sPaRx",
        "outputId": "f0660e8e-8672-417c-acdc-72e1c60ec6b6"
      },
      "execution_count": null,
      "outputs": [
        {
          "output_type": "execute_result",
          "data": {
            "text/plain": [
              "Index(['FINESS\\njuridique', 'Nom de l'établissement de santé\\ncoordonnateur',\n",
              "       'Porteur de projet / Investigateur\\ncoordonnateur\\nNOM',\n",
              "       'Porteur de projet / Investigateur\\ncoordonnateur\\nPRENOM',\n",
              "       'Titre du projet', 'N° du projet', 'Acronyme',\n",
              "       'Montant accordé sous conditions de suivi (€)'],\n",
              "      dtype='object')"
            ]
          },
          "metadata": {},
          "execution_count": 29
        }
      ]
    },
    {
      "cell_type": "code",
      "source": [
        "df2.columns"
      ],
      "metadata": {
        "colab": {
          "base_uri": "https://localhost:8080/"
        },
        "id": "43gThmtROA53",
        "outputId": "5a481473-9999-4e44-feca-f4935da7f8cf"
      },
      "execution_count": null,
      "outputs": [
        {
          "output_type": "execute_result",
          "data": {
            "text/plain": [
              "Index(['FINESS\\njuridique',\n",
              "       'Nom de l'Etablissement de Santé\\ndu Porteur de Projet/Investigateur\\nCoordonnateur',\n",
              "       'Porteur de Projet/Investigateur\\nCoordonnateur\\nNOM',\n",
              "       'Porteur de Projet/Investigateur\\nCoordonnateur\\nPRENOM',\n",
              "       'Titre du projet', 'N° du projet', 'Acronyme',\n",
              "       'Montant maximal PREVISIONNEL (accordé  sous conditions de suivi)'],\n",
              "      dtype='object')"
            ]
          },
          "metadata": {},
          "execution_count": 26
        }
      ]
    },
    {
      "cell_type": "code",
      "source": [
        "df4 = pd.read_excel(\"/content/Resultats_PREPS-IQ_2013.xlsx\")"
      ],
      "metadata": {
        "id": "UK0-274iIhLo"
      },
      "execution_count": null,
      "outputs": []
    },
    {
      "cell_type": "code",
      "source": [
        "df4.columns"
      ],
      "metadata": {
        "colab": {
          "base_uri": "https://localhost:8080/"
        },
        "id": "fkKn6O4iPwFG",
        "outputId": "b9d93dfa-f451-4fb5-f15b-ac050d0d1553"
      },
      "execution_count": null,
      "outputs": [
        {
          "output_type": "execute_result",
          "data": {
            "text/plain": [
              "Index(['FINESS\\njuridique', 'Nom de l'établissement de santé\\ncoordonnateur',\n",
              "       'Porteur de projet / Investigateur\\ncoordonnateur\\nNOM',\n",
              "       'Porteur de projet / Investigateur\\ncoordonnateur\\nPRENOM',\n",
              "       'Titre du projet', 'N° du projet',\n",
              "       'Champ \"Innovation Recherche\" du PMSI', 'Acronyme',\n",
              "       'Montant accordé sous conditions de suivi (€)'],\n",
              "      dtype='object')"
            ]
          },
          "metadata": {},
          "execution_count": 32
        }
      ]
    },
    {
      "cell_type": "code",
      "source": [
        "df4=df4.drop('Champ \"Innovation Recherche\" du PMSI', axis=1)"
      ],
      "metadata": {
        "id": "Z3OvR2ZjP9We"
      },
      "execution_count": null,
      "outputs": []
    },
    {
      "cell_type": "code",
      "source": [
        "df5 = pd.read_excel(\"/content/Resultats_PREPS_2013.xlsx\")"
      ],
      "metadata": {
        "id": "9dhh5JgfIhOE"
      },
      "execution_count": null,
      "outputs": []
    },
    {
      "cell_type": "code",
      "source": [
        "df6 = pd.read_excel(\"/content/Resultats_PREPS_2014.xls\")"
      ],
      "metadata": {
        "id": "3pLw2KW8IhRn"
      },
      "execution_count": null,
      "outputs": []
    },
    {
      "cell_type": "code",
      "source": [
        "df7 = pd.read_excel(\"/content/preps_20_resultatsselection_v2-0_20211006_mel.xls\")"
      ],
      "metadata": {
        "id": "aWkldX_HIx3e"
      },
      "execution_count": null,
      "outputs": []
    },
    {
      "cell_type": "code",
      "source": [
        "df8 = pd.read_excel(\"/content/preps_21_resultatsselection_v0-0_20220713_me1.xlsx\")"
      ],
      "metadata": {
        "id": "AZc3NRKwIyBh"
      },
      "execution_count": null,
      "outputs": []
    },
    {
      "cell_type": "code",
      "source": [
        "df8.columns"
      ],
      "metadata": {
        "colab": {
          "base_uri": "https://localhost:8080/"
        },
        "id": "fxoXaOHTQW3v",
        "outputId": "0af049e9-cf64-4c16-fac0-dd124e82f450"
      },
      "execution_count": null,
      "outputs": [
        {
          "output_type": "execute_result",
          "data": {
            "text/plain": [
              "Index(['Porteur de projet / Investigateur\\ncoordonnateur\\nNOM',\n",
              "       'Porteur de projet / Investigateur\\ncoordonnateur\\nPRENOM',\n",
              "       'N° du projet PREPS',\n",
              "       'Nom de l'établissement de santé\\ngestionnaire des fonds', 'Acronyme',\n",
              "       'Titre du projet', 'Autorisation d'engagement (AE)'],\n",
              "      dtype='object')"
            ]
          },
          "metadata": {},
          "execution_count": 39
        }
      ]
    },
    {
      "cell_type": "code",
      "source": [
        "df9 = pd.read_excel(\"/content/resultats_preps_2015_mel.xls\")"
      ],
      "metadata": {
        "id": "0ChrpbbeIyE8"
      },
      "execution_count": null,
      "outputs": []
    },
    {
      "cell_type": "code",
      "source": [
        "df9.columns"
      ],
      "metadata": {
        "colab": {
          "base_uri": "https://localhost:8080/"
        },
        "id": "2zm6b-BiQ532",
        "outputId": "631e2ba8-a26e-42d6-c8d5-6eba9bd5dca0"
      },
      "execution_count": null,
      "outputs": [
        {
          "output_type": "execute_result",
          "data": {
            "text/plain": [
              "Index(['FINESS\\njuridique',\n",
              "       'Nom de l'établissement de santé\\ngestionnaire des fonds',\n",
              "       'Porteur de projet / Investigateur\\ncoordonnateur\\nNOM',\n",
              "       'Porteur de projet / Investigateur\\ncoordonnateur\\nPRENOM',\n",
              "       'Titre du projet', 'N° du projet', 'Acronyme',\n",
              "       'Autorisation d'engagement (€)'],\n",
              "      dtype='object')"
            ]
          },
          "metadata": {},
          "execution_count": 40
        }
      ]
    },
    {
      "cell_type": "code",
      "source": [
        "df10 = pd.read_excel(\"/content/resultats_preps_2016_mel.xlsx\")"
      ],
      "metadata": {
        "id": "FVWtL3efJKH8"
      },
      "execution_count": null,
      "outputs": []
    },
    {
      "cell_type": "code",
      "source": [
        "df11 = pd.read_excel(\"/content/resultats_preps_2017_040118.xlsx\")"
      ],
      "metadata": {
        "id": "SJxnx_aaJKSI"
      },
      "execution_count": null,
      "outputs": []
    },
    {
      "cell_type": "code",
      "source": [],
      "metadata": {
        "id": "dS5tnzLtSKT4"
      },
      "execution_count": null,
      "outputs": []
    },
    {
      "cell_type": "code",
      "source": [
        "df12 = pd.read_excel(\"/content/resultats_preps_2018_mel.xlsx\")"
      ],
      "metadata": {
        "id": "M4PlJ8olJKVj"
      },
      "execution_count": null,
      "outputs": []
    },
    {
      "cell_type": "code",
      "source": [
        "df13= pd.read_excel(\"/content/resultats_preps_2019_mel_v0-2_20200102.xlsx\")"
      ],
      "metadata": {
        "id": "JvleeZkMJQtI"
      },
      "execution_count": null,
      "outputs": []
    },
    {
      "cell_type": "code",
      "source": [
        "!pip install xlrd==1.2.0"
      ],
      "metadata": {
        "colab": {
          "base_uri": "https://localhost:8080/",
          "height": 277
        },
        "id": "xICIB7FUH5Ep",
        "outputId": "c815449b-362f-4005-c665-8e200e8789a0"
      },
      "execution_count": null,
      "outputs": [
        {
          "output_type": "stream",
          "name": "stdout",
          "text": [
            "Looking in indexes: https://pypi.org/simple, https://us-python.pkg.dev/colab-wheels/public/simple/\n",
            "Collecting xlrd==1.2.0\n",
            "  Downloading xlrd-1.2.0-py2.py3-none-any.whl (103 kB)\n",
            "\u001b[K     |████████████████████████████████| 103 kB 32.3 MB/s \n",
            "\u001b[?25hInstalling collected packages: xlrd\n",
            "  Attempting uninstall: xlrd\n",
            "    Found existing installation: xlrd 1.1.0\n",
            "    Uninstalling xlrd-1.1.0:\n",
            "      Successfully uninstalled xlrd-1.1.0\n",
            "Successfully installed xlrd-1.2.0\n"
          ]
        },
        {
          "output_type": "display_data",
          "data": {
            "application/vnd.colab-display-data+json": {
              "pip_warning": {
                "packages": [
                  "xlrd"
                ]
              }
            }
          },
          "metadata": {}
        }
      ]
    },
    {
      "cell_type": "code",
      "source": [
        "df1.columns = df2.columns = df3.columns = df4.columns = df5.columns = df6.columns = df7.columns = df9.columns = df10.columns = df11.columns = df12.columns = df13.columns"
      ],
      "metadata": {
        "id": "KkBgb0NWK0mp"
      },
      "execution_count": null,
      "outputs": []
    },
    {
      "cell_type": "code",
      "source": [
        "DFF= pd.concat([df1,df2, df3,df4,df5,df6,df7,df9,df10,df11,df12,df13, df8])"
      ],
      "metadata": {
        "id": "NjFM3hkPSLgF"
      },
      "execution_count": null,
      "outputs": []
    },
    {
      "cell_type": "code",
      "source": [
        "DFF"
      ],
      "metadata": {
        "colab": {
          "base_uri": "https://localhost:8080/",
          "height": 956
        },
        "id": "T5VPztkdUUV8",
        "outputId": "ea81f05b-7ec5-4856-f021-9f18108d3f45"
      },
      "execution_count": null,
      "outputs": [
        {
          "output_type": "execute_result",
          "data": {
            "text/plain": [
              "   Porteur de projet / Investigateur\\ncoordonnateur\\nNOM  \\\n",
              "0                                           380780080      \n",
              "1                                           380780080      \n",
              "2                                           750712184      \n",
              "3                                           800000044      \n",
              "4                                           750712184      \n",
              "..                                                ...      \n",
              "19                                               PONS      \n",
              "20                                            ROLLAND      \n",
              "21                                             STORME      \n",
              "22                                            TINLAND      \n",
              "23  *Financé sous réserve de la prise en compte de...      \n",
              "\n",
              "   Porteur de projet / Investigateur\\ncoordonnateur\\nPRENOM  \\\n",
              "0                                        CHU GRENOBLE         \n",
              "1                                        CHU GRENOBLE         \n",
              "2                           ASSISTANCE PUBLIQUE AP-HP         \n",
              "3                                          CHU AMIENS         \n",
              "4                           ASSISTANCE PUBLIQUE AP-HP         \n",
              "..                                                ...         \n",
              "19                                         Christelle         \n",
              "20                                           Benjamin         \n",
              "21                                            Laurent         \n",
              "22                                            Aurélie         \n",
              "23                                                NaN         \n",
              "\n",
              "   N° du projet PREPS       FINESS  \\\n",
              "0          ALBALADEJO       Pierre   \n",
              "1             ALLENET       Benoit   \n",
              "2           ASTAGNEAU       Pascal   \n",
              "3             BARBARE  Jean-Claude   \n",
              "4             BOUTRON     Isabelle   \n",
              "..                ...          ...   \n",
              "19      PREPS-21-0061          NaN   \n",
              "20      PREPS-21-0031          NaN   \n",
              "21      PREPS-21-0023          NaN   \n",
              "22      PREPS-21-0109          NaN   \n",
              "23                NaN          NaN   \n",
              "\n",
              "   Nom de l'établissement de santé\\ngestionnaire des fonds         Acronyme  \\\n",
              "0   Impact d'un programme pédagogique sur la cultu...           12-026-0101   \n",
              "1   Evaluation de l’apport du Dossier Pharmaceutiq...           12-026-0056   \n",
              "2   Evaluation des pratiques et analyse des risque...           12-002-0037   \n",
              "3   Essai randomisé évaluant l'intervention du Can...           12-022-0048   \n",
              "4   Comparaison de l’effet traitement entre sujets...        12-002-0014 \\n   \n",
              "..                                                ...                   ...   \n",
              "19                                         CHRU BREST            Read'app't   \n",
              "20                            HOSPICES CIVILS DE LYON              PEERSIAD   \n",
              "21                                          CHR LILLE       1000days4health   \n",
              "22                            APHM DIRECTION GENERALE              DIDOUDAP   \n",
              "23                                                NaN                   NaN   \n",
              "\n",
              "                                      Titre du projet  \\\n",
              "0                                             PROPECS   \n",
              "1                                           DP-CONCIL   \n",
              "2                                            CATHEVAL   \n",
              "3                                                ERNU   \n",
              "4                                        COMA-study\\n   \n",
              "..                                                ...   \n",
              "19  Impact de l’outil digital « Kid’EM app » de gu...   \n",
              "20  Soutien par patients-experts dans l'alcoolo-dé...   \n",
              "21  Etude randomisée, multicentrique, en bras para...   \n",
              "22  Leviers et obstacles à la DIffusion de Dfféren...   \n",
              "23                                                NaN   \n",
              "\n",
              "   Autorisation d'engagement (AE)  \n",
              "0                        222970.0  \n",
              "1                        198880.0  \n",
              "2                        146960.0  \n",
              "3                        555720.0  \n",
              "4                         48675.0  \n",
              "..                            ...  \n",
              "19                         403360  \n",
              "20                         657015  \n",
              "21                        1450000  \n",
              "22                         213670  \n",
              "23                            NaN  \n",
              "\n",
              "[289 rows x 8 columns]"
            ],
            "text/html": [
              "\n",
              "  <div id=\"df-7a8e3901-6126-4755-8497-377ea8a3d84b\">\n",
              "    <div class=\"colab-df-container\">\n",
              "      <div>\n",
              "<style scoped>\n",
              "    .dataframe tbody tr th:only-of-type {\n",
              "        vertical-align: middle;\n",
              "    }\n",
              "\n",
              "    .dataframe tbody tr th {\n",
              "        vertical-align: top;\n",
              "    }\n",
              "\n",
              "    .dataframe thead th {\n",
              "        text-align: right;\n",
              "    }\n",
              "</style>\n",
              "<table border=\"1\" class=\"dataframe\">\n",
              "  <thead>\n",
              "    <tr style=\"text-align: right;\">\n",
              "      <th></th>\n",
              "      <th>Porteur de projet / Investigateur\\ncoordonnateur\\nNOM</th>\n",
              "      <th>Porteur de projet / Investigateur\\ncoordonnateur\\nPRENOM</th>\n",
              "      <th>N° du projet PREPS</th>\n",
              "      <th>FINESS</th>\n",
              "      <th>Nom de l'établissement de santé\\ngestionnaire des fonds</th>\n",
              "      <th>Acronyme</th>\n",
              "      <th>Titre du projet</th>\n",
              "      <th>Autorisation d'engagement (AE)</th>\n",
              "    </tr>\n",
              "  </thead>\n",
              "  <tbody>\n",
              "    <tr>\n",
              "      <th>0</th>\n",
              "      <td>380780080</td>\n",
              "      <td>CHU GRENOBLE</td>\n",
              "      <td>ALBALADEJO</td>\n",
              "      <td>Pierre</td>\n",
              "      <td>Impact d'un programme pédagogique sur la cultu...</td>\n",
              "      <td>12-026-0101</td>\n",
              "      <td>PROPECS</td>\n",
              "      <td>222970.0</td>\n",
              "    </tr>\n",
              "    <tr>\n",
              "      <th>1</th>\n",
              "      <td>380780080</td>\n",
              "      <td>CHU GRENOBLE</td>\n",
              "      <td>ALLENET</td>\n",
              "      <td>Benoit</td>\n",
              "      <td>Evaluation de l’apport du Dossier Pharmaceutiq...</td>\n",
              "      <td>12-026-0056</td>\n",
              "      <td>DP-CONCIL</td>\n",
              "      <td>198880.0</td>\n",
              "    </tr>\n",
              "    <tr>\n",
              "      <th>2</th>\n",
              "      <td>750712184</td>\n",
              "      <td>ASSISTANCE PUBLIQUE AP-HP</td>\n",
              "      <td>ASTAGNEAU</td>\n",
              "      <td>Pascal</td>\n",
              "      <td>Evaluation des pratiques et analyse des risque...</td>\n",
              "      <td>12-002-0037</td>\n",
              "      <td>CATHEVAL</td>\n",
              "      <td>146960.0</td>\n",
              "    </tr>\n",
              "    <tr>\n",
              "      <th>3</th>\n",
              "      <td>800000044</td>\n",
              "      <td>CHU AMIENS</td>\n",
              "      <td>BARBARE</td>\n",
              "      <td>Jean-Claude</td>\n",
              "      <td>Essai randomisé évaluant l'intervention du Can...</td>\n",
              "      <td>12-022-0048</td>\n",
              "      <td>ERNU</td>\n",
              "      <td>555720.0</td>\n",
              "    </tr>\n",
              "    <tr>\n",
              "      <th>4</th>\n",
              "      <td>750712184</td>\n",
              "      <td>ASSISTANCE PUBLIQUE AP-HP</td>\n",
              "      <td>BOUTRON</td>\n",
              "      <td>Isabelle</td>\n",
              "      <td>Comparaison de l’effet traitement entre sujets...</td>\n",
              "      <td>12-002-0014 \\n</td>\n",
              "      <td>COMA-study\\n</td>\n",
              "      <td>48675.0</td>\n",
              "    </tr>\n",
              "    <tr>\n",
              "      <th>...</th>\n",
              "      <td>...</td>\n",
              "      <td>...</td>\n",
              "      <td>...</td>\n",
              "      <td>...</td>\n",
              "      <td>...</td>\n",
              "      <td>...</td>\n",
              "      <td>...</td>\n",
              "      <td>...</td>\n",
              "    </tr>\n",
              "    <tr>\n",
              "      <th>19</th>\n",
              "      <td>PONS</td>\n",
              "      <td>Christelle</td>\n",
              "      <td>PREPS-21-0061</td>\n",
              "      <td>NaN</td>\n",
              "      <td>CHRU BREST</td>\n",
              "      <td>Read'app't</td>\n",
              "      <td>Impact de l’outil digital « Kid’EM app » de gu...</td>\n",
              "      <td>403360</td>\n",
              "    </tr>\n",
              "    <tr>\n",
              "      <th>20</th>\n",
              "      <td>ROLLAND</td>\n",
              "      <td>Benjamin</td>\n",
              "      <td>PREPS-21-0031</td>\n",
              "      <td>NaN</td>\n",
              "      <td>HOSPICES CIVILS DE LYON</td>\n",
              "      <td>PEERSIAD</td>\n",
              "      <td>Soutien par patients-experts dans l'alcoolo-dé...</td>\n",
              "      <td>657015</td>\n",
              "    </tr>\n",
              "    <tr>\n",
              "      <th>21</th>\n",
              "      <td>STORME</td>\n",
              "      <td>Laurent</td>\n",
              "      <td>PREPS-21-0023</td>\n",
              "      <td>NaN</td>\n",
              "      <td>CHR LILLE</td>\n",
              "      <td>1000days4health</td>\n",
              "      <td>Etude randomisée, multicentrique, en bras para...</td>\n",
              "      <td>1450000</td>\n",
              "    </tr>\n",
              "    <tr>\n",
              "      <th>22</th>\n",
              "      <td>TINLAND</td>\n",
              "      <td>Aurélie</td>\n",
              "      <td>PREPS-21-0109</td>\n",
              "      <td>NaN</td>\n",
              "      <td>APHM DIRECTION GENERALE</td>\n",
              "      <td>DIDOUDAP</td>\n",
              "      <td>Leviers et obstacles à la DIffusion de Dfféren...</td>\n",
              "      <td>213670</td>\n",
              "    </tr>\n",
              "    <tr>\n",
              "      <th>23</th>\n",
              "      <td>*Financé sous réserve de la prise en compte de...</td>\n",
              "      <td>NaN</td>\n",
              "      <td>NaN</td>\n",
              "      <td>NaN</td>\n",
              "      <td>NaN</td>\n",
              "      <td>NaN</td>\n",
              "      <td>NaN</td>\n",
              "      <td>NaN</td>\n",
              "    </tr>\n",
              "  </tbody>\n",
              "</table>\n",
              "<p>289 rows × 8 columns</p>\n",
              "</div>\n",
              "      <button class=\"colab-df-convert\" onclick=\"convertToInteractive('df-7a8e3901-6126-4755-8497-377ea8a3d84b')\"\n",
              "              title=\"Convert this dataframe to an interactive table.\"\n",
              "              style=\"display:none;\">\n",
              "        \n",
              "  <svg xmlns=\"http://www.w3.org/2000/svg\" height=\"24px\"viewBox=\"0 0 24 24\"\n",
              "       width=\"24px\">\n",
              "    <path d=\"M0 0h24v24H0V0z\" fill=\"none\"/>\n",
              "    <path d=\"M18.56 5.44l.94 2.06.94-2.06 2.06-.94-2.06-.94-.94-2.06-.94 2.06-2.06.94zm-11 1L8.5 8.5l.94-2.06 2.06-.94-2.06-.94L8.5 2.5l-.94 2.06-2.06.94zm10 10l.94 2.06.94-2.06 2.06-.94-2.06-.94-.94-2.06-.94 2.06-2.06.94z\"/><path d=\"M17.41 7.96l-1.37-1.37c-.4-.4-.92-.59-1.43-.59-.52 0-1.04.2-1.43.59L10.3 9.45l-7.72 7.72c-.78.78-.78 2.05 0 2.83L4 21.41c.39.39.9.59 1.41.59.51 0 1.02-.2 1.41-.59l7.78-7.78 2.81-2.81c.8-.78.8-2.07 0-2.86zM5.41 20L4 18.59l7.72-7.72 1.47 1.35L5.41 20z\"/>\n",
              "  </svg>\n",
              "      </button>\n",
              "      \n",
              "  <style>\n",
              "    .colab-df-container {\n",
              "      display:flex;\n",
              "      flex-wrap:wrap;\n",
              "      gap: 12px;\n",
              "    }\n",
              "\n",
              "    .colab-df-convert {\n",
              "      background-color: #E8F0FE;\n",
              "      border: none;\n",
              "      border-radius: 50%;\n",
              "      cursor: pointer;\n",
              "      display: none;\n",
              "      fill: #1967D2;\n",
              "      height: 32px;\n",
              "      padding: 0 0 0 0;\n",
              "      width: 32px;\n",
              "    }\n",
              "\n",
              "    .colab-df-convert:hover {\n",
              "      background-color: #E2EBFA;\n",
              "      box-shadow: 0px 1px 2px rgba(60, 64, 67, 0.3), 0px 1px 3px 1px rgba(60, 64, 67, 0.15);\n",
              "      fill: #174EA6;\n",
              "    }\n",
              "\n",
              "    [theme=dark] .colab-df-convert {\n",
              "      background-color: #3B4455;\n",
              "      fill: #D2E3FC;\n",
              "    }\n",
              "\n",
              "    [theme=dark] .colab-df-convert:hover {\n",
              "      background-color: #434B5C;\n",
              "      box-shadow: 0px 1px 3px 1px rgba(0, 0, 0, 0.15);\n",
              "      filter: drop-shadow(0px 1px 2px rgba(0, 0, 0, 0.3));\n",
              "      fill: #FFFFFF;\n",
              "    }\n",
              "  </style>\n",
              "\n",
              "      <script>\n",
              "        const buttonEl =\n",
              "          document.querySelector('#df-7a8e3901-6126-4755-8497-377ea8a3d84b button.colab-df-convert');\n",
              "        buttonEl.style.display =\n",
              "          google.colab.kernel.accessAllowed ? 'block' : 'none';\n",
              "\n",
              "        async function convertToInteractive(key) {\n",
              "          const element = document.querySelector('#df-7a8e3901-6126-4755-8497-377ea8a3d84b');\n",
              "          const dataTable =\n",
              "            await google.colab.kernel.invokeFunction('convertToInteractive',\n",
              "                                                     [key], {});\n",
              "          if (!dataTable) return;\n",
              "\n",
              "          const docLinkHtml = 'Like what you see? Visit the ' +\n",
              "            '<a target=\"_blank\" href=https://colab.research.google.com/notebooks/data_table.ipynb>data table notebook</a>'\n",
              "            + ' to learn more about interactive tables.';\n",
              "          element.innerHTML = '';\n",
              "          dataTable['output_type'] = 'display_data';\n",
              "          await google.colab.output.renderOutput(dataTable, element);\n",
              "          const docLink = document.createElement('div');\n",
              "          docLink.innerHTML = docLinkHtml;\n",
              "          element.appendChild(docLink);\n",
              "        }\n",
              "      </script>\n",
              "    </div>\n",
              "  </div>\n",
              "  "
            ]
          },
          "metadata": {},
          "execution_count": 57
        }
      ]
    }
  ]
}