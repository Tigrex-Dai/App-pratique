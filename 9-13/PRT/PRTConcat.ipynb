{
  "nbformat": 4,
  "nbformat_minor": 0,
  "metadata": {
    "colab": {
      "provenance": [],
      "collapsed_sections": [],
      "authorship_tag": "ABX9TyOSZG1AHycuDgxd+CxAwCS5",
      "include_colab_link": true
    },
    "kernelspec": {
      "name": "python3",
      "display_name": "Python 3"
    },
    "language_info": {
      "name": "python"
    }
  },
  "cells": [
    {
      "cell_type": "markdown",
      "metadata": {
        "id": "view-in-github",
        "colab_type": "text"
      },
      "source": [
        "<a href=\"https://colab.research.google.com/github/Tigrex-Dai/App-pratique/blob/master/9-13/PRT/PRTConcat.ipynb\" target=\"_parent\"><img src=\"https://colab.research.google.com/assets/colab-badge.svg\" alt=\"Open In Colab\"/></a>"
      ]
    },
    {
      "cell_type": "code",
      "execution_count": null,
      "metadata": {
        "id": "LqbnGZfAWEVU"
      },
      "outputs": [],
      "source": [
        "!pip install pandas\n",
        "!pip install xlrd==1.2.0\n",
        "!pip install numpy"
      ]
    },
    {
      "cell_type": "code",
      "source": [
        "import pandas as pd\n",
        "import numpy as np"
      ],
      "metadata": {
        "id": "ikpPNvf3iGlB"
      },
      "execution_count": 2,
      "outputs": []
    },
    {
      "cell_type": "code",
      "source": [
        "df2013 = pd.read_excel(\"/content/Data/resultats_prts_2013.xlsx\")\n",
        "df2014S = pd.read_excel(\"/content/Data/resultat-prts-2014.xls\")\n",
        "df2014K = pd.read_excel(\"/content/Data/resultats_prtk_2014.xls\")\n",
        "df2015S = pd.read_excel(\"/content/Data/projets_retenus_prts_2015.xlsx\")\n",
        "df2015K = pd.read_excel(\"/content/Data/projets_retenus_prtk_2015.xlsx\")\n",
        "df2016S = pd.read_excel(\"/content/Data/resultats_prt-s_2016_mel.xlsx\")\n",
        "df2016K = pd.read_excel(\"/content/Data/resultats_prt-k_2016_mel.xlsx\")\n",
        "df2017S = pd.read_excel(\"/content/Data/resultats_prt-s_2017_040118.xlsx\")\n",
        "df2017K = pd.read_excel(\"/content/Data/resultats_prt-k_2017_040118.xlsx\")\n",
        "df2018S = pd.read_excel(\"/content/Data/resultats_prt-s_2018_mel.xlsx\")\n",
        "df2018K = pd.read_excel(\"/content/Data/resultats_prt-k_2018_mel.xlsx\")\n",
        "df2019S = pd.read_excel(\"/content/Data/resultats_prt-s_2019_mel.xlsx\")\n",
        "df2019K = pd.read_excel(\"/content/Data/resultats_prt-k_2019_mel_v0-2_20200205.xlsx\")\n",
        "df2020S = pd.read_excel(\"/content/Data/prts_20_resultatsselection_v0-3_20201006_mel.xlsx\")\n",
        "df2020K = pd.read_excel(\"/content/Data/prt-k_20_resultatsselection_v0-0_20210624_mel.xlsx\")"
      ],
      "metadata": {
        "id": "yV7qTTVVkFtT"
      },
      "execution_count": 41,
      "outputs": []
    },
    {
      "cell_type": "code",
      "source": [
        "df2013[\"Année\"] = \"2013\"\n",
        "df2013[\"Type\"] = \"S\"\n",
        "df2014S[\"Année\"] = \"2014\"\n",
        "df2014S[\"Type\"] = \"S\"\n",
        "df2014K[\"Année\"] = \"2014\"\n",
        "df2014K[\"Type\"] = \"K\"\n",
        "df2015S[\"Année\"] = \"2015\"\n",
        "df2015S[\"Type\"] = \"S\"\n",
        "df2015K[\"Année\"] = \"2015\"\n",
        "df2015K[\"Type\"] = \"K\"\n",
        "df2016S[\"Année\"] = \"2016\"\n",
        "df2016S[\"Type\"] = \"S\"\n",
        "df2016K[\"Année\"] = \"2016\"\n",
        "df2016K[\"Type\"] = \"K\"\n",
        "df2017S[\"Année\"] = \"2017\"\n",
        "df2017S[\"Type\"] = \"S\"\n",
        "df2017K[\"Année\"] = \"2017\"\n",
        "df2017K[\"Type\"] = \"K\"\n",
        "df2018S[\"Année\"] = \"2018\"\n",
        "df2018S[\"Type\"] = \"S\"\n",
        "df2018K[\"Année\"] = \"2018\"\n",
        "df2018K[\"Type\"] = \"K\"\n",
        "df2019S[\"Année\"] = \"2019\"\n",
        "df2019S[\"Type\"] = \"S\"\n",
        "df2019K[\"Année\"] = \"2019\"\n",
        "df2019K[\"Type\"] = \"K\"\n",
        "df2020S[\"Année\"] = \"2020\"\n",
        "df2020S[\"Type\"] = \"S\"\n",
        "df2020K[\"Année\"] = \"2020\"\n",
        "df2020K[\"Type\"] = \"K\""
      ],
      "metadata": {
        "id": "2LCgrZ61oLeZ"
      },
      "execution_count": 42,
      "outputs": []
    },
    {
      "cell_type": "code",
      "source": [
        "df2013.columns = [\"Finess\",\"Nom de l'établissement\",\"NomInvestigateur\",\"PrénomInvestigateur\",\"TitreProjet\",\"NuméroProjet\",\"Acronyme\",\"MontantAccordé\",\"Année\",\"Type\"]\n",
        "df2013"
      ],
      "metadata": {
        "id": "3ia36RBAptam"
      },
      "execution_count": null,
      "outputs": []
    },
    {
      "cell_type": "code",
      "source": [
        "df2014S.columns = [\"Finess\",\"Nom de l'établissement\",\"NomInvestigateur\",\"PrénomInvestigateur\",\"TitreProjet\",\"NuméroProjet\",\"Acronyme\",\"MontantAccordé\",\"Année\",\"Type\"]\n",
        "df2014K.columns = [\"Finess\",\"Nom de l'établissement\",\"NomInvestigateur\",\"PrénomInvestigateur\",\"TitreProjet\",\"NuméroProjet\",\"Acronyme\",\"MontantAccordé\",\"Année\",\"Type\"]\n",
        "df2014 = pd.concat([df2014S,df2014K])\n",
        "df2014"
      ],
      "metadata": {
        "id": "nzC83P52puXh"
      },
      "execution_count": null,
      "outputs": []
    },
    {
      "cell_type": "code",
      "source": [
        "df2015S.columns = [\"Nom de l'établissement\",\"rien\",\"rien2\",\"NomInvestigateur\",\"PrénomInvestigateur\",\"TitreProjet\",\"NuméroProjet\",\"Acronyme\",\"MontantAccordé\",\"Année\",\"Type\"]\n",
        "df2015K.columns = [\"Finess\",\"Nom de l'établissement\",\"NomInvestigateur\",\"PrénomInvestigateur\",\"TitreProjet\",\"NuméroProjet\",\"MontantAccordé\",\"Année\",\"Type\"]\n",
        "df2015S[\"Finess\"] = np.nan\n",
        "df2015K[\"Acronyme\"] = np.nan\n",
        "df2015S = df2015S[[\"Finess\",\"Nom de l'établissement\",\"NomInvestigateur\",\"PrénomInvestigateur\",\"TitreProjet\",\"NuméroProjet\",\"Acronyme\",\"MontantAccordé\",\"Année\",\"Type\"]]\n",
        "df2015 = pd.concat([df2015S,df2015K])\n",
        "df2015"
      ],
      "metadata": {
        "id": "gZzEDoN1qgmS"
      },
      "execution_count": null,
      "outputs": []
    },
    {
      "cell_type": "code",
      "source": [
        "df2016S.columns = [\"Finess\",\"Nom de l'établissement\",\"NomInvestigateur\",\"PrénomInvestigateur\",\"TitreProjet\",\"NuméroProjet\",\"Acronyme\",\"MontantAccordé\",\"Année\",\"Type\"]\n",
        "df2016K.columns = [\"Finess\",\"Nom de l'établissement\",\"NomInvestigateur\",\"PrénomInvestigateur\",\"TitreProjet\",\"NuméroProjet\",\"Acronyme\",\"MontantAccordé\",\"Année\",\"Type\"]\n",
        "df2016 = pd.concat([df2016S,df2016K])\n",
        "df2016"
      ],
      "metadata": {
        "id": "S2A_qMOzsiKO"
      },
      "execution_count": null,
      "outputs": []
    },
    {
      "cell_type": "code",
      "source": [
        "df2017S.columns = [\"NomInvestigateur\",\"PrénomInvestigateur\",\"NuméroProjet\",\"Finess\",\"Nom de l'établissement\",\"Acronyme\",\"TitreProjet\",\"MontantAccordé\",\"Année\",\"Type\"]\n",
        "df2017K.columns = [\"NomInvestigateur\",\"PrénomInvestigateur\",\"NuméroProjet\",\"Finess\",\"Nom de l'établissement\",\"Acronyme\",\"TitreProjet\",\"MontantAccordé\",\"Année\",\"Type\"]\n",
        "df2017S = df2017S[[\"Finess\",\"Nom de l'établissement\",\"NomInvestigateur\",\"PrénomInvestigateur\",\"TitreProjet\",\"NuméroProjet\",\"Acronyme\",\"MontantAccordé\",\"Année\",\"Type\"]]\n",
        "df2017K = df2017K[[\"Finess\",\"Nom de l'établissement\",\"NomInvestigateur\",\"PrénomInvestigateur\",\"TitreProjet\",\"NuméroProjet\",\"Acronyme\",\"MontantAccordé\",\"Année\",\"Type\"]]\n",
        "df2017 = pd.concat([df2017S,df2017K])\n",
        "df2017"
      ],
      "metadata": {
        "id": "Ra3sgDMqsopW"
      },
      "execution_count": null,
      "outputs": []
    },
    {
      "cell_type": "code",
      "source": [
        "df2018S.columns = [\"NomInvestigateur\",\"PrénomInvestigateur\",\"NuméroProjet\",\"Finess\",\"Nom de l'établissement\",\"Acronyme\",\"TitreProjet\",\"MontantAccordé\",\"Année\",\"Type\"]\n",
        "df2018K.columns = [\"NomInvestigateur\",\"PrénomInvestigateur\",\"NuméroProjet\",\"Finess\",\"Nom de l'établissement\",\"Acronyme\",\"TitreProjet\",\"MontantAccordé\",\"Année\",\"Type\"]\n",
        "df2018S = df2018S[[\"Finess\",\"Nom de l'établissement\",\"NomInvestigateur\",\"PrénomInvestigateur\",\"TitreProjet\",\"NuméroProjet\",\"Acronyme\",\"MontantAccordé\",\"Année\",\"Type\"]]\n",
        "df2018K = df2018K[[\"Finess\",\"Nom de l'établissement\",\"NomInvestigateur\",\"PrénomInvestigateur\",\"TitreProjet\",\"NuméroProjet\",\"Acronyme\",\"MontantAccordé\",\"Année\",\"Type\"]]\n",
        "df2018 = pd.concat([df2018S,df2018K])\n",
        "df2018"
      ],
      "metadata": {
        "id": "pvbaCBPXt-nS"
      },
      "execution_count": null,
      "outputs": []
    },
    {
      "cell_type": "code",
      "source": [
        "df2019S.columns = [\"NomInvestigateur\",\"PrénomInvestigateur\",\"NuméroProjet\",\"Finess\",\"Nom de l'établissement\",\"Acronyme\",\"TitreProjet\",\"MontantAccordé\",\"Année\",\"Type\"]\n",
        "df2019K.columns = [\"NomInvestigateur\",\"PrénomInvestigateur\",\"NuméroProjet\",\"Finess\",\"Nom de l'établissement\",\"Acronyme\",\"TitreProjet\",\"MontantAccordé\",\"Année\",\"Type\"]\n",
        "df2019S = df2019S[[\"Finess\",\"Nom de l'établissement\",\"NomInvestigateur\",\"PrénomInvestigateur\",\"TitreProjet\",\"NuméroProjet\",\"Acronyme\",\"MontantAccordé\",\"Année\",\"Type\"]]\n",
        "df2019K = df2019K[[\"Finess\",\"Nom de l'établissement\",\"NomInvestigateur\",\"PrénomInvestigateur\",\"TitreProjet\",\"NuméroProjet\",\"Acronyme\",\"MontantAccordé\",\"Année\",\"Type\"]]\n",
        "df2019 = pd.concat([df2019S,df2019K])\n",
        "df2019"
      ],
      "metadata": {
        "id": "P9fPthhova_t"
      },
      "execution_count": null,
      "outputs": []
    },
    {
      "cell_type": "code",
      "source": [
        "df2020S.columns = [\"NomInvestigateur\",\"PrénomInvestigateur\",\"NuméroProjet\",\"Finess\",\"Nom de l'établissement\",\"Acronyme\",\"TitreProjet\",\"MontantAccordé\",\"Année\",\"Type\"]\n",
        "df2020K.columns = [\"NomInvestigateur\",\"PrénomInvestigateur\",\"NuméroProjet\",\"Finess\",\"Nom de l'établissement\",\"Acronyme\",\"TitreProjet\",\"MontantAccordé\",\"Année\",\"Type\"]\n",
        "df2020S = df2020S[[\"Finess\",\"Nom de l'établissement\",\"NomInvestigateur\",\"PrénomInvestigateur\",\"TitreProjet\",\"NuméroProjet\",\"Acronyme\",\"MontantAccordé\",\"Année\",\"Type\"]]\n",
        "df2020K = df2020K[[\"Finess\",\"Nom de l'établissement\",\"NomInvestigateur\",\"PrénomInvestigateur\",\"TitreProjet\",\"NuméroProjet\",\"Acronyme\",\"MontantAccordé\",\"Année\",\"Type\"]]\n",
        "df2020 = pd.concat([df2020S,df2020K])\n",
        "df2020"
      ],
      "metadata": {
        "id": "WG-7K2RivtSR"
      },
      "execution_count": null,
      "outputs": []
    },
    {
      "cell_type": "code",
      "source": [
        "PRT = pd.concat([df2013,df2014,df2015,df2016,df2017,df2018,df2019,df2020])\n",
        "PRT[\"Projet\"] = \"PRT\"\n",
        "PRT"
      ],
      "metadata": {
        "id": "uPfGycSXv-Eq"
      },
      "execution_count": null,
      "outputs": []
    },
    {
      "cell_type": "code",
      "source": [
        "PRT.to_csv('/content/Data/PRT.csv')"
      ],
      "metadata": {
        "id": "cEYHIHkPwWil"
      },
      "execution_count": 53,
      "outputs": []
    },
    {
      "cell_type": "markdown",
      "source": [],
      "metadata": {
        "id": "5qDM5ymGtWcn"
      }
    }
  ]
}