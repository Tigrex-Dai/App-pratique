{
  "nbformat": 4,
  "nbformat_minor": 0,
  "metadata": {
    "colab": {
      "provenance": [],
      "collapsed_sections": [],
      "authorship_tag": "ABX9TyN1ZQGTI4X9YcFJVHVqlClO",
      "include_colab_link": true
    },
    "kernelspec": {
      "name": "python3",
      "display_name": "Python 3"
    },
    "language_info": {
      "name": "python"
    }
  },
  "cells": [
    {
      "cell_type": "markdown",
      "metadata": {
        "id": "view-in-github",
        "colab_type": "text"
      },
      "source": [
        "<a href=\"https://colab.research.google.com/github/zoudada67/App-pratique/blob/master/9-13/PRME/PRMEConcat.ipynb\" target=\"_parent\"><img src=\"https://colab.research.google.com/assets/colab-badge.svg\" alt=\"Open In Colab\"/></a>"
      ]
    },
    {
      "cell_type": "code",
      "source": [
        "!pip install pandas\n",
        "!pip install xlrd==1.2.0\n",
        "!pip install numpy"
      ],
      "metadata": {
        "id": "PLkzdXaurS11"
      },
      "execution_count": null,
      "outputs": []
    },
    {
      "cell_type": "code",
      "source": [
        "import pandas as pd\n",
        "import numpy as np"
      ],
      "metadata": {
        "id": "APrlmIAPrSom"
      },
      "execution_count": 2,
      "outputs": []
    },
    {
      "cell_type": "code",
      "execution_count": 69,
      "metadata": {
        "id": "FOJZetGkrEZ_"
      },
      "outputs": [],
      "source": [
        "df2013N = pd.read_excel(\"/content/Data/Resultats_PRME_2013.xlsx\")\n",
        "df2013K = pd.read_excel(\"/content/Data/Resultats_PRME-K_2013.xlsx\")\n",
        "df2014N = pd.read_excel(\"/content/Data/Resultats_PRME_2014.xls\")\n",
        "df2014K = pd.read_excel(\"/content/Data/Resultats_PRMEK_2014.xls\")\n",
        "df2015N = pd.read_excel(\"/content/Data/resultats_prme_2015_mel.xls\")\n",
        "df2015K = pd.read_excel(\"/content/Data/projets_retenus_prme-k_2015.xlsx\")\n",
        "df2016N = pd.read_excel(\"/content/Data/dgos_resultats_prme_2016.xlsx\")\n",
        "df2016K = pd.read_excel(\"/content/Data/resultats_prme-k_2016_mel.xlsx\")\n",
        "df2017 = pd.read_excel(\"/content/Data/dgos_resultats_prme_2017_260218_revbme.xlsx\")\n",
        "df2018 = pd.read_excel(\"/content/Data/resultats_prme_2018_mel.xlsx\")\n",
        "df2019 = pd.read_excel(\"/content/Data/resultats_prme_2019_mel_v0-2_20200102.xlsx\")\n",
        "df2020 = pd.read_excel(\"/content/Data/prme_20_resultatsselection_v2-0_20211006_mel.xlsx\")"
      ]
    },
    {
      "cell_type": "code",
      "source": [
        "df2013N[\"Année\"] = \"2013\"\n",
        "df2013N[\"Type\"] = np.nan\n",
        "df2013K[\"Année\"] = \"2013\"\n",
        "df2013K[\"Type\"] = \"K\"\n",
        "df2014N[\"Année\"] = \"2014\"\n",
        "df2014N[\"Type\"] = np.nan\n",
        "df2014K[\"Année\"] = \"2014\"\n",
        "df2014K[\"Type\"] = \"K\"\n",
        "df2015N[\"Année\"] = \"2015\"\n",
        "df2015N[\"Type\"] = np.nan\n",
        "df2015K[\"Année\"] = \"2015\"\n",
        "df2015K[\"Type\"] = \"K\"\n",
        "df2016N[\"Année\"] = \"2016\"\n",
        "df2016N[\"Type\"] = np.nan\n",
        "df2016K[\"Année\"] = \"2016\"\n",
        "df2016K[\"Type\"] = \"K\"\n",
        "df2017[\"Année\"] = \"2017\"\n",
        "df2017[\"Type\"] = np.nan\n",
        "df2018[\"Année\"] = \"2018\"\n",
        "df2018[\"Type\"] = np.nan\n",
        "df2019[\"Année\"] = \"2019\"\n",
        "df2019[\"Type\"] = np.nan\n",
        "df2020[\"Année\"] = \"2020\"\n",
        "df2020[\"Type\"] = np.nan"
      ],
      "metadata": {
        "id": "s1E3D3TRrR7N"
      },
      "execution_count": 70,
      "outputs": []
    },
    {
      "cell_type": "code",
      "source": [
        "df2013 = pd.concat([df2013N,df2013K])\n",
        "df2013.columns = [\"Finess\",\"Nom de l'établissement\",\"NomInvestigateur\",\"PrénomInvestigateur\",\"TitreProjet\",\"NuméroProjet\",\"Acronyme\",\"MontantAccordé\",\"Année\",\"Type\"]\n",
        "df2013"
      ],
      "metadata": {
        "id": "EDDZxSWot2t_"
      },
      "execution_count": null,
      "outputs": []
    },
    {
      "cell_type": "code",
      "source": [
        "df2014 = pd.concat([df2014N,df2014K])\n",
        "df2014.columns = [\"Finess\",\"Nom de l'établissement\",\"NomInvestigateur\",\"PrénomInvestigateur\",\"TitreProjet\",\"NuméroProjet\",\"Acronyme\",\"MontantAccordé\",\"Année\",\"Type\"]\n",
        "df2014"
      ],
      "metadata": {
        "id": "oB13isAM0HuZ"
      },
      "execution_count": null,
      "outputs": []
    },
    {
      "cell_type": "code",
      "source": [
        "df2015N.columns = [\"Finess\",\"Nom de l'établissement\",\"NomInvestigateur\",\"PrénomInvestigateur\",\"TitreProjet\",\"NuméroProjet\",\"Acronyme\",\"MontantAccordé\",\"Année\",\"Type\"]\n",
        "df2015K.columns = [\"Finess\",\"Nom de l'établissement\",\"NomInvestigateur\",\"PrénomInvestigateur\",\"TitreProjet\",\"NuméroProjet\",\"Acronyme\",\"MontantAccordé\",\"Année\",\"Type\"]\n",
        "df2015 = pd.concat([df2015N,df2015K])\n",
        "df2015"
      ],
      "metadata": {
        "id": "Hy-qwYJT14JX"
      },
      "execution_count": null,
      "outputs": []
    },
    {
      "cell_type": "code",
      "source": [
        "df2016 = pd.concat([df2016N,df2016K])\n",
        "df2016.columns = [\"Finess\",\"Nom de l'établissement\",\"NomInvestigateur\",\"PrénomInvestigateur\",\"TitreProjet\",\"NuméroProjet\",\"Acronyme\",\"MontantAccordé\",\"Année\",\"Type\"]\n",
        "df2016"
      ],
      "metadata": {
        "id": "zT4Y7jtT1dkB"
      },
      "execution_count": null,
      "outputs": []
    },
    {
      "cell_type": "code",
      "source": [
        "df2017[\"Finess\"] = np.nan\n",
        "df2017 = df2017[[\"Finess\",\"Nom de l'établissement de santé\\ngestionnaire des fonds\",\n",
        "                 'Porteur de projet / Investigateur\\ncoordonnateur\\nNOM',\n",
        "                 'Porteur de projet / Investigateur\\ncoordonnateur\\nPRENOM','Titre du projet','N° du projet',\n",
        "                 'Acronyme',\" Autorisation d'engagement \",'Année','Type']]\n",
        "df2017.columns = [\"Finess\",\"Nom de l'établissement\",\"NomInvestigateur\",\"PrénomInvestigateur\",\"TitreProjet\",\"NuméroProjet\",\"Acronyme\",\"MontantAccordé\",\"Année\",\"Type\"]\n",
        "df2017"
      ],
      "metadata": {
        "id": "aAdBeaPo4InC"
      },
      "execution_count": null,
      "outputs": []
    },
    {
      "cell_type": "code",
      "source": [
        "df2018 = df2018[['FINESS',\"Nom de l'établissement de santé\\ngestionnaire des fonds\",\n",
        "                 'Porteur de projet / Investigateur\\ncoordonnateur\\nNOM',\n",
        "                 'Porteur de projet / Investigateur\\ncoordonnateur\\nPRENOM','Titre du projet','N° du projet',\n",
        "                 'Acronyme',\"Autorisation d'engagement\",'Année','Type']]\n",
        "df2018.columns = [\"Finess\",\"Nom de l'établissement\",\"NomInvestigateur\",\"PrénomInvestigateur\",\"TitreProjet\",\"NuméroProjet\",\"Acronyme\",\"MontantAccordé\",\"Année\",\"Type\"]\n",
        "df2018"
      ],
      "metadata": {
        "id": "r5gvTOX19RhL"
      },
      "execution_count": null,
      "outputs": []
    },
    {
      "cell_type": "code",
      "source": [
        "df2019 = df2019[['FINESS',\"Nom de l'établissement de santé gestionnaire des fonds\",\n",
        "                 'Porteur de projet / Investigateur\\ncoordonnateur\\nNOM',\n",
        "                 'Porteur de projet / Investigateur\\ncoordonnateur\\nPRENOM','Titre du projet ','N° du projet PRME',\n",
        "                 'Acronyme',\"Autorisation d'engagement (AE)\",'Année','Type']]\n",
        "df2019.columns = [\"Finess\",\"Nom de l'établissement\",\"NomInvestigateur\",\"PrénomInvestigateur\",\"TitreProjet\",\"NuméroProjet\",\"Acronyme\",\"MontantAccordé\",\"Année\",\"Type\"]\n",
        "df2019"
      ],
      "metadata": {
        "id": "BElH2hsHIoxn"
      },
      "execution_count": null,
      "outputs": []
    },
    {
      "cell_type": "code",
      "source": [
        "df2020 = df2020[['FINESS',\"Nom de l'établissement de santé gestionnaire des fonds\",\n",
        "                 'Porteur de projet / Investigateur\\ncoordonnateur\\nNOM',\n",
        "                 'Porteur de projet / Investigateur\\ncoordonnateur\\nPRENOM','Titre du projet ','N° du projet',\n",
        "                 'Acronyme',\"Autorisation d'engagement (AE)\",'Année','Type']]\n",
        "df2020.columns = [\"Finess\",\"Nom de l'établissement\",\"NomInvestigateur\",\"PrénomInvestigateur\",\"TitreProjet\",\"NuméroProjet\",\"Acronyme\",\"MontantAccordé\",\"Année\",\"Type\"]\n",
        "df2020"
      ],
      "metadata": {
        "id": "3R_BaoBbJMZO"
      },
      "execution_count": null,
      "outputs": []
    },
    {
      "cell_type": "code",
      "source": [
        "PRME = pd.concat([df2013,df2014,df2015,df2016,df2017,df2018,df2019,df2020])\n",
        "PRME[\"Projet\"] = \"PRME\"\n",
        "PRME"
      ],
      "metadata": {
        "id": "3gSK_xarJpge"
      },
      "execution_count": null,
      "outputs": []
    }
  ]
}