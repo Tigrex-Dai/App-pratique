{
  "nbformat": 4,
  "nbformat_minor": 0,
  "metadata": {
    "colab": {
      "provenance": [],
      "collapsed_sections": [],
      "authorship_tag": "ABX9TyP5lHLL2a4ft58Hke/II26I",
      "include_colab_link": true
    },
    "kernelspec": {
      "name": "python3",
      "display_name": "Python 3"
    },
    "language_info": {
      "name": "python"
    }
  },
  "cells": [
    {
      "cell_type": "markdown",
      "metadata": {
        "id": "view-in-github",
        "colab_type": "text"
      },
      "source": [
        "<a href=\"https://colab.research.google.com/github/ouissem11/App-pratique/blob/master/9-13/PREPS/Untitled14.ipynb\" target=\"_parent\"><img src=\"https://colab.research.google.com/assets/colab-badge.svg\" alt=\"Open In Colab\"/></a>"
      ]
    },
    {
      "cell_type": "code",
      "execution_count": 4,
      "metadata": {
        "id": "h5moFSa1Umxg"
      },
      "outputs": [],
      "source": [
        "import numpy as np\n",
        "import pandas as pd"
      ]
    },
    {
      "cell_type": "code",
      "source": [
        "!pip install pandas==1.2.0\n"
      ],
      "metadata": {
        "id": "vecdR7LoUsRK"
      },
      "execution_count": null,
      "outputs": []
    },
    {
      "cell_type": "code",
      "source": [
        "!pip install xlrd==1.2.0"
      ],
      "metadata": {
        "id": "wSLd7hh3Uzph"
      },
      "execution_count": null,
      "outputs": []
    },
    {
      "cell_type": "code",
      "source": [
        "df1 = pd.read_excel(\"/content/RESULTAT-PREPS-2012.xls\")"
      ],
      "metadata": {
        "id": "9pHKdCtcUvFa"
      },
      "execution_count": 113,
      "outputs": []
    },
    {
      "cell_type": "code",
      "source": [
        "df1=df1.assign(année= 2012)           "
      ],
      "metadata": {
        "id": "rZ4gnH4fVEVI"
      },
      "execution_count": 114,
      "outputs": []
    },
    {
      "cell_type": "code",
      "source": [
        "df1.columns=['FINESS\\njuridique',\n",
        "       'Nom de lEtablissement de Santé\\ndu Porteur de Projet/Investigateur\\nCoordonnateur',\n",
        "       'Porteur de Projet/Investigateur\\nCoordonnateur\\nNOM',\n",
        "       'Porteur de Projet/Investigateur\\nCoordonnateur\\nPRENOM',\n",
        "       'Titre du projet', 'N° du projet', 'Acronyme',\n",
        "       'Montant maximal PREVISIONNEL \\n (accordé  sous conditions de suivi','année']"
      ],
      "metadata": {
        "id": "rZO9rmuKq9oU"
      },
      "execution_count": 115,
      "outputs": []
    },
    {
      "cell_type": "code",
      "source": [
        "df2 = pd.read_excel(\"/content/RESULTAT-PREPS-SIPS-2012.xls\")"
      ],
      "metadata": {
        "id": "6Aa6qvTnkNyi"
      },
      "execution_count": 161,
      "outputs": []
    },
    {
      "cell_type": "code",
      "source": [
        "df2=df2.assign(année= 2012) "
      ],
      "metadata": {
        "id": "edhC2b-jjIrR"
      },
      "execution_count": 162,
      "outputs": []
    },
    {
      "cell_type": "code",
      "source": [
        "df2.columns=['FINESS\\njuridique',\n",
        "       'Nom de lEtablissement de Santé\\ndu Porteur de Projet/Investigateur\\nCoordonnateur',\n",
        "       'Porteur de Projet/Investigateur\\nCoordonnateur\\nNOM',\n",
        "       'Porteur de Projet/Investigateur\\nCoordonnateur\\nPRENOM',\n",
        "       'Titre du projet', 'N° du projet', 'Acronyme',\n",
        "       'Montant maximal PREVISIONNEL \\n (accordé  sous conditions de suivi','année']"
      ],
      "metadata": {
        "id": "3T-KtSuPsFXb"
      },
      "execution_count": 118,
      "outputs": []
    },
    {
      "cell_type": "code",
      "source": [
        "df3 = pd.read_excel(\"/content/Resultats_PREPS-DP_2013.xlsx\")"
      ],
      "metadata": {
        "id": "2uIakK8pkhkH"
      },
      "execution_count": 119,
      "outputs": []
    },
    {
      "cell_type": "code",
      "source": [
        "df3=df3.assign(année= 2013) "
      ],
      "metadata": {
        "id": "qpgHCohZklD_"
      },
      "execution_count": 120,
      "outputs": []
    },
    {
      "cell_type": "code",
      "source": [
        "df3=df3.drop('Champ \"Innovation Recherche\" du PMSI', axis=1)"
      ],
      "metadata": {
        "id": "bZvllLNBk8Ze"
      },
      "execution_count": 121,
      "outputs": []
    },
    {
      "cell_type": "code",
      "source": [
        "df3.columns=['FINESS\\njuridique',\n",
        "       'Nom de lEtablissement de Santé\\ndu Porteur de Projet/Investigateur\\nCoordonnateur',\n",
        "       'Porteur de Projet/Investigateur\\nCoordonnateur\\nNOM',\n",
        "       'Porteur de Projet/Investigateur\\nCoordonnateur\\nPRENOM',\n",
        "       'Titre du projet', 'N° du projet', 'Acronyme',\n",
        "       'Montant maximal PREVISIONNEL \\n (accordé  sous conditions de suivi','année']"
      ],
      "metadata": {
        "id": "b4qNyP39tI8g"
      },
      "execution_count": 123,
      "outputs": []
    },
    {
      "cell_type": "code",
      "source": [
        "df4 = pd.read_excel(\"/content/Resultats_PREPS-IQ_2013.xlsx\")"
      ],
      "metadata": {
        "id": "FpyQTB2HlBUV"
      },
      "execution_count": 124,
      "outputs": []
    },
    {
      "cell_type": "code",
      "source": [
        "df4=df4.assign(année= 2013) "
      ],
      "metadata": {
        "id": "vYyEz_bnlGRs"
      },
      "execution_count": 125,
      "outputs": []
    },
    {
      "cell_type": "code",
      "source": [
        "df4=df4.drop('Champ \"Innovation Recherche\" du PMSI', axis=1)"
      ],
      "metadata": {
        "id": "SdzrsP5JlP2M"
      },
      "execution_count": 126,
      "outputs": []
    },
    {
      "cell_type": "code",
      "source": [
        "df4.columns=['FINESS\\njuridique',\n",
        "       'Nom de lEtablissement de Santé\\ndu Porteur de Projet/Investigateur\\nCoordonnateur',\n",
        "       'Porteur de Projet/Investigateur\\nCoordonnateur\\nNOM',\n",
        "       'Porteur de Projet/Investigateur\\nCoordonnateur\\nPRENOM',\n",
        "       'Titre du projet', 'N° du projet', 'Acronyme',\n",
        "       'Montant maximal PREVISIONNEL \\n (accordé  sous conditions de suivi','année']"
      ],
      "metadata": {
        "id": "1gBnl6zRtM-m"
      },
      "execution_count": 128,
      "outputs": []
    },
    {
      "cell_type": "code",
      "source": [
        "df5 = pd.read_excel(\"/content/Resultats_PREPS_2013.xlsx\")"
      ],
      "metadata": {
        "id": "DEH4qS8YlTZj"
      },
      "execution_count": 165,
      "outputs": []
    },
    {
      "cell_type": "code",
      "source": [
        "df5=df5.assign(année= 2013) \n"
      ],
      "metadata": {
        "id": "XHaLpLYZlVv7"
      },
      "execution_count": 168,
      "outputs": []
    },
    {
      "cell_type": "code",
      "source": [
        "df5.columns=['FINESS\\njuridique',\n",
        "       'Nom de lEtablissement de Santé\\ndu Porteur de Projet/Investigateur\\nCoordonnateur',\n",
        "       'Porteur de Projet/Investigateur\\nCoordonnateur\\nNOM',\n",
        "       'Porteur de Projet/Investigateur\\nCoordonnateur\\nPRENOM',\n",
        "       'Titre du projet', 'N° du projet', 'Acronyme',\n",
        "       'Montant maximal PREVISIONNEL \\n (accordé  sous conditions de suivi','année']"
      ],
      "metadata": {
        "id": "kDYvPSpWxFkh"
      },
      "execution_count": 170,
      "outputs": []
    },
    {
      "cell_type": "code",
      "source": [
        "df6 = pd.read_excel(\"/content/Resultats_PREPS_2014.xls\")"
      ],
      "metadata": {
        "id": "5PZH4cDGlcBU"
      },
      "execution_count": 171,
      "outputs": []
    },
    {
      "cell_type": "code",
      "source": [
        "df6=df6.assign(année= 2014) "
      ],
      "metadata": {
        "id": "JUP_93R8lgpi"
      },
      "execution_count": 173,
      "outputs": []
    },
    {
      "cell_type": "code",
      "source": [
        "df6.columns=['FINESS\\njuridique',\n",
        "       'Nom de lEtablissement de Santé\\ndu Porteur de Projet/Investigateur\\nCoordonnateur',\n",
        "       'Porteur de Projet/Investigateur\\nCoordonnateur\\nNOM',\n",
        "       'Porteur de Projet/Investigateur\\nCoordonnateur\\nPRENOM',\n",
        "       'Titre du projet', 'N° du projet', 'Acronyme',\n",
        "       'Montant maximal PREVISIONNEL \\n (accordé  sous conditions de suivi','année']"
      ],
      "metadata": {
        "id": "vdHmCkZ1tqLm"
      },
      "execution_count": 135,
      "outputs": []
    },
    {
      "cell_type": "code",
      "source": [
        "df7 = pd.read_excel(\"/content/preps_20_resultatsselection_v2-0_20211006_mel.xlsx\")"
      ],
      "metadata": {
        "id": "jceVxJG8lnF6"
      },
      "execution_count": 175,
      "outputs": []
    },
    {
      "cell_type": "code",
      "source": [
        "df7=df7.assign(année= 2020) \n"
      ],
      "metadata": {
        "id": "kzX1jkCEl1mR"
      },
      "execution_count": 181,
      "outputs": []
    },
    {
      "cell_type": "code",
      "source": [
        "df7['FINESS\\njuridique']=np.nan"
      ],
      "metadata": {
        "id": "ct1VwncI1jQu"
      },
      "execution_count": 182,
      "outputs": []
    },
    {
      "cell_type": "code",
      "source": [],
      "metadata": {
        "id": "ZrVJz-KD2MhL"
      },
      "execution_count": null,
      "outputs": []
    },
    {
      "cell_type": "code",
      "source": [
        "df7.columns"
      ],
      "metadata": {
        "colab": {
          "base_uri": "https://localhost:8080/"
        },
        "id": "NprU9CN31Iyk",
        "outputId": "7a12bc4e-a46d-40d8-ba0a-cf3ea6cb0be3"
      },
      "execution_count": 178,
      "outputs": [
        {
          "output_type": "execute_result",
          "data": {
            "text/plain": [
              "Index(['Porteur de projet / Investigateur\\ncoordonnateur\\nNOM',\n",
              "       'Porteur de projet / Investigateur\\ncoordonnateur\\nPRENOM',\n",
              "       'N° du projet', 'FINESS',\n",
              "       'Nom de l'établissement de santé\\ngestionnaire des fonds', 'Acronyme',\n",
              "       'Titre du projet', 'Autorisation d'engagement (AE)', 'année'],\n",
              "      dtype='object')"
            ]
          },
          "metadata": {},
          "execution_count": 178
        }
      ]
    },
    {
      "cell_type": "code",
      "source": [
        "df7.columns=['FINESS\\njuridique',\n",
        "       'Nom de lEtablissement de Santé\\ndu Porteur de Projet/Investigateur\\nCoordonnateur',\n",
        "       'Porteur de Projet/Investigateur\\nCoordonnateur\\nNOM',\n",
        "       'Porteur de Projet/Investigateur\\nCoordonnateur\\nPRENOM',\n",
        "       'Titre du projet', 'N° du projet', 'Acronyme',\n",
        "       'Montant maximal PREVISIONNEL \\n (accordé  sous conditions de suivi','année']"
      ],
      "metadata": {
        "colab": {
          "base_uri": "https://localhost:8080/",
          "height": 398
        },
        "id": "ljokhQD6tusV",
        "outputId": "b1efb98a-0492-4c8a-f9d1-e599af5dbdf2"
      },
      "execution_count": 183,
      "outputs": [
        {
          "output_type": "error",
          "ename": "ValueError",
          "evalue": "ignored",
          "traceback": [
            "\u001b[0;31m---------------------------------------------------------------------------\u001b[0m",
            "\u001b[0;31mValueError\u001b[0m                                Traceback (most recent call last)",
            "\u001b[0;32m<ipython-input-183-68eefb2c95ab>\u001b[0m in \u001b[0;36m<module>\u001b[0;34m\u001b[0m\n\u001b[1;32m      4\u001b[0m        \u001b[0;34m'Porteur de Projet/Investigateur\\nCoordonnateur\\nPRENOM'\u001b[0m\u001b[0;34m,\u001b[0m\u001b[0;34m\u001b[0m\u001b[0;34m\u001b[0m\u001b[0m\n\u001b[1;32m      5\u001b[0m        \u001b[0;34m'Titre du projet'\u001b[0m\u001b[0;34m,\u001b[0m \u001b[0;34m'N° du projet'\u001b[0m\u001b[0;34m,\u001b[0m \u001b[0;34m'Acronyme'\u001b[0m\u001b[0;34m,\u001b[0m\u001b[0;34m\u001b[0m\u001b[0;34m\u001b[0m\u001b[0m\n\u001b[0;32m----> 6\u001b[0;31m        'Montant maximal PREVISIONNEL \\n (accordé  sous conditions de suivi','année']\n\u001b[0m",
            "\u001b[0;32m/usr/local/lib/python3.7/dist-packages/pandas/core/generic.py\u001b[0m in \u001b[0;36m__setattr__\u001b[0;34m(self, name, value)\u001b[0m\n\u001b[1;32m   5471\u001b[0m         \u001b[0;32mtry\u001b[0m\u001b[0;34m:\u001b[0m\u001b[0;34m\u001b[0m\u001b[0;34m\u001b[0m\u001b[0m\n\u001b[1;32m   5472\u001b[0m             \u001b[0mobject\u001b[0m\u001b[0;34m.\u001b[0m\u001b[0m__getattribute__\u001b[0m\u001b[0;34m(\u001b[0m\u001b[0mself\u001b[0m\u001b[0;34m,\u001b[0m \u001b[0mname\u001b[0m\u001b[0;34m)\u001b[0m\u001b[0;34m\u001b[0m\u001b[0;34m\u001b[0m\u001b[0m\n\u001b[0;32m-> 5473\u001b[0;31m             \u001b[0;32mreturn\u001b[0m \u001b[0mobject\u001b[0m\u001b[0;34m.\u001b[0m\u001b[0m__setattr__\u001b[0m\u001b[0;34m(\u001b[0m\u001b[0mself\u001b[0m\u001b[0;34m,\u001b[0m \u001b[0mname\u001b[0m\u001b[0;34m,\u001b[0m \u001b[0mvalue\u001b[0m\u001b[0;34m)\u001b[0m\u001b[0;34m\u001b[0m\u001b[0;34m\u001b[0m\u001b[0m\n\u001b[0m\u001b[1;32m   5474\u001b[0m         \u001b[0;32mexcept\u001b[0m \u001b[0mAttributeError\u001b[0m\u001b[0;34m:\u001b[0m\u001b[0;34m\u001b[0m\u001b[0;34m\u001b[0m\u001b[0m\n\u001b[1;32m   5475\u001b[0m             \u001b[0;32mpass\u001b[0m\u001b[0;34m\u001b[0m\u001b[0;34m\u001b[0m\u001b[0m\n",
            "\u001b[0;32mpandas/_libs/properties.pyx\u001b[0m in \u001b[0;36mpandas._libs.properties.AxisProperty.__set__\u001b[0;34m()\u001b[0m\n",
            "\u001b[0;32m/usr/local/lib/python3.7/dist-packages/pandas/core/generic.py\u001b[0m in \u001b[0;36m_set_axis\u001b[0;34m(self, axis, labels)\u001b[0m\n\u001b[1;32m    665\u001b[0m     \u001b[0;32mdef\u001b[0m \u001b[0m_set_axis\u001b[0m\u001b[0;34m(\u001b[0m\u001b[0mself\u001b[0m\u001b[0;34m,\u001b[0m \u001b[0maxis\u001b[0m\u001b[0;34m:\u001b[0m \u001b[0mint\u001b[0m\u001b[0;34m,\u001b[0m \u001b[0mlabels\u001b[0m\u001b[0;34m:\u001b[0m \u001b[0mIndex\u001b[0m\u001b[0;34m)\u001b[0m \u001b[0;34m->\u001b[0m \u001b[0;32mNone\u001b[0m\u001b[0;34m:\u001b[0m\u001b[0;34m\u001b[0m\u001b[0;34m\u001b[0m\u001b[0m\n\u001b[1;32m    666\u001b[0m         \u001b[0mlabels\u001b[0m \u001b[0;34m=\u001b[0m \u001b[0mensure_index\u001b[0m\u001b[0;34m(\u001b[0m\u001b[0mlabels\u001b[0m\u001b[0;34m)\u001b[0m\u001b[0;34m\u001b[0m\u001b[0;34m\u001b[0m\u001b[0m\n\u001b[0;32m--> 667\u001b[0;31m         \u001b[0mself\u001b[0m\u001b[0;34m.\u001b[0m\u001b[0m_mgr\u001b[0m\u001b[0;34m.\u001b[0m\u001b[0mset_axis\u001b[0m\u001b[0;34m(\u001b[0m\u001b[0maxis\u001b[0m\u001b[0;34m,\u001b[0m \u001b[0mlabels\u001b[0m\u001b[0;34m)\u001b[0m\u001b[0;34m\u001b[0m\u001b[0;34m\u001b[0m\u001b[0m\n\u001b[0m\u001b[1;32m    668\u001b[0m         \u001b[0mself\u001b[0m\u001b[0;34m.\u001b[0m\u001b[0m_clear_item_cache\u001b[0m\u001b[0;34m(\u001b[0m\u001b[0;34m)\u001b[0m\u001b[0;34m\u001b[0m\u001b[0;34m\u001b[0m\u001b[0m\n\u001b[1;32m    669\u001b[0m \u001b[0;34m\u001b[0m\u001b[0m\n",
            "\u001b[0;32m/usr/local/lib/python3.7/dist-packages/pandas/core/internals/managers.py\u001b[0m in \u001b[0;36mset_axis\u001b[0;34m(self, axis, new_labels)\u001b[0m\n\u001b[1;32m    219\u001b[0m         \u001b[0;32mif\u001b[0m \u001b[0mnew_len\u001b[0m \u001b[0;34m!=\u001b[0m \u001b[0mold_len\u001b[0m\u001b[0;34m:\u001b[0m\u001b[0;34m\u001b[0m\u001b[0;34m\u001b[0m\u001b[0m\n\u001b[1;32m    220\u001b[0m             raise ValueError(\n\u001b[0;32m--> 221\u001b[0;31m                 \u001b[0;34mf\"Length mismatch: Expected axis has {old_len} elements, new \"\u001b[0m\u001b[0;34m\u001b[0m\u001b[0;34m\u001b[0m\u001b[0m\n\u001b[0m\u001b[1;32m    222\u001b[0m                 \u001b[0;34mf\"values have {new_len} elements\"\u001b[0m\u001b[0;34m\u001b[0m\u001b[0;34m\u001b[0m\u001b[0m\n\u001b[1;32m    223\u001b[0m             )\n",
            "\u001b[0;31mValueError\u001b[0m: Length mismatch: Expected axis has 10 elements, new values have 9 elements"
          ]
        }
      ]
    },
    {
      "cell_type": "code",
      "source": [
        "df9 = pd.read_excel(\"/content/resultats_preps_2015_mel.xls\")"
      ],
      "metadata": {
        "id": "CBq9hmrrmFFg"
      },
      "execution_count": 139,
      "outputs": []
    },
    {
      "cell_type": "code",
      "source": [
        "df9=df9.assign(année= 2015) "
      ],
      "metadata": {
        "id": "at9sGWpzmGQR"
      },
      "execution_count": 140,
      "outputs": []
    },
    {
      "cell_type": "code",
      "source": [
        "df9.columns=['FINESS\\njuridique',\n",
        "       'Nom de lEtablissement de Santé\\ndu Porteur de Projet/Investigateur\\nCoordonnateur',\n",
        "       'Porteur de Projet/Investigateur\\nCoordonnateur\\nNOM',\n",
        "       'Porteur de Projet/Investigateur\\nCoordonnateur\\nPRENOM',\n",
        "       'Titre du projet', 'N° du projet', 'Acronyme',\n",
        "       'Montant maximal PREVISIONNEL \\n (accordé  sous conditions de suivi','année']"
      ],
      "metadata": {
        "id": "uOlkBqKYt5_j"
      },
      "execution_count": 141,
      "outputs": []
    },
    {
      "cell_type": "code",
      "source": [
        "df10 = pd.read_excel(\"/content/resultats_preps_2016_mel.xlsx\")"
      ],
      "metadata": {
        "id": "Ev4wmRmvmMsf"
      },
      "execution_count": 142,
      "outputs": []
    },
    {
      "cell_type": "code",
      "source": [
        "df10=df10.assign(année= 2016) "
      ],
      "metadata": {
        "id": "2_81outhmPUH"
      },
      "execution_count": 143,
      "outputs": []
    },
    {
      "cell_type": "code",
      "source": [
        "df10.columns=['FINESS\\njuridique',\n",
        "       'Nom de lEtablissement de Santé\\ndu Porteur de Projet/Investigateur\\nCoordonnateur',\n",
        "       'Porteur de Projet/Investigateur\\nCoordonnateur\\nNOM',\n",
        "       'Porteur de Projet/Investigateur\\nCoordonnateur\\nPRENOM',\n",
        "       'Titre du projet', 'N° du projet', 'Acronyme',\n",
        "       'Montant maximal PREVISIONNEL \\n (accordé  sous conditions de suivi','année']"
      ],
      "metadata": {
        "id": "3LuHej5RuT7Y"
      },
      "execution_count": 144,
      "outputs": []
    },
    {
      "cell_type": "code",
      "source": [
        "df11 = pd.read_excel(\"/content/resultats_preps_2017_040118.xlsx\")"
      ],
      "metadata": {
        "id": "KDYPZ-0dmUaW"
      },
      "execution_count": 145,
      "outputs": []
    },
    {
      "cell_type": "code",
      "source": [
        "df11=df11.assign(année= 2017) "
      ],
      "metadata": {
        "id": "4OBoADnGmViu"
      },
      "execution_count": 146,
      "outputs": []
    },
    {
      "cell_type": "code",
      "source": [
        "df11.columns=['FINESS\\njuridique',\n",
        "       'Nom de lEtablissement de Santé\\ndu Porteur de Projet/Investigateur\\nCoordonnateur',\n",
        "       'Porteur de Projet/Investigateur\\nCoordonnateur\\nNOM',\n",
        "       'Porteur de Projet/Investigateur\\nCoordonnateur\\nPRENOM',\n",
        "       'Titre du projet', 'N° du projet', 'Acronyme',\n",
        "       'Montant maximal PREVISIONNEL \\n (accordé  sous conditions de suivi','année']"
      ],
      "metadata": {
        "id": "OnQ3JXkjufho"
      },
      "execution_count": 147,
      "outputs": []
    },
    {
      "cell_type": "code",
      "source": [
        "df12 = pd.read_excel(\"/content/resultats_preps_2018_mel.xlsx\")"
      ],
      "metadata": {
        "id": "20MJ8mEVmc_d"
      },
      "execution_count": 148,
      "outputs": []
    },
    {
      "cell_type": "code",
      "source": [
        "df12=df12.assign(année= 2018)"
      ],
      "metadata": {
        "id": "sa2uwBTTme9N"
      },
      "execution_count": 149,
      "outputs": []
    },
    {
      "cell_type": "code",
      "source": [
        "df12.columns=['FINESS\\njuridique',\n",
        "       'Nom de lEtablissement de Santé\\ndu Porteur de Projet/Investigateur\\nCoordonnateur',\n",
        "       'Porteur de Projet/Investigateur\\nCoordonnateur\\nNOM',\n",
        "       'Porteur de Projet/Investigateur\\nCoordonnateur\\nPRENOM',\n",
        "       'Titre du projet', 'N° du projet', 'Acronyme',\n",
        "       'Montant maximal PREVISIONNEL \\n (accordé  sous conditions de suivi','année']"
      ],
      "metadata": {
        "id": "fcIQF_Uuuiuf"
      },
      "execution_count": 150,
      "outputs": []
    },
    {
      "cell_type": "code",
      "source": [
        "df13= pd.read_excel(\"/content/resultats_preps_2019_mel_v0-2_20200102.xlsx\")"
      ],
      "metadata": {
        "id": "b7nxOAnBmlfV"
      },
      "execution_count": 151,
      "outputs": []
    },
    {
      "cell_type": "code",
      "source": [
        "df13=df13.assign(année= 2019)"
      ],
      "metadata": {
        "id": "R1pBq3OMmlmV"
      },
      "execution_count": 152,
      "outputs": []
    },
    {
      "cell_type": "code",
      "source": [
        "df12.columns=['FINESS\\njuridique',\n",
        "       'Nom de lEtablissement de Santé\\ndu Porteur de Projet/Investigateur\\nCoordonnateur',\n",
        "       'Porteur de Projet/Investigateur\\nCoordonnateur\\nNOM',\n",
        "       'Porteur de Projet/Investigateur\\nCoordonnateur\\nPRENOM',\n",
        "       'Titre du projet', 'N° du projet', 'Acronyme',\n",
        "       'Montant maximal PREVISIONNEL \\n (accordé  sous conditions de suivi','année']"
      ],
      "metadata": {
        "id": "2OnjGa5TulzQ"
      },
      "execution_count": 153,
      "outputs": []
    },
    {
      "cell_type": "code",
      "source": [
        "df1.columns = df2.columns = df3.columns = df4.columns = df5.columns = df6.columns = df7.columns = df9.columns = df10.columns = df11.columns = df12.columns = df13.columns"
      ],
      "metadata": {
        "id": "ocaJ_6GNmsmc"
      },
      "execution_count": 154,
      "outputs": []
    },
    {
      "cell_type": "code",
      "source": [
        "DFF= pd.concat([df1,df2, df3,df4,df5,df6,df7,df9,df10,df11,df12,df13])"
      ],
      "metadata": {
        "id": "Lf8d2-MUmu0z"
      },
      "execution_count": 155,
      "outputs": []
    },
    {
      "cell_type": "code",
      "source": [
        "DFF "
      ],
      "metadata": {
        "colab": {
          "base_uri": "https://localhost:8080/",
          "height": 763
        },
        "id": "KoOmL9_lmxIL",
        "outputId": "d24ccaf6-013e-43ce-b234-39907dbcb190"
      },
      "execution_count": 156,
      "outputs": [
        {
          "output_type": "execute_result",
          "data": {
            "text/plain": [
              "   Porteur de projet / Investigateur\\ncoordonnateur\\nNOM  \\\n",
              "0                                           380780080      \n",
              "1                                           380780080      \n",
              "2                                           750712184      \n",
              "3                                           800000044      \n",
              "4                                           750712184      \n",
              "..                                                ...      \n",
              "25                                           SAILLOUR      \n",
              "26                                              SALVO      \n",
              "27                                        SOTO MARTIN      \n",
              "28                                             TOUZET      \n",
              "29                                             VALERA      \n",
              "\n",
              "   Porteur de projet / Investigateur\\ncoordonnateur\\nPRENOM  \\\n",
              "0                                        CHU GRENOBLE         \n",
              "1                                        CHU GRENOBLE         \n",
              "2                           ASSISTANCE PUBLIQUE AP-HP         \n",
              "3                                          CHU AMIENS         \n",
              "4                           ASSISTANCE PUBLIQUE AP-HP         \n",
              "..                                                ...         \n",
              "25                                           Florence         \n",
              "26                                          Francesco         \n",
              "27                                              Maria         \n",
              "28                                           Sandrine         \n",
              "29                                             Sabine         \n",
              "\n",
              "   N° du projet PREPS       FINESS  \\\n",
              "0          ALBALADEJO       Pierre   \n",
              "1             ALLENET       Benoit   \n",
              "2           ASTAGNEAU       Pascal   \n",
              "3             BARBARE  Jean-Claude   \n",
              "4             BOUTRON     Isabelle   \n",
              "..                ...          ...   \n",
              "25      PREPS-19-0087    330781196   \n",
              "26      PREPS-19-0170    330781196   \n",
              "27      PREPS-19-0027    310781406   \n",
              "28      PREPS-19-0004    690781810   \n",
              "29      PREPS-19-0084    130786049   \n",
              "\n",
              "   Nom de l'établissement de santé\\ngestionnaire des fonds        Acronyme  \\\n",
              "0   Impact d'un programme pédagogique sur la cultu...          12-026-0101   \n",
              "1   Evaluation de l’apport du Dossier Pharmaceutiq...          12-026-0056   \n",
              "2   Evaluation des pratiques et analyse des risque...          12-002-0037   \n",
              "3   Essai randomisé évaluant l'intervention du Can...          12-022-0048   \n",
              "4   Comparaison de l’effet traitement entre sujets...       12-002-0014 \\n   \n",
              "..                                                ...                  ...   \n",
              "25                           CHU HOPITAUX DE BORDEAUX          sPREAdPerti   \n",
              "26                           CHU HOPITAUX DE BORDEAUX               PRoSIT   \n",
              "27                                       CHU TOULOUSE            PERSON-AL   \n",
              "28                            HOSPICES CIVILS DE LYON                D-CUB   \n",
              "29                            APHM DIRECTION GENERALE               FOURMY   \n",
              "\n",
              "                                      Titre du projet  \\\n",
              "0                                             PROPECS   \n",
              "1                                           DP-CONCIL   \n",
              "2                                            CATHEVAL   \n",
              "3                                                ERNU   \n",
              "4                                        COMA-study\\n   \n",
              "..                                                ...   \n",
              "25  Évaluation d’un PRogrammE de mobilisation et d...   \n",
              "26  Développement, validation et impact de l’ident...   \n",
              "27  PERSONnalisation de la prise en charge des sym...   \n",
              "28  Réduction de la consommation inappropriée des ...   \n",
              "29  FOrmation des infirmiers des Unités de Réanima...   \n",
              "\n",
              "    Autorisation d'engagement (AE)  année  \n",
              "0                         222970.0   2012  \n",
              "1                         198880.0   2012  \n",
              "2                         146960.0   2012  \n",
              "3                         555720.0   2012  \n",
              "4                          48675.0   2012  \n",
              "..                             ...    ...  \n",
              "25                        312975.0   2019  \n",
              "26                        630953.0   2019  \n",
              "27                        782250.0   2019  \n",
              "28                        598895.0   2019  \n",
              "29                        630121.0   2019  \n",
              "\n",
              "[265 rows x 9 columns]"
            ],
            "text/html": [
              "\n",
              "  <div id=\"df-14235f9e-a36a-411f-b9f0-433e7b72d649\">\n",
              "    <div class=\"colab-df-container\">\n",
              "      <div>\n",
              "<style scoped>\n",
              "    .dataframe tbody tr th:only-of-type {\n",
              "        vertical-align: middle;\n",
              "    }\n",
              "\n",
              "    .dataframe tbody tr th {\n",
              "        vertical-align: top;\n",
              "    }\n",
              "\n",
              "    .dataframe thead th {\n",
              "        text-align: right;\n",
              "    }\n",
              "</style>\n",
              "<table border=\"1\" class=\"dataframe\">\n",
              "  <thead>\n",
              "    <tr style=\"text-align: right;\">\n",
              "      <th></th>\n",
              "      <th>Porteur de projet / Investigateur\\ncoordonnateur\\nNOM</th>\n",
              "      <th>Porteur de projet / Investigateur\\ncoordonnateur\\nPRENOM</th>\n",
              "      <th>N° du projet PREPS</th>\n",
              "      <th>FINESS</th>\n",
              "      <th>Nom de l'établissement de santé\\ngestionnaire des fonds</th>\n",
              "      <th>Acronyme</th>\n",
              "      <th>Titre du projet</th>\n",
              "      <th>Autorisation d'engagement (AE)</th>\n",
              "      <th>année</th>\n",
              "    </tr>\n",
              "  </thead>\n",
              "  <tbody>\n",
              "    <tr>\n",
              "      <th>0</th>\n",
              "      <td>380780080</td>\n",
              "      <td>CHU GRENOBLE</td>\n",
              "      <td>ALBALADEJO</td>\n",
              "      <td>Pierre</td>\n",
              "      <td>Impact d'un programme pédagogique sur la cultu...</td>\n",
              "      <td>12-026-0101</td>\n",
              "      <td>PROPECS</td>\n",
              "      <td>222970.0</td>\n",
              "      <td>2012</td>\n",
              "    </tr>\n",
              "    <tr>\n",
              "      <th>1</th>\n",
              "      <td>380780080</td>\n",
              "      <td>CHU GRENOBLE</td>\n",
              "      <td>ALLENET</td>\n",
              "      <td>Benoit</td>\n",
              "      <td>Evaluation de l’apport du Dossier Pharmaceutiq...</td>\n",
              "      <td>12-026-0056</td>\n",
              "      <td>DP-CONCIL</td>\n",
              "      <td>198880.0</td>\n",
              "      <td>2012</td>\n",
              "    </tr>\n",
              "    <tr>\n",
              "      <th>2</th>\n",
              "      <td>750712184</td>\n",
              "      <td>ASSISTANCE PUBLIQUE AP-HP</td>\n",
              "      <td>ASTAGNEAU</td>\n",
              "      <td>Pascal</td>\n",
              "      <td>Evaluation des pratiques et analyse des risque...</td>\n",
              "      <td>12-002-0037</td>\n",
              "      <td>CATHEVAL</td>\n",
              "      <td>146960.0</td>\n",
              "      <td>2012</td>\n",
              "    </tr>\n",
              "    <tr>\n",
              "      <th>3</th>\n",
              "      <td>800000044</td>\n",
              "      <td>CHU AMIENS</td>\n",
              "      <td>BARBARE</td>\n",
              "      <td>Jean-Claude</td>\n",
              "      <td>Essai randomisé évaluant l'intervention du Can...</td>\n",
              "      <td>12-022-0048</td>\n",
              "      <td>ERNU</td>\n",
              "      <td>555720.0</td>\n",
              "      <td>2012</td>\n",
              "    </tr>\n",
              "    <tr>\n",
              "      <th>4</th>\n",
              "      <td>750712184</td>\n",
              "      <td>ASSISTANCE PUBLIQUE AP-HP</td>\n",
              "      <td>BOUTRON</td>\n",
              "      <td>Isabelle</td>\n",
              "      <td>Comparaison de l’effet traitement entre sujets...</td>\n",
              "      <td>12-002-0014 \\n</td>\n",
              "      <td>COMA-study\\n</td>\n",
              "      <td>48675.0</td>\n",
              "      <td>2012</td>\n",
              "    </tr>\n",
              "    <tr>\n",
              "      <th>...</th>\n",
              "      <td>...</td>\n",
              "      <td>...</td>\n",
              "      <td>...</td>\n",
              "      <td>...</td>\n",
              "      <td>...</td>\n",
              "      <td>...</td>\n",
              "      <td>...</td>\n",
              "      <td>...</td>\n",
              "      <td>...</td>\n",
              "    </tr>\n",
              "    <tr>\n",
              "      <th>25</th>\n",
              "      <td>SAILLOUR</td>\n",
              "      <td>Florence</td>\n",
              "      <td>PREPS-19-0087</td>\n",
              "      <td>330781196</td>\n",
              "      <td>CHU HOPITAUX DE BORDEAUX</td>\n",
              "      <td>sPREAdPerti</td>\n",
              "      <td>Évaluation d’un PRogrammE de mobilisation et d...</td>\n",
              "      <td>312975.0</td>\n",
              "      <td>2019</td>\n",
              "    </tr>\n",
              "    <tr>\n",
              "      <th>26</th>\n",
              "      <td>SALVO</td>\n",
              "      <td>Francesco</td>\n",
              "      <td>PREPS-19-0170</td>\n",
              "      <td>330781196</td>\n",
              "      <td>CHU HOPITAUX DE BORDEAUX</td>\n",
              "      <td>PRoSIT</td>\n",
              "      <td>Développement, validation et impact de l’ident...</td>\n",
              "      <td>630953.0</td>\n",
              "      <td>2019</td>\n",
              "    </tr>\n",
              "    <tr>\n",
              "      <th>27</th>\n",
              "      <td>SOTO MARTIN</td>\n",
              "      <td>Maria</td>\n",
              "      <td>PREPS-19-0027</td>\n",
              "      <td>310781406</td>\n",
              "      <td>CHU TOULOUSE</td>\n",
              "      <td>PERSON-AL</td>\n",
              "      <td>PERSONnalisation de la prise en charge des sym...</td>\n",
              "      <td>782250.0</td>\n",
              "      <td>2019</td>\n",
              "    </tr>\n",
              "    <tr>\n",
              "      <th>28</th>\n",
              "      <td>TOUZET</td>\n",
              "      <td>Sandrine</td>\n",
              "      <td>PREPS-19-0004</td>\n",
              "      <td>690781810</td>\n",
              "      <td>HOSPICES CIVILS DE LYON</td>\n",
              "      <td>D-CUB</td>\n",
              "      <td>Réduction de la consommation inappropriée des ...</td>\n",
              "      <td>598895.0</td>\n",
              "      <td>2019</td>\n",
              "    </tr>\n",
              "    <tr>\n",
              "      <th>29</th>\n",
              "      <td>VALERA</td>\n",
              "      <td>Sabine</td>\n",
              "      <td>PREPS-19-0084</td>\n",
              "      <td>130786049</td>\n",
              "      <td>APHM DIRECTION GENERALE</td>\n",
              "      <td>FOURMY</td>\n",
              "      <td>FOrmation des infirmiers des Unités de Réanima...</td>\n",
              "      <td>630121.0</td>\n",
              "      <td>2019</td>\n",
              "    </tr>\n",
              "  </tbody>\n",
              "</table>\n",
              "<p>265 rows × 9 columns</p>\n",
              "</div>\n",
              "      <button class=\"colab-df-convert\" onclick=\"convertToInteractive('df-14235f9e-a36a-411f-b9f0-433e7b72d649')\"\n",
              "              title=\"Convert this dataframe to an interactive table.\"\n",
              "              style=\"display:none;\">\n",
              "        \n",
              "  <svg xmlns=\"http://www.w3.org/2000/svg\" height=\"24px\"viewBox=\"0 0 24 24\"\n",
              "       width=\"24px\">\n",
              "    <path d=\"M0 0h24v24H0V0z\" fill=\"none\"/>\n",
              "    <path d=\"M18.56 5.44l.94 2.06.94-2.06 2.06-.94-2.06-.94-.94-2.06-.94 2.06-2.06.94zm-11 1L8.5 8.5l.94-2.06 2.06-.94-2.06-.94L8.5 2.5l-.94 2.06-2.06.94zm10 10l.94 2.06.94-2.06 2.06-.94-2.06-.94-.94-2.06-.94 2.06-2.06.94z\"/><path d=\"M17.41 7.96l-1.37-1.37c-.4-.4-.92-.59-1.43-.59-.52 0-1.04.2-1.43.59L10.3 9.45l-7.72 7.72c-.78.78-.78 2.05 0 2.83L4 21.41c.39.39.9.59 1.41.59.51 0 1.02-.2 1.41-.59l7.78-7.78 2.81-2.81c.8-.78.8-2.07 0-2.86zM5.41 20L4 18.59l7.72-7.72 1.47 1.35L5.41 20z\"/>\n",
              "  </svg>\n",
              "      </button>\n",
              "      \n",
              "  <style>\n",
              "    .colab-df-container {\n",
              "      display:flex;\n",
              "      flex-wrap:wrap;\n",
              "      gap: 12px;\n",
              "    }\n",
              "\n",
              "    .colab-df-convert {\n",
              "      background-color: #E8F0FE;\n",
              "      border: none;\n",
              "      border-radius: 50%;\n",
              "      cursor: pointer;\n",
              "      display: none;\n",
              "      fill: #1967D2;\n",
              "      height: 32px;\n",
              "      padding: 0 0 0 0;\n",
              "      width: 32px;\n",
              "    }\n",
              "\n",
              "    .colab-df-convert:hover {\n",
              "      background-color: #E2EBFA;\n",
              "      box-shadow: 0px 1px 2px rgba(60, 64, 67, 0.3), 0px 1px 3px 1px rgba(60, 64, 67, 0.15);\n",
              "      fill: #174EA6;\n",
              "    }\n",
              "\n",
              "    [theme=dark] .colab-df-convert {\n",
              "      background-color: #3B4455;\n",
              "      fill: #D2E3FC;\n",
              "    }\n",
              "\n",
              "    [theme=dark] .colab-df-convert:hover {\n",
              "      background-color: #434B5C;\n",
              "      box-shadow: 0px 1px 3px 1px rgba(0, 0, 0, 0.15);\n",
              "      filter: drop-shadow(0px 1px 2px rgba(0, 0, 0, 0.3));\n",
              "      fill: #FFFFFF;\n",
              "    }\n",
              "  </style>\n",
              "\n",
              "      <script>\n",
              "        const buttonEl =\n",
              "          document.querySelector('#df-14235f9e-a36a-411f-b9f0-433e7b72d649 button.colab-df-convert');\n",
              "        buttonEl.style.display =\n",
              "          google.colab.kernel.accessAllowed ? 'block' : 'none';\n",
              "\n",
              "        async function convertToInteractive(key) {\n",
              "          const element = document.querySelector('#df-14235f9e-a36a-411f-b9f0-433e7b72d649');\n",
              "          const dataTable =\n",
              "            await google.colab.kernel.invokeFunction('convertToInteractive',\n",
              "                                                     [key], {});\n",
              "          if (!dataTable) return;\n",
              "\n",
              "          const docLinkHtml = 'Like what you see? Visit the ' +\n",
              "            '<a target=\"_blank\" href=https://colab.research.google.com/notebooks/data_table.ipynb>data table notebook</a>'\n",
              "            + ' to learn more about interactive tables.';\n",
              "          element.innerHTML = '';\n",
              "          dataTable['output_type'] = 'display_data';\n",
              "          await google.colab.output.renderOutput(dataTable, element);\n",
              "          const docLink = document.createElement('div');\n",
              "          docLink.innerHTML = docLinkHtml;\n",
              "          element.appendChild(docLink);\n",
              "        }\n",
              "      </script>\n",
              "    </div>\n",
              "  </div>\n",
              "  "
            ]
          },
          "metadata": {},
          "execution_count": 156
        }
      ]
    }
  ]
}