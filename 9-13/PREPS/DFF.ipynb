{
  "nbformat": 4,
  "nbformat_minor": 0,
  "metadata": {
    "colab": {
      "provenance": [],
      "collapsed_sections": [],
      "authorship_tag": "ABX9TyOoj8eyhvGsJODni3g9KzOF",
      "include_colab_link": true
    },
    "kernelspec": {
      "name": "python3",
      "display_name": "Python 3"
    },
    "language_info": {
      "name": "python"
    }
  },
  "cells": [
    {
      "cell_type": "markdown",
      "metadata": {
        "id": "view-in-github",
        "colab_type": "text"
      },
      "source": [
        "<a href=\"https://colab.research.google.com/github/ouissem11/App-pratique/blob/master/9-13/PREPS/DFF.ipynb\" target=\"_parent\"><img src=\"https://colab.research.google.com/assets/colab-badge.svg\" alt=\"Open In Colab\"/></a>"
      ]
    },
    {
      "cell_type": "code",
      "execution_count": 2,
      "metadata": {
        "id": "a7YSgEUIth6n"
      },
      "outputs": [],
      "source": [
        "import numpy as np\n",
        "import pandas as pd"
      ]
    },
    {
      "cell_type": "code",
      "source": [
        "!pip install pandas==1.2.0"
      ],
      "metadata": {
        "colab": {
          "base_uri": "https://localhost:8080/"
        },
        "id": "r0WCZHsZt1Yi",
        "outputId": "b560247a-5eff-444a-98e4-359a79788464"
      },
      "execution_count": 65,
      "outputs": [
        {
          "output_type": "stream",
          "name": "stdout",
          "text": [
            "Looking in indexes: https://pypi.org/simple, https://us-python.pkg.dev/colab-wheels/public/simple/\n",
            "Requirement already satisfied: pandas==1.2.0 in /usr/local/lib/python3.7/dist-packages (1.2.0)\n",
            "Requirement already satisfied: pytz>=2017.3 in /usr/local/lib/python3.7/dist-packages (from pandas==1.2.0) (2022.2.1)\n",
            "Requirement already satisfied: numpy>=1.16.5 in /usr/local/lib/python3.7/dist-packages (from pandas==1.2.0) (1.21.6)\n",
            "Requirement already satisfied: python-dateutil>=2.7.3 in /usr/local/lib/python3.7/dist-packages (from pandas==1.2.0) (2.8.2)\n",
            "Requirement already satisfied: six>=1.5 in /usr/local/lib/python3.7/dist-packages (from python-dateutil>=2.7.3->pandas==1.2.0) (1.15.0)\n"
          ]
        }
      ]
    },
    {
      "cell_type": "code",
      "source": [
        "!pip install xlrd==1.2.0"
      ],
      "metadata": {
        "colab": {
          "base_uri": "https://localhost:8080/"
        },
        "id": "gLdjtkfkt5VN",
        "outputId": "2130bf6c-d466-4dbb-aa88-8a6af1d1dd81"
      },
      "execution_count": 4,
      "outputs": [
        {
          "output_type": "stream",
          "name": "stdout",
          "text": [
            "Looking in indexes: https://pypi.org/simple, https://us-python.pkg.dev/colab-wheels/public/simple/\n",
            "Collecting xlrd==1.2.0\n",
            "  Downloading xlrd-1.2.0-py2.py3-none-any.whl (103 kB)\n",
            "\u001b[K     |████████████████████████████████| 103 kB 4.2 MB/s \n",
            "\u001b[?25hInstalling collected packages: xlrd\n",
            "  Attempting uninstall: xlrd\n",
            "    Found existing installation: xlrd 1.1.0\n",
            "    Uninstalling xlrd-1.1.0:\n",
            "      Successfully uninstalled xlrd-1.1.0\n",
            "Successfully installed xlrd-1.2.0\n"
          ]
        }
      ]
    },
    {
      "cell_type": "code",
      "source": [
        "df1 = pd.read_excel(\"/content/RESULTAT-PREPS-2012.xls\")"
      ],
      "metadata": {
        "id": "R1a_lIont-8t"
      },
      "execution_count": 5,
      "outputs": []
    },
    {
      "cell_type": "code",
      "source": [
        "df1.columns"
      ],
      "metadata": {
        "colab": {
          "base_uri": "https://localhost:8080/"
        },
        "id": "p4HjkZ3tuIAJ",
        "outputId": "22dc5b79-7038-4d91-af0e-99f27d547980"
      },
      "execution_count": 6,
      "outputs": [
        {
          "output_type": "execute_result",
          "data": {
            "text/plain": [
              "Index(['FINESS\\njuridique',\n",
              "       'Nom de l'Etablissement de Santé\\ndu Porteur de Projet/Investigateur\\nCoordonnateur',\n",
              "       'Porteur de Projet/Investigateur\\nCoordonnateur\\nNOM',\n",
              "       'Porteur de Projet/Investigateur\\nCoordonnateur\\nPRENOM',\n",
              "       'Titre du projet', 'N° du projet', 'Acronyme',\n",
              "       'Montant maximal PREVISIONNEL \\n (accordé  sous conditions de suivi)'],\n",
              "      dtype='object')"
            ]
          },
          "metadata": {},
          "execution_count": 6
        }
      ]
    },
    {
      "cell_type": "code",
      "source": [
        "df1=df1.assign(année= 2012) "
      ],
      "metadata": {
        "id": "qj-AN72xyN9D"
      },
      "execution_count": 7,
      "outputs": []
    },
    {
      "cell_type": "code",
      "source": [
        "df1.columns =['FINESS',\n",
        "       'Nom de Etablissement de Santé',\n",
        "       'Porteur de Projet/nNOM',\n",
        "       'Porteur de Projet/nPRENOM',\n",
        "       'Titre du projet', 'N° du projet', 'Acronyme',\n",
        "       'Montant maximal' ,'année']"
      ],
      "metadata": {
        "id": "opvd1-1IJMtr"
      },
      "execution_count": 8,
      "outputs": []
    },
    {
      "cell_type": "code",
      "source": [
        "df1=df1[['FINESS',\n",
        "       'Nom de Etablissement de Santé',\n",
        "       'Porteur de Projet/nNOM',\n",
        "       'Porteur de Projet/nPRENOM',\n",
        "       'Titre du projet', 'N° du projet', 'Acronyme',\n",
        "       'Montant maximal' ,'année']]"
      ],
      "metadata": {
        "id": "EF8k8m2fyjkl"
      },
      "execution_count": 9,
      "outputs": []
    },
    {
      "cell_type": "code",
      "source": [
        "df2 = pd.read_excel(\"/content/RESULTAT-PREPS-SIPS-2012.xls\")"
      ],
      "metadata": {
        "id": "6gaFHUXJuQ_-"
      },
      "execution_count": 10,
      "outputs": []
    },
    {
      "cell_type": "code",
      "source": [
        "df2=df2.assign(année= 2012) "
      ],
      "metadata": {
        "id": "rLHc572cyu5A"
      },
      "execution_count": 11,
      "outputs": []
    },
    {
      "cell_type": "code",
      "source": [
        "df2.columns =['FINESS',\n",
        "       'Nom de Etablissement de Santé',\n",
        "       'Porteur de Projet/nNOM',\n",
        "       'Porteur de Projet/nPRENOM',\n",
        "       'Titre du projet', 'N° du projet', 'Acronyme',\n",
        "       'Montant maximal' ,'année']"
      ],
      "metadata": {
        "id": "Cj6iynvLG85X"
      },
      "execution_count": 12,
      "outputs": []
    },
    {
      "cell_type": "code",
      "source": [
        "df2.columns"
      ],
      "metadata": {
        "colab": {
          "base_uri": "https://localhost:8080/"
        },
        "id": "osFbdN5iIhgZ",
        "outputId": "6e219543-f816-4e7b-daaa-73086f76789c"
      },
      "execution_count": 13,
      "outputs": [
        {
          "output_type": "execute_result",
          "data": {
            "text/plain": [
              "Index(['FINESS', 'Nom de Etablissement de Santé', 'Porteur de Projet/nNOM',\n",
              "       'Porteur de Projet/nPRENOM', 'Titre du projet', 'N° du projet',\n",
              "       'Acronyme', 'Montant maximal', 'année'],\n",
              "      dtype='object')"
            ]
          },
          "metadata": {},
          "execution_count": 13
        }
      ]
    },
    {
      "cell_type": "code",
      "source": [
        "df2=df2[['FINESS', 'Nom de Etablissement de Santé', 'Porteur de Projet/nNOM',\n",
        "       'Porteur de Projet/nPRENOM', 'Titre du projet', 'N° du projet',\n",
        "       'Acronyme', 'Montant maximal', 'année']]"
      ],
      "metadata": {
        "id": "aDCg6FDrywa6"
      },
      "execution_count": 14,
      "outputs": []
    },
    {
      "cell_type": "code",
      "source": [
        "df3 = pd.read_excel(\"/content/Resultats_PREPS-DP_2013.xlsx\")"
      ],
      "metadata": {
        "id": "KG_VnQikuWMd"
      },
      "execution_count": 15,
      "outputs": []
    },
    {
      "cell_type": "code",
      "source": [
        "df3=df3.drop('Champ \"Innovation Recherche\" du PMSI', axis=1)"
      ],
      "metadata": {
        "id": "nhp4oR5WRV-o"
      },
      "execution_count": 16,
      "outputs": []
    },
    {
      "cell_type": "code",
      "source": [
        "df3=df3.assign(année= 2013) "
      ],
      "metadata": {
        "id": "tGkhnzk3y2Iq"
      },
      "execution_count": 17,
      "outputs": []
    },
    {
      "cell_type": "code",
      "source": [
        "df3.columns = ['FINESS',\n",
        "       'Nom de Etablissement de Santé',\n",
        "       'Porteur de Projet/nNOM',\n",
        "       'Porteur de Projet/nPRENOM',\n",
        "       'Titre du projet', 'N° du projet', 'Acronyme',\n",
        "       'Montant maximal','année']"
      ],
      "metadata": {
        "id": "gn9HwaKbuaRU"
      },
      "execution_count": 18,
      "outputs": []
    },
    {
      "cell_type": "code",
      "source": [
        "df3 =df3[['FINESS', 'Nom de Etablissement de Santé', 'Porteur de Projet/nNOM',\n",
        "       'Porteur de Projet/nPRENOM', 'Titre du projet', 'N° du projet',\n",
        "       'Acronyme', 'Montant maximal', 'année']]"
      ],
      "metadata": {
        "id": "EfNEGZpDItDN"
      },
      "execution_count": 19,
      "outputs": []
    },
    {
      "cell_type": "code",
      "source": [],
      "metadata": {
        "id": "UPOKfWCAItx2"
      },
      "execution_count": 19,
      "outputs": []
    },
    {
      "cell_type": "code",
      "source": [
        "df4 = pd.read_excel(\"/content/Resultats_PREPS-IQ_2013.xlsx\")"
      ],
      "metadata": {
        "id": "kDQF9nN9u5uV"
      },
      "execution_count": 20,
      "outputs": []
    },
    {
      "cell_type": "code",
      "source": [
        "df4.columns"
      ],
      "metadata": {
        "colab": {
          "base_uri": "https://localhost:8080/"
        },
        "id": "8dOrW9TPu8uj",
        "outputId": "a946804b-1f93-46e9-bde6-0c1195ad9d5c"
      },
      "execution_count": 21,
      "outputs": [
        {
          "output_type": "execute_result",
          "data": {
            "text/plain": [
              "Index(['FINESS\\njuridique', 'Nom de l'établissement de santé\\ncoordonnateur',\n",
              "       'Porteur de projet / Investigateur\\ncoordonnateur\\nNOM',\n",
              "       'Porteur de projet / Investigateur\\ncoordonnateur\\nPRENOM',\n",
              "       'Titre du projet', 'N° du projet',\n",
              "       'Champ \"Innovation Recherche\" du PMSI', 'Acronyme',\n",
              "       'Montant accordé sous conditions de suivi (€)'],\n",
              "      dtype='object')"
            ]
          },
          "metadata": {},
          "execution_count": 21
        }
      ]
    },
    {
      "cell_type": "code",
      "source": [
        "df4=df4.drop('Champ \"Innovation Recherche\" du PMSI', axis=1)"
      ],
      "metadata": {
        "id": "9qK4MIyrvAcO"
      },
      "execution_count": 22,
      "outputs": []
    },
    {
      "cell_type": "code",
      "source": [
        "df4=df4.assign(année= 2013) "
      ],
      "metadata": {
        "id": "FhJ0Aj1gzGlV"
      },
      "execution_count": 23,
      "outputs": []
    },
    {
      "cell_type": "code",
      "source": [
        "df4.columns = ['FINESS',\n",
        "       'Nom de Etablissement de Santé',\n",
        "       'Porteur de Projet/nNOM',\n",
        "       'Porteur de Projet/nPRENOM',\n",
        "       'Titre du projet', 'N° du projet', 'Acronyme',\n",
        "       'Montant maximal' ,'année']"
      ],
      "metadata": {
        "id": "aEtk_TF3J3WO"
      },
      "execution_count": 24,
      "outputs": []
    },
    {
      "cell_type": "code",
      "source": [
        "df4 =df4[['FINESS', 'Nom de Etablissement de Santé', 'Porteur de Projet/nNOM',\n",
        "       'Porteur de Projet/nPRENOM', 'Titre du projet', 'N° du projet',\n",
        "       'Acronyme', 'Montant maximal', 'année']]"
      ],
      "metadata": {
        "id": "U03GEH5szi98"
      },
      "execution_count": 25,
      "outputs": []
    },
    {
      "cell_type": "code",
      "source": [
        "df5 = pd.read_excel(\"/content/Resultats_PREPS_2013.xlsx\")"
      ],
      "metadata": {
        "id": "CCHORpiKvD84"
      },
      "execution_count": 26,
      "outputs": []
    },
    {
      "cell_type": "code",
      "source": [
        "df5=df5.assign(année= 2013) "
      ],
      "metadata": {
        "id": "tNF8lA05zrMl"
      },
      "execution_count": 27,
      "outputs": []
    },
    {
      "cell_type": "code",
      "source": [
        "df5.columns=['FINESS',\n",
        "       'Nom de Etablissement de Santé',\n",
        "       'Porteur de Projet/nNOM',\n",
        "       'Porteur de Projet/nPRENOM',\n",
        "       'Titre du projet', 'N° du projet', 'Acronyme',\n",
        "       'Montant maximal','année']\n",
        "       "
      ],
      "metadata": {
        "id": "A-yzZ_Rwz0Mq"
      },
      "execution_count": 28,
      "outputs": []
    },
    {
      "cell_type": "code",
      "source": [
        "df5 =df5[['FINESS', 'Nom de Etablissement de Santé', 'Porteur de Projet/nNOM',\n",
        "       'Porteur de Projet/nPRENOM', 'Titre du projet', 'N° du projet',\n",
        "       'Acronyme', 'Montant maximal', 'année']]"
      ],
      "metadata": {
        "id": "5wQ0TP2AK1eq"
      },
      "execution_count": 29,
      "outputs": []
    },
    {
      "cell_type": "code",
      "source": [
        "df6 = pd.read_excel(\"/content/Resultats_PREPS_2014.xls\")"
      ],
      "metadata": {
        "id": "EIXKRO_rvGqt"
      },
      "execution_count": 30,
      "outputs": []
    },
    {
      "cell_type": "code",
      "source": [
        "df6=df6.assign(année= 2014) "
      ],
      "metadata": {
        "id": "O3r8717Nz6u4"
      },
      "execution_count": 31,
      "outputs": []
    },
    {
      "cell_type": "code",
      "source": [
        "df6.columns=['FINESS',\n",
        "       'Nom de lEtablissement de Santé',\n",
        "       'Porteur de Projet/nNOM',\n",
        "       'Porteur de Projet/nPRENOM',\n",
        "       'Titre du projet', 'N° du projet','Acronyme',\n",
        "       'Montant maximal','année']"
      ],
      "metadata": {
        "id": "6fEMwFWA0BXO"
      },
      "execution_count": 32,
      "outputs": []
    },
    {
      "cell_type": "code",
      "source": [
        "df6=df6[['FINESS',\n",
        "       'Nom de lEtablissement de Santé',\n",
        "       'Porteur de Projet/nNOM',\n",
        "       'Porteur de Projet/nPRENOM',\n",
        "       'Titre du projet', 'N° du projet','Acronyme',\n",
        "       'Montant maximal','année']]"
      ],
      "metadata": {
        "id": "W8NixbPfLThc"
      },
      "execution_count": 33,
      "outputs": []
    },
    {
      "cell_type": "code",
      "source": [
        "df7 = pd.read_excel(\"/content/preps_20_resultatsselection_v2-0_20211006_mel.xlsx\")"
      ],
      "metadata": {
        "id": "nHkWb7gAvJzf"
      },
      "execution_count": 34,
      "outputs": []
    },
    {
      "cell_type": "code",
      "source": [
        "df7=df7.assign(année= 2020) "
      ],
      "metadata": {
        "id": "oY37wTiC0Llx"
      },
      "execution_count": 35,
      "outputs": []
    },
    {
      "cell_type": "code",
      "source": [
        "df7.columns"
      ],
      "metadata": {
        "colab": {
          "base_uri": "https://localhost:8080/"
        },
        "id": "SdsLXnuGS9Zs",
        "outputId": "63fff2a2-a84b-4644-b2bd-51133f63b88a"
      },
      "execution_count": 36,
      "outputs": [
        {
          "output_type": "execute_result",
          "data": {
            "text/plain": [
              "Index(['Porteur de projet / Investigateur\\ncoordonnateur\\nNOM',\n",
              "       'Porteur de projet / Investigateur\\ncoordonnateur\\nPRENOM',\n",
              "       'N° du projet', 'FINESS',\n",
              "       'Nom de l'établissement de santé\\ngestionnaire des fonds', 'Acronyme',\n",
              "       'Titre du projet', 'Autorisation d'engagement (AE)', 'année'],\n",
              "      dtype='object')"
            ]
          },
          "metadata": {},
          "execution_count": 36
        }
      ]
    },
    {
      "cell_type": "code",
      "source": [
        "df7.columns =['Porteur de Projet/nNOM',\n",
        "              'Porteur de Projet/nPRENOM',\n",
        "              'N° du projet',\n",
        "              'FINESS',\n",
        "              'Nom de Etablissement de Santé',\n",
        "              'Acronyme',\n",
        "              'Titre du projet',\n",
        "              'Montant maximal','année']\n"
      ],
      "metadata": {
        "id": "NeO_t_kx54Y3"
      },
      "execution_count": 37,
      "outputs": []
    },
    {
      "cell_type": "code",
      "source": [
        "df7.columns"
      ],
      "metadata": {
        "colab": {
          "base_uri": "https://localhost:8080/"
        },
        "id": "Sbs9sinBTPRc",
        "outputId": "380926a3-4f6e-4deb-e499-00218c7553f7"
      },
      "execution_count": 38,
      "outputs": [
        {
          "output_type": "execute_result",
          "data": {
            "text/plain": [
              "Index(['Porteur de Projet/nNOM', 'Porteur de Projet/nPRENOM', 'N° du projet',\n",
              "       'FINESS', 'Nom de Etablissement de Santé', 'Acronyme',\n",
              "       'Titre du projet', 'Montant maximal', 'année'],\n",
              "      dtype='object')"
            ]
          },
          "metadata": {},
          "execution_count": 38
        }
      ]
    },
    {
      "cell_type": "code",
      "source": [
        "df7=df7[['FINESS',\n",
        "       'Nom de Etablissement de Santé',\n",
        "       'Porteur de Projet/nNOM',\n",
        "       'Porteur de Projet/nPRENOM',\n",
        "       'Titre du projet', 'N° du projet','Acronyme',\n",
        "       'Montant maximal','année']]"
      ],
      "metadata": {
        "id": "YgpdpUcs0hCm"
      },
      "execution_count": 39,
      "outputs": []
    },
    {
      "cell_type": "code",
      "source": [
        "df9 = pd.read_excel(\"/content/resultats_preps_2015_mel.xls\")"
      ],
      "metadata": {
        "id": "oHydM-KfvvSn"
      },
      "execution_count": 40,
      "outputs": []
    },
    {
      "cell_type": "code",
      "source": [
        "df9=df9.assign(année= 2015) "
      ],
      "metadata": {
        "id": "JX4hLEY5A1bV"
      },
      "execution_count": 41,
      "outputs": []
    },
    {
      "cell_type": "code",
      "source": [
        "df9.columns= ['FINESS',\n",
        "       'Nom de Etablissement de Santé',\n",
        "       'Porteur de Projet/nNOM',\n",
        "       'Porteur de Projet/nPRENOM',\n",
        "       'Titre du projet', 'N° du projet','Acronyme',\n",
        "       'Montant maximal','année']"
      ],
      "metadata": {
        "id": "Cszjcp8JBRG3"
      },
      "execution_count": 42,
      "outputs": []
    },
    {
      "cell_type": "code",
      "source": [
        "df9=df9[['FINESS',\n",
        "       'Nom de Etablissement de Santé',\n",
        "       'Porteur de Projet/nNOM',\n",
        "       'Porteur de Projet/nPRENOM',\n",
        "       'Titre du projet', 'N° du projet','Acronyme',\n",
        "       'Montant maximal','année']]"
      ],
      "metadata": {
        "id": "WflcjnjcBHcc"
      },
      "execution_count": 43,
      "outputs": []
    },
    {
      "cell_type": "code",
      "source": [
        "df10 = pd.read_excel(\"/content/resultats_preps_2016_mel.xlsx\")"
      ],
      "metadata": {
        "id": "MoHHjJb3vyma"
      },
      "execution_count": 44,
      "outputs": []
    },
    {
      "cell_type": "code",
      "source": [
        "df10=df10.assign(année= 2016) "
      ],
      "metadata": {
        "id": "Z92uodWjBlUk"
      },
      "execution_count": 45,
      "outputs": []
    },
    {
      "cell_type": "code",
      "source": [
        "df10.columns"
      ],
      "metadata": {
        "colab": {
          "base_uri": "https://localhost:8080/"
        },
        "id": "T3t7I6mQBv1i",
        "outputId": "3290d844-3b41-489d-8697-928b68ef38c8"
      },
      "execution_count": 46,
      "outputs": [
        {
          "output_type": "execute_result",
          "data": {
            "text/plain": [
              "Index(['FINESS\\njuridique',\n",
              "       'Nom de l'établissement de santé\\ngestionnaire des fonds',\n",
              "       'Porteur de projet / Investigateur\\ncoordonnateur\\nNOM',\n",
              "       'Porteur de projet / Investigateur\\ncoordonnateur\\nPRENOM',\n",
              "       'Titre du projet', 'N° du projet', 'Acronyme',\n",
              "       ' Autorisation d'engagement ', 'année'],\n",
              "      dtype='object')"
            ]
          },
          "metadata": {},
          "execution_count": 46
        }
      ]
    },
    {
      "cell_type": "code",
      "source": [
        "df10.columns = [\"FINESS\",\n",
        "       \"Nom de l'établissement de santé\",\n",
        "       \"Porteur de projet/nNOM\",\n",
        "       \"Porteur de projet/nPRENOM\",\n",
        "       \"Titre du projet\", \"N° du projet\", \"Acronyme\",\n",
        "       \"Montant maximal\",\"année\"]"
      ],
      "metadata": {
        "id": "czeMsTWnOXYW"
      },
      "execution_count": 47,
      "outputs": []
    },
    {
      "cell_type": "code",
      "source": [
        "df10=df10[[\"FINESS\",\n",
        "       \"Nom de l'établissement de santé\",\n",
        "       \"Porteur de projet/nNOM\",\n",
        "       \"Porteur de projet/nPRENOM\",\n",
        "       \"Titre du projet\", \"N° du projet\", \"Acronyme\",\n",
        "       \"Montant maximal\",\"année\"]]"
      ],
      "metadata": {
        "id": "9RqeFrCtBnf3"
      },
      "execution_count": 48,
      "outputs": []
    },
    {
      "cell_type": "code",
      "source": [
        "df11 = pd.read_excel(\"/content/resultats_preps_2017_040118.xlsx\")"
      ],
      "metadata": {
        "id": "pul3648Mv2tC"
      },
      "execution_count": 49,
      "outputs": []
    },
    {
      "cell_type": "code",
      "source": [
        "df11=df11.assign(année= 2017) "
      ],
      "metadata": {
        "id": "WhLd_GSZCb8i"
      },
      "execution_count": 50,
      "outputs": []
    },
    {
      "cell_type": "code",
      "source": [
        "df11.columns =[\"FINESS\",\n",
        "       \"Nom de l'établissement de santé\",\n",
        "       \"Porteur de projet/nNOM\",\n",
        "       \"Porteur de projet/nPRENOM\",\n",
        "       \"Titre du projet\", \"N° du projet\", \"Acronyme\",\n",
        "       \"Montant maximal\",\"année\"]"
      ],
      "metadata": {
        "id": "nlWge1reCfyR"
      },
      "execution_count": 51,
      "outputs": []
    },
    {
      "cell_type": "code",
      "source": [
        "df11=df11[[\"FINESS\",\n",
        "       \"Nom de l'établissement de santé\",\n",
        "       \"Porteur de projet/nNOM\",\n",
        "       \"Porteur de projet/nPRENOM\",\n",
        "       \"Titre du projet\", \"N° du projet\", \"Acronyme\",\n",
        "       \"Montant maximal\",\"année\"]]"
      ],
      "metadata": {
        "id": "lGPFf_-oCdYm"
      },
      "execution_count": 52,
      "outputs": []
    },
    {
      "cell_type": "code",
      "source": [
        "df12 = pd.read_excel(\"/content/resultats_preps_2018_mel.xlsx\")"
      ],
      "metadata": {
        "id": "VtMbJEebv7OM"
      },
      "execution_count": 53,
      "outputs": []
    },
    {
      "cell_type": "code",
      "source": [
        "df12=df12.assign(année= 2018)"
      ],
      "metadata": {
        "id": "02D8n8jeC-XZ"
      },
      "execution_count": 54,
      "outputs": []
    },
    {
      "cell_type": "code",
      "source": [
        "df12.columns =['FINESS',\n",
        "       'Nom de lEtablissement de Santé',\n",
        "       'Porteur de Projet/nNOM',\n",
        "       'Porteur de Projet/nPRENOM',\n",
        "       'Titre du projet', 'N° du projet', 'Acronyme',\n",
        "       'Montant maximal','année']"
      ],
      "metadata": {
        "id": "43SeIWIePAv7"
      },
      "execution_count": 55,
      "outputs": []
    },
    {
      "cell_type": "code",
      "source": [
        "df12=df12[['FINESS',\n",
        "       'Nom de lEtablissement de Santé',\n",
        "       'Porteur de Projet/nNOM',\n",
        "       'Porteur de Projet/nPRENOM',\n",
        "       'Titre du projet', 'N° du projet', 'Acronyme',\n",
        "       'Montant maximal','année']]"
      ],
      "metadata": {
        "id": "C7h6CqmbDB1U"
      },
      "execution_count": 56,
      "outputs": []
    },
    {
      "cell_type": "code",
      "source": [
        "df13= pd.read_excel(\"/content/resultats_preps_2019_mel_v0-2_20200102.xlsx\")"
      ],
      "metadata": {
        "id": "yqZMuD0vv-fq"
      },
      "execution_count": 57,
      "outputs": []
    },
    {
      "cell_type": "code",
      "source": [
        "df13=df13.assign(année= 2019)"
      ],
      "metadata": {
        "id": "Fe9VBbNWDHOl"
      },
      "execution_count": 58,
      "outputs": []
    },
    {
      "cell_type": "code",
      "source": [
        "df13.columns=['FINESS',\n",
        "       'Nom de lEtablissement de Santé',\n",
        "       'Porteur de Projet/nNOM',\n",
        "       'Porteur de Projet/nPRENOM',\n",
        "       'Titre du projet', 'N° du projet', 'Acronyme',\n",
        "       'Montant maximal','année']"
      ],
      "metadata": {
        "id": "FH196VDhDL72"
      },
      "execution_count": 59,
      "outputs": []
    },
    {
      "cell_type": "code",
      "source": [
        "df13=df13[['FINESS',\n",
        "       'Nom de lEtablissement de Santé',\n",
        "       'Porteur de Projet/nNOM',\n",
        "       'Porteur de Projet/nPRENOM',\n",
        "       'Titre du projet', 'N° du projet', 'Acronyme',\n",
        "       'Montant maximal','année']]"
      ],
      "metadata": {
        "id": "EErr1wL9QFWb"
      },
      "execution_count": 60,
      "outputs": []
    },
    {
      "cell_type": "code",
      "source": [
        "df1.columns = df2.columns = df3.columns = df4.columns = df5.columns = df6.columns = df7.columns = df9.columns = df10.columns = df11.columns = df12.columns = df13.columns"
      ],
      "metadata": {
        "id": "CDfGfhOOwRHf"
      },
      "execution_count": 61,
      "outputs": []
    },
    {
      "cell_type": "code",
      "source": [
        "DFF= pd.concat([df1,df2, df3,df4,df5,df6,df7,df9,df10,df11,df12,df13])"
      ],
      "metadata": {
        "id": "WLp9YCuJwTyx"
      },
      "execution_count": 84,
      "outputs": []
    },
    {
      "cell_type": "code",
      "source": [
        "DFF"
      ],
      "metadata": {
        "colab": {
          "base_uri": "https://localhost:8080/",
          "height": 797
        },
        "id": "v7FT96_BwWPx",
        "outputId": "20c42f85-951e-4222-9846-cdc7264ace93"
      },
      "execution_count": 63,
      "outputs": [
        {
          "output_type": "execute_result",
          "data": {
            "text/plain": [
              "         FINESS Nom de lEtablissement de Santé Porteur de Projet/nNOM  \\\n",
              "0     380780080                   CHU GRENOBLE             ALBALADEJO   \n",
              "1     380780080                   CHU GRENOBLE                ALLENET   \n",
              "2     750712184      ASSISTANCE PUBLIQUE AP-HP              ASTAGNEAU   \n",
              "3     800000044                     CHU AMIENS                BARBARE   \n",
              "4     750712184      ASSISTANCE PUBLIQUE AP-HP                BOUTRON   \n",
              "..          ...                            ...                    ...   \n",
              "25     SAILLOUR                       Florence          PREPS-19-0087   \n",
              "26        SALVO                      Francesco          PREPS-19-0170   \n",
              "27  SOTO MARTIN                          Maria          PREPS-19-0027   \n",
              "28       TOUZET                       Sandrine          PREPS-19-0004   \n",
              "29       VALERA                         Sabine          PREPS-19-0084   \n",
              "\n",
              "   Porteur de Projet/nPRENOM  \\\n",
              "0                     Pierre   \n",
              "1                     Benoit   \n",
              "2                     Pascal   \n",
              "3                Jean-Claude   \n",
              "4                   Isabelle   \n",
              "..                       ...   \n",
              "25                 330781196   \n",
              "26                 330781196   \n",
              "27                 310781406   \n",
              "28                 690781810   \n",
              "29                 130786049   \n",
              "\n",
              "                                      Titre du projet    N° du projet  \\\n",
              "0   Impact d'un programme pédagogique sur la cultu...     12-026-0101   \n",
              "1   Evaluation de l’apport du Dossier Pharmaceutiq...     12-026-0056   \n",
              "2   Evaluation des pratiques et analyse des risque...     12-002-0037   \n",
              "3   Essai randomisé évaluant l'intervention du Can...     12-022-0048   \n",
              "4   Comparaison de l’effet traitement entre sujets...  12-002-0014 \\n   \n",
              "..                                                ...             ...   \n",
              "25                           CHU HOPITAUX DE BORDEAUX     sPREAdPerti   \n",
              "26                           CHU HOPITAUX DE BORDEAUX          PRoSIT   \n",
              "27                                       CHU TOULOUSE       PERSON-AL   \n",
              "28                            HOSPICES CIVILS DE LYON           D-CUB   \n",
              "29                            APHM DIRECTION GENERALE          FOURMY   \n",
              "\n",
              "                                             Acronyme  Montant maximal  année  \n",
              "0                                             PROPECS         222970.0   2012  \n",
              "1                                           DP-CONCIL         198880.0   2012  \n",
              "2                                            CATHEVAL         146960.0   2012  \n",
              "3                                                ERNU         555720.0   2012  \n",
              "4                                        COMA-study\\n          48675.0   2012  \n",
              "..                                                ...              ...    ...  \n",
              "25  Évaluation d’un PRogrammE de mobilisation et d...         312975.0   2019  \n",
              "26  Développement, validation et impact de l’ident...         630953.0   2019  \n",
              "27  PERSONnalisation de la prise en charge des sym...         782250.0   2019  \n",
              "28  Réduction de la consommation inappropriée des ...         598895.0   2019  \n",
              "29  FOrmation des infirmiers des Unités de Réanima...         630121.0   2019  \n",
              "\n",
              "[263 rows x 9 columns]"
            ],
            "text/html": [
              "\n",
              "  <div id=\"df-8b9b1926-7060-4c36-8a52-69a8b362b6e8\">\n",
              "    <div class=\"colab-df-container\">\n",
              "      <div>\n",
              "<style scoped>\n",
              "    .dataframe tbody tr th:only-of-type {\n",
              "        vertical-align: middle;\n",
              "    }\n",
              "\n",
              "    .dataframe tbody tr th {\n",
              "        vertical-align: top;\n",
              "    }\n",
              "\n",
              "    .dataframe thead th {\n",
              "        text-align: right;\n",
              "    }\n",
              "</style>\n",
              "<table border=\"1\" class=\"dataframe\">\n",
              "  <thead>\n",
              "    <tr style=\"text-align: right;\">\n",
              "      <th></th>\n",
              "      <th>FINESS</th>\n",
              "      <th>Nom de lEtablissement de Santé</th>\n",
              "      <th>Porteur de Projet/nNOM</th>\n",
              "      <th>Porteur de Projet/nPRENOM</th>\n",
              "      <th>Titre du projet</th>\n",
              "      <th>N° du projet</th>\n",
              "      <th>Acronyme</th>\n",
              "      <th>Montant maximal</th>\n",
              "      <th>année</th>\n",
              "    </tr>\n",
              "  </thead>\n",
              "  <tbody>\n",
              "    <tr>\n",
              "      <th>0</th>\n",
              "      <td>380780080</td>\n",
              "      <td>CHU GRENOBLE</td>\n",
              "      <td>ALBALADEJO</td>\n",
              "      <td>Pierre</td>\n",
              "      <td>Impact d'un programme pédagogique sur la cultu...</td>\n",
              "      <td>12-026-0101</td>\n",
              "      <td>PROPECS</td>\n",
              "      <td>222970.0</td>\n",
              "      <td>2012</td>\n",
              "    </tr>\n",
              "    <tr>\n",
              "      <th>1</th>\n",
              "      <td>380780080</td>\n",
              "      <td>CHU GRENOBLE</td>\n",
              "      <td>ALLENET</td>\n",
              "      <td>Benoit</td>\n",
              "      <td>Evaluation de l’apport du Dossier Pharmaceutiq...</td>\n",
              "      <td>12-026-0056</td>\n",
              "      <td>DP-CONCIL</td>\n",
              "      <td>198880.0</td>\n",
              "      <td>2012</td>\n",
              "    </tr>\n",
              "    <tr>\n",
              "      <th>2</th>\n",
              "      <td>750712184</td>\n",
              "      <td>ASSISTANCE PUBLIQUE AP-HP</td>\n",
              "      <td>ASTAGNEAU</td>\n",
              "      <td>Pascal</td>\n",
              "      <td>Evaluation des pratiques et analyse des risque...</td>\n",
              "      <td>12-002-0037</td>\n",
              "      <td>CATHEVAL</td>\n",
              "      <td>146960.0</td>\n",
              "      <td>2012</td>\n",
              "    </tr>\n",
              "    <tr>\n",
              "      <th>3</th>\n",
              "      <td>800000044</td>\n",
              "      <td>CHU AMIENS</td>\n",
              "      <td>BARBARE</td>\n",
              "      <td>Jean-Claude</td>\n",
              "      <td>Essai randomisé évaluant l'intervention du Can...</td>\n",
              "      <td>12-022-0048</td>\n",
              "      <td>ERNU</td>\n",
              "      <td>555720.0</td>\n",
              "      <td>2012</td>\n",
              "    </tr>\n",
              "    <tr>\n",
              "      <th>4</th>\n",
              "      <td>750712184</td>\n",
              "      <td>ASSISTANCE PUBLIQUE AP-HP</td>\n",
              "      <td>BOUTRON</td>\n",
              "      <td>Isabelle</td>\n",
              "      <td>Comparaison de l’effet traitement entre sujets...</td>\n",
              "      <td>12-002-0014 \\n</td>\n",
              "      <td>COMA-study\\n</td>\n",
              "      <td>48675.0</td>\n",
              "      <td>2012</td>\n",
              "    </tr>\n",
              "    <tr>\n",
              "      <th>...</th>\n",
              "      <td>...</td>\n",
              "      <td>...</td>\n",
              "      <td>...</td>\n",
              "      <td>...</td>\n",
              "      <td>...</td>\n",
              "      <td>...</td>\n",
              "      <td>...</td>\n",
              "      <td>...</td>\n",
              "      <td>...</td>\n",
              "    </tr>\n",
              "    <tr>\n",
              "      <th>25</th>\n",
              "      <td>SAILLOUR</td>\n",
              "      <td>Florence</td>\n",
              "      <td>PREPS-19-0087</td>\n",
              "      <td>330781196</td>\n",
              "      <td>CHU HOPITAUX DE BORDEAUX</td>\n",
              "      <td>sPREAdPerti</td>\n",
              "      <td>Évaluation d’un PRogrammE de mobilisation et d...</td>\n",
              "      <td>312975.0</td>\n",
              "      <td>2019</td>\n",
              "    </tr>\n",
              "    <tr>\n",
              "      <th>26</th>\n",
              "      <td>SALVO</td>\n",
              "      <td>Francesco</td>\n",
              "      <td>PREPS-19-0170</td>\n",
              "      <td>330781196</td>\n",
              "      <td>CHU HOPITAUX DE BORDEAUX</td>\n",
              "      <td>PRoSIT</td>\n",
              "      <td>Développement, validation et impact de l’ident...</td>\n",
              "      <td>630953.0</td>\n",
              "      <td>2019</td>\n",
              "    </tr>\n",
              "    <tr>\n",
              "      <th>27</th>\n",
              "      <td>SOTO MARTIN</td>\n",
              "      <td>Maria</td>\n",
              "      <td>PREPS-19-0027</td>\n",
              "      <td>310781406</td>\n",
              "      <td>CHU TOULOUSE</td>\n",
              "      <td>PERSON-AL</td>\n",
              "      <td>PERSONnalisation de la prise en charge des sym...</td>\n",
              "      <td>782250.0</td>\n",
              "      <td>2019</td>\n",
              "    </tr>\n",
              "    <tr>\n",
              "      <th>28</th>\n",
              "      <td>TOUZET</td>\n",
              "      <td>Sandrine</td>\n",
              "      <td>PREPS-19-0004</td>\n",
              "      <td>690781810</td>\n",
              "      <td>HOSPICES CIVILS DE LYON</td>\n",
              "      <td>D-CUB</td>\n",
              "      <td>Réduction de la consommation inappropriée des ...</td>\n",
              "      <td>598895.0</td>\n",
              "      <td>2019</td>\n",
              "    </tr>\n",
              "    <tr>\n",
              "      <th>29</th>\n",
              "      <td>VALERA</td>\n",
              "      <td>Sabine</td>\n",
              "      <td>PREPS-19-0084</td>\n",
              "      <td>130786049</td>\n",
              "      <td>APHM DIRECTION GENERALE</td>\n",
              "      <td>FOURMY</td>\n",
              "      <td>FOrmation des infirmiers des Unités de Réanima...</td>\n",
              "      <td>630121.0</td>\n",
              "      <td>2019</td>\n",
              "    </tr>\n",
              "  </tbody>\n",
              "</table>\n",
              "<p>263 rows × 9 columns</p>\n",
              "</div>\n",
              "      <button class=\"colab-df-convert\" onclick=\"convertToInteractive('df-8b9b1926-7060-4c36-8a52-69a8b362b6e8')\"\n",
              "              title=\"Convert this dataframe to an interactive table.\"\n",
              "              style=\"display:none;\">\n",
              "        \n",
              "  <svg xmlns=\"http://www.w3.org/2000/svg\" height=\"24px\"viewBox=\"0 0 24 24\"\n",
              "       width=\"24px\">\n",
              "    <path d=\"M0 0h24v24H0V0z\" fill=\"none\"/>\n",
              "    <path d=\"M18.56 5.44l.94 2.06.94-2.06 2.06-.94-2.06-.94-.94-2.06-.94 2.06-2.06.94zm-11 1L8.5 8.5l.94-2.06 2.06-.94-2.06-.94L8.5 2.5l-.94 2.06-2.06.94zm10 10l.94 2.06.94-2.06 2.06-.94-2.06-.94-.94-2.06-.94 2.06-2.06.94z\"/><path d=\"M17.41 7.96l-1.37-1.37c-.4-.4-.92-.59-1.43-.59-.52 0-1.04.2-1.43.59L10.3 9.45l-7.72 7.72c-.78.78-.78 2.05 0 2.83L4 21.41c.39.39.9.59 1.41.59.51 0 1.02-.2 1.41-.59l7.78-7.78 2.81-2.81c.8-.78.8-2.07 0-2.86zM5.41 20L4 18.59l7.72-7.72 1.47 1.35L5.41 20z\"/>\n",
              "  </svg>\n",
              "      </button>\n",
              "      \n",
              "  <style>\n",
              "    .colab-df-container {\n",
              "      display:flex;\n",
              "      flex-wrap:wrap;\n",
              "      gap: 12px;\n",
              "    }\n",
              "\n",
              "    .colab-df-convert {\n",
              "      background-color: #E8F0FE;\n",
              "      border: none;\n",
              "      border-radius: 50%;\n",
              "      cursor: pointer;\n",
              "      display: none;\n",
              "      fill: #1967D2;\n",
              "      height: 32px;\n",
              "      padding: 0 0 0 0;\n",
              "      width: 32px;\n",
              "    }\n",
              "\n",
              "    .colab-df-convert:hover {\n",
              "      background-color: #E2EBFA;\n",
              "      box-shadow: 0px 1px 2px rgba(60, 64, 67, 0.3), 0px 1px 3px 1px rgba(60, 64, 67, 0.15);\n",
              "      fill: #174EA6;\n",
              "    }\n",
              "\n",
              "    [theme=dark] .colab-df-convert {\n",
              "      background-color: #3B4455;\n",
              "      fill: #D2E3FC;\n",
              "    }\n",
              "\n",
              "    [theme=dark] .colab-df-convert:hover {\n",
              "      background-color: #434B5C;\n",
              "      box-shadow: 0px 1px 3px 1px rgba(0, 0, 0, 0.15);\n",
              "      filter: drop-shadow(0px 1px 2px rgba(0, 0, 0, 0.3));\n",
              "      fill: #FFFFFF;\n",
              "    }\n",
              "  </style>\n",
              "\n",
              "      <script>\n",
              "        const buttonEl =\n",
              "          document.querySelector('#df-8b9b1926-7060-4c36-8a52-69a8b362b6e8 button.colab-df-convert');\n",
              "        buttonEl.style.display =\n",
              "          google.colab.kernel.accessAllowed ? 'block' : 'none';\n",
              "\n",
              "        async function convertToInteractive(key) {\n",
              "          const element = document.querySelector('#df-8b9b1926-7060-4c36-8a52-69a8b362b6e8');\n",
              "          const dataTable =\n",
              "            await google.colab.kernel.invokeFunction('convertToInteractive',\n",
              "                                                     [key], {});\n",
              "          if (!dataTable) return;\n",
              "\n",
              "          const docLinkHtml = 'Like what you see? Visit the ' +\n",
              "            '<a target=\"_blank\" href=https://colab.research.google.com/notebooks/data_table.ipynb>data table notebook</a>'\n",
              "            + ' to learn more about interactive tables.';\n",
              "          element.innerHTML = '';\n",
              "          dataTable['output_type'] = 'display_data';\n",
              "          await google.colab.output.renderOutput(dataTable, element);\n",
              "          const docLink = document.createElement('div');\n",
              "          docLink.innerHTML = docLinkHtml;\n",
              "          element.appendChild(docLink);\n",
              "        }\n",
              "      </script>\n",
              "    </div>\n",
              "  </div>\n",
              "  "
            ]
          },
          "metadata": {},
          "execution_count": 63
        }
      ]
    },
    {
      "cell_type": "code",
      "source": [
        "#DFF=DFF.groupby(['année']).sum()['Montant maximal']\n",
        "DFF=DFF.groupby(['année']).sum()"
      ],
      "metadata": {
        "id": "33SFoycAStpH"
      },
      "execution_count": 85,
      "outputs": []
    },
    {
      "cell_type": "code",
      "source": [
        "DFF.dtypes"
      ],
      "metadata": {
        "colab": {
          "base_uri": "https://localhost:8080/"
        },
        "id": "tnhOQC0fO0pD",
        "outputId": "fb6dfa36-a09c-4310-f627-168bf034149f"
      },
      "execution_count": 91,
      "outputs": [
        {
          "output_type": "execute_result",
          "data": {
            "text/plain": [
              "Montant maximal    float64\n",
              "dtype: object"
            ]
          },
          "metadata": {},
          "execution_count": 91
        }
      ]
    },
    {
      "cell_type": "code",
      "source": [
        "DFF = DFF.reset_index()"
      ],
      "metadata": {
        "id": "mjr4ZPxaR49p"
      },
      "execution_count": 94,
      "outputs": []
    },
    {
      "cell_type": "code",
      "source": [
        "DFF"
      ],
      "metadata": {
        "colab": {
          "base_uri": "https://localhost:8080/",
          "height": 332
        },
        "id": "2Q-Q0KDtSLO1",
        "outputId": "febb85e0-70ca-4b7b-b4c8-2210dbd05026"
      },
      "execution_count": 96,
      "outputs": [
        {
          "output_type": "execute_result",
          "data": {
            "text/plain": [
              "   année  Montant maximal\n",
              "0   2012       8439689.50\n",
              "1   2013       8325056.35\n",
              "2   2014      12996647.40\n",
              "3   2015       6731845.00\n",
              "4   2016      13172274.10\n",
              "5   2017      10303309.00\n",
              "6   2018      14384375.63\n",
              "7   2019      16440975.00\n",
              "8   2020      17850679.00"
            ],
            "text/html": [
              "\n",
              "  <div id=\"df-3d7ff87c-61c7-4ac1-8a6b-f939b4e7011c\">\n",
              "    <div class=\"colab-df-container\">\n",
              "      <div>\n",
              "<style scoped>\n",
              "    .dataframe tbody tr th:only-of-type {\n",
              "        vertical-align: middle;\n",
              "    }\n",
              "\n",
              "    .dataframe tbody tr th {\n",
              "        vertical-align: top;\n",
              "    }\n",
              "\n",
              "    .dataframe thead th {\n",
              "        text-align: right;\n",
              "    }\n",
              "</style>\n",
              "<table border=\"1\" class=\"dataframe\">\n",
              "  <thead>\n",
              "    <tr style=\"text-align: right;\">\n",
              "      <th></th>\n",
              "      <th>année</th>\n",
              "      <th>Montant maximal</th>\n",
              "    </tr>\n",
              "  </thead>\n",
              "  <tbody>\n",
              "    <tr>\n",
              "      <th>0</th>\n",
              "      <td>2012</td>\n",
              "      <td>8439689.50</td>\n",
              "    </tr>\n",
              "    <tr>\n",
              "      <th>1</th>\n",
              "      <td>2013</td>\n",
              "      <td>8325056.35</td>\n",
              "    </tr>\n",
              "    <tr>\n",
              "      <th>2</th>\n",
              "      <td>2014</td>\n",
              "      <td>12996647.40</td>\n",
              "    </tr>\n",
              "    <tr>\n",
              "      <th>3</th>\n",
              "      <td>2015</td>\n",
              "      <td>6731845.00</td>\n",
              "    </tr>\n",
              "    <tr>\n",
              "      <th>4</th>\n",
              "      <td>2016</td>\n",
              "      <td>13172274.10</td>\n",
              "    </tr>\n",
              "    <tr>\n",
              "      <th>5</th>\n",
              "      <td>2017</td>\n",
              "      <td>10303309.00</td>\n",
              "    </tr>\n",
              "    <tr>\n",
              "      <th>6</th>\n",
              "      <td>2018</td>\n",
              "      <td>14384375.63</td>\n",
              "    </tr>\n",
              "    <tr>\n",
              "      <th>7</th>\n",
              "      <td>2019</td>\n",
              "      <td>16440975.00</td>\n",
              "    </tr>\n",
              "    <tr>\n",
              "      <th>8</th>\n",
              "      <td>2020</td>\n",
              "      <td>17850679.00</td>\n",
              "    </tr>\n",
              "  </tbody>\n",
              "</table>\n",
              "</div>\n",
              "      <button class=\"colab-df-convert\" onclick=\"convertToInteractive('df-3d7ff87c-61c7-4ac1-8a6b-f939b4e7011c')\"\n",
              "              title=\"Convert this dataframe to an interactive table.\"\n",
              "              style=\"display:none;\">\n",
              "        \n",
              "  <svg xmlns=\"http://www.w3.org/2000/svg\" height=\"24px\"viewBox=\"0 0 24 24\"\n",
              "       width=\"24px\">\n",
              "    <path d=\"M0 0h24v24H0V0z\" fill=\"none\"/>\n",
              "    <path d=\"M18.56 5.44l.94 2.06.94-2.06 2.06-.94-2.06-.94-.94-2.06-.94 2.06-2.06.94zm-11 1L8.5 8.5l.94-2.06 2.06-.94-2.06-.94L8.5 2.5l-.94 2.06-2.06.94zm10 10l.94 2.06.94-2.06 2.06-.94-2.06-.94-.94-2.06-.94 2.06-2.06.94z\"/><path d=\"M17.41 7.96l-1.37-1.37c-.4-.4-.92-.59-1.43-.59-.52 0-1.04.2-1.43.59L10.3 9.45l-7.72 7.72c-.78.78-.78 2.05 0 2.83L4 21.41c.39.39.9.59 1.41.59.51 0 1.02-.2 1.41-.59l7.78-7.78 2.81-2.81c.8-.78.8-2.07 0-2.86zM5.41 20L4 18.59l7.72-7.72 1.47 1.35L5.41 20z\"/>\n",
              "  </svg>\n",
              "      </button>\n",
              "      \n",
              "  <style>\n",
              "    .colab-df-container {\n",
              "      display:flex;\n",
              "      flex-wrap:wrap;\n",
              "      gap: 12px;\n",
              "    }\n",
              "\n",
              "    .colab-df-convert {\n",
              "      background-color: #E8F0FE;\n",
              "      border: none;\n",
              "      border-radius: 50%;\n",
              "      cursor: pointer;\n",
              "      display: none;\n",
              "      fill: #1967D2;\n",
              "      height: 32px;\n",
              "      padding: 0 0 0 0;\n",
              "      width: 32px;\n",
              "    }\n",
              "\n",
              "    .colab-df-convert:hover {\n",
              "      background-color: #E2EBFA;\n",
              "      box-shadow: 0px 1px 2px rgba(60, 64, 67, 0.3), 0px 1px 3px 1px rgba(60, 64, 67, 0.15);\n",
              "      fill: #174EA6;\n",
              "    }\n",
              "\n",
              "    [theme=dark] .colab-df-convert {\n",
              "      background-color: #3B4455;\n",
              "      fill: #D2E3FC;\n",
              "    }\n",
              "\n",
              "    [theme=dark] .colab-df-convert:hover {\n",
              "      background-color: #434B5C;\n",
              "      box-shadow: 0px 1px 3px 1px rgba(0, 0, 0, 0.15);\n",
              "      filter: drop-shadow(0px 1px 2px rgba(0, 0, 0, 0.3));\n",
              "      fill: #FFFFFF;\n",
              "    }\n",
              "  </style>\n",
              "\n",
              "      <script>\n",
              "        const buttonEl =\n",
              "          document.querySelector('#df-3d7ff87c-61c7-4ac1-8a6b-f939b4e7011c button.colab-df-convert');\n",
              "        buttonEl.style.display =\n",
              "          google.colab.kernel.accessAllowed ? 'block' : 'none';\n",
              "\n",
              "        async function convertToInteractive(key) {\n",
              "          const element = document.querySelector('#df-3d7ff87c-61c7-4ac1-8a6b-f939b4e7011c');\n",
              "          const dataTable =\n",
              "            await google.colab.kernel.invokeFunction('convertToInteractive',\n",
              "                                                     [key], {});\n",
              "          if (!dataTable) return;\n",
              "\n",
              "          const docLinkHtml = 'Like what you see? Visit the ' +\n",
              "            '<a target=\"_blank\" href=https://colab.research.google.com/notebooks/data_table.ipynb>data table notebook</a>'\n",
              "            + ' to learn more about interactive tables.';\n",
              "          element.innerHTML = '';\n",
              "          dataTable['output_type'] = 'display_data';\n",
              "          await google.colab.output.renderOutput(dataTable, element);\n",
              "          const docLink = document.createElement('div');\n",
              "          docLink.innerHTML = docLinkHtml;\n",
              "          element.appendChild(docLink);\n",
              "        }\n",
              "      </script>\n",
              "    </div>\n",
              "  </div>\n",
              "  "
            ]
          },
          "metadata": {},
          "execution_count": 96
        }
      ]
    }
  ]
}