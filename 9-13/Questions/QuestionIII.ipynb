{
  "nbformat": 4,
  "nbformat_minor": 0,
  "metadata": {
    "colab": {
      "provenance": [],
      "authorship_tag": "ABX9TyPQ95ou9JtKdUWc8m3+4Ylg",
      "include_colab_link": true
    },
    "kernelspec": {
      "name": "python3",
      "display_name": "Python 3"
    },
    "language_info": {
      "name": "python"
    }
  },
  "cells": [
    {
      "cell_type": "markdown",
      "metadata": {
        "id": "view-in-github",
        "colab_type": "text"
      },
      "source": [
        "<a href=\"https://colab.research.google.com/github/Tigrex-Dai/App-pratique/blob/master/9-13/Questions/QuestionIII.ipynb\" target=\"_parent\"><img src=\"https://colab.research.google.com/assets/colab-badge.svg\" alt=\"Open In Colab\"/></a>"
      ]
    },
    {
      "cell_type": "code",
      "execution_count": null,
      "metadata": {
        "id": "AMVBii3Y-ZIy"
      },
      "outputs": [],
      "source": [
        "!pip install xlrd==1.2.0"
      ]
    },
    {
      "cell_type": "code",
      "source": [
        "import pandas as pd"
      ],
      "metadata": {
        "id": "UyKnfGif-dkD"
      },
      "execution_count": 2,
      "outputs": []
    },
    {
      "cell_type": "code",
      "source": [
        "df=pd.read_csv('ProjetsComplet.csv',encoding='utf8',index_col=0)"
      ],
      "metadata": {
        "id": "b0BivW2i-fOm"
      },
      "execution_count": 6,
      "outputs": []
    },
    {
      "cell_type": "code",
      "source": [
        "df.sort_values(by = 'Année', axis=0, ascending=True, inplace=True)\n",
        "df"
      ],
      "metadata": {
        "id": "R8B5UNom-2Qk"
      },
      "execution_count": null,
      "outputs": []
    },
    {
      "cell_type": "code",
      "source": [
        "df2018=df[df.Année == 2018]\n",
        "df2019=df[df.Année == 2019]"
      ],
      "metadata": {
        "id": "MpLjFzGD_Hid"
      },
      "execution_count": 41,
      "outputs": []
    },
    {
      "cell_type": "code",
      "source": [
        "df2018.sort_values(by = 'MontantAccordé', axis=0, ascending=False, inplace=True)\n",
        "df2019.sort_values(by = 'MontantAccordé', axis=0, ascending=False, inplace=True)\n",
        "df2018 = df2018[[\"Nom de l'établissement\",\"Projet\",\"MontantAccordé\"]]\n",
        "df2019 = df2019[[\"Nom de l'établissement\",\"Projet\",\"MontantAccordé\"]]"
      ],
      "metadata": {
        "id": "jhIky5Jz_NMB"
      },
      "execution_count": 50,
      "outputs": []
    },
    {
      "cell_type": "code",
      "source": [
        "print(df2018.head(10))"
      ],
      "metadata": {
        "colab": {
          "base_uri": "https://localhost:8080/"
        },
        "id": "dbhMWYW8Ard0",
        "outputId": "011f0661-c303-4114-d71b-687d48ae5a3a"
      },
      "execution_count": 51,
      "outputs": [
        {
          "output_type": "stream",
          "name": "stdout",
          "text": [
            "          Nom de l'établissement Projet MontantAccordé\n",
            "55                     CHU LILLE   PHRC         997533\n",
            "36                    CHU RENNES   PHRC         986944\n",
            "1                          AP-HP    PRT        97547.0\n",
            "91                     CHU LILLE   PHRC         973872\n",
            "19                     CHU DIJON   PHRC         973225\n",
            "2                   CHU BORDEAUX    PRT        95923.0\n",
            "74                   CHU DE NICE   PHRC          95814\n",
            "11                          APHM  PREPS       943934.8\n",
            "75                         AP-HP   PHRC         937579\n",
            "16  CLCC INSTITUT GUSTAVE ROUSSY   PHRC         935680\n"
          ]
        }
      ]
    },
    {
      "cell_type": "code",
      "source": [
        "print(df2019.head(10))"
      ],
      "metadata": {
        "colab": {
          "base_uri": "https://localhost:8080/"
        },
        "id": "tkDMuWReCNyu",
        "outputId": "d635aac2-3f18-41a6-f4eb-744b1ab1b3ab"
      },
      "execution_count": 52,
      "outputs": [
        {
          "output_type": "stream",
          "name": "stdout",
          "text": [
            "                    Nom de l'établissement Projet MontantAccordé\n",
            "46                            CHU POITIERS   PHRC         999210\n",
            "2                                    AP-HP   PHRC         995807\n",
            "106                           CHU BORDEAUX   PHRC         988325\n",
            "16                   CHU DE CAEN NORMANDIE   PHRC          97810\n",
            "1                                 CHU CAEN   PHRC         972536\n",
            "95                                   AP-HP   PHRC         971075\n",
            "48                                   AP-HP   PHRC         959378\n",
            "26                                   AP-HP   PHRC         955561\n",
            "2    ASSISTANCE PUBLIQUE-HOPITAUX DE PARIS   PRME       916525.0\n",
            "43                                    APHM   PHRC         908320\n"
          ]
        }
      ]
    }
  ]
}