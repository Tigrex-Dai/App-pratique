{
  "nbformat": 4,
  "nbformat_minor": 0,
  "metadata": {
    "colab": {
      "provenance": [],
      "collapsed_sections": [],
      "authorship_tag": "ABX9TyMizqokrUPM7c5opDDbCiFl",
      "include_colab_link": true
    },
    "kernelspec": {
      "name": "python3",
      "display_name": "Python 3"
    },
    "language_info": {
      "name": "python"
    }
  },
  "cells": [
    {
      "cell_type": "markdown",
      "metadata": {
        "id": "view-in-github",
        "colab_type": "text"
      },
      "source": [
        "<a href=\"https://colab.research.google.com/github/Tigrex-Dai/App-pratique/blob/master/9-13/Questions/QuestionIV/QuestionIV.ipynb\" target=\"_parent\"><img src=\"https://colab.research.google.com/assets/colab-badge.svg\" alt=\"Open In Colab\"/></a>"
      ]
    },
    {
      "cell_type": "code",
      "execution_count": null,
      "metadata": {
        "id": "L5uP27Q5DIuk"
      },
      "outputs": [],
      "source": [
        "!pip install xlrd==1.2.0"
      ]
    },
    {
      "cell_type": "code",
      "source": [
        "import pandas as pd"
      ],
      "metadata": {
        "id": "CObAp6r9DL5w"
      },
      "execution_count": 2,
      "outputs": []
    },
    {
      "cell_type": "code",
      "source": [
        "df=pd.read_csv('ProjetsComplet.csv',encoding='utf8',index_col=0)\n",
        "df"
      ],
      "metadata": {
        "id": "ZR3eiIIEDOb1"
      },
      "execution_count": null,
      "outputs": []
    },
    {
      "cell_type": "code",
      "source": [
        "df['MontantAccordé'] = pd.to_numeric(df['MontantAccordé'],errors=\"coerce\")\n",
        "df['MontantAccordéCumulé'] = df.groupby(['NomInvestigateur'])['MontantAccordé'].cumsum()\n",
        "df.sort_values(by = 'MontantAccordéCumulé', axis=0, ascending=False, inplace=True)\n",
        "df = df.drop_duplicates(subset='NomInvestigateur', keep=\"first\")"
      ],
      "metadata": {
        "id": "wpsF6kshET1h"
      },
      "execution_count": null,
      "outputs": []
    },
    {
      "cell_type": "code",
      "source": [
        "top = df[[\"NomInvestigateur\",\"PrénomInvestigateur\",\"MontantAccordéCumulé\"]]\n",
        "top['MontantAccordéCumulé'] = top['MontantAccordéCumulé'].div(1000000)\n",
        "top.columns = [\"Nom\", \"Prénom\", \"Montant (en millions)\"]\n",
        "top = top.head(5)\n",
        "print(top)"
      ],
      "metadata": {
        "id": "eYutY8IXFM5h"
      },
      "execution_count": null,
      "outputs": []
    },
    {
      "cell_type": "code",
      "source": [
        "top.to_csv('top.csv')"
      ],
      "metadata": {
        "id": "DbaVTwcGGObA"
      },
      "execution_count": 23,
      "outputs": []
    }
  ]
}