{
  "nbformat": 4,
  "nbformat_minor": 0,
  "metadata": {
    "colab": {
      "provenance": [],
      "authorship_tag": "ABX9TyPnqx7qX563VQwCYf2w8iL6",
      "include_colab_link": true
    },
    "kernelspec": {
      "name": "python3",
      "display_name": "Python 3"
    },
    "language_info": {
      "name": "python"
    }
  },
  "cells": [
    {
      "cell_type": "markdown",
      "metadata": {
        "id": "view-in-github",
        "colab_type": "text"
      },
      "source": [
        "<a href=\"https://colab.research.google.com/github/zoudada67/App-pratique/blob/master/9-13/PHRIP/FichiersOrdonn%C3%A9s.ipynb\" target=\"_parent\"><img src=\"https://colab.research.google.com/assets/colab-badge.svg\" alt=\"Open In Colab\"/></a>"
      ]
    },
    {
      "cell_type": "code",
      "source": [
        "!pip install pandas\n",
        "!pip install xlrd==1.2.0\n",
        "!pip install numpy"
      ],
      "metadata": {
        "id": "eEzUZj2MQMyO"
      },
      "execution_count": null,
      "outputs": []
    },
    {
      "cell_type": "code",
      "source": [
        "import pandas as pd\n",
        "import numpy as np"
      ],
      "metadata": {
        "id": "hvhf2Yg5QSS2"
      },
      "execution_count": 22,
      "outputs": []
    },
    {
      "cell_type": "code",
      "metadata": {
        "id": "WmGbJ7T5pnMg"
      },
      "source": [
        "df2012 = pd.read_excel(\"/content/Data/RESULTAT-PHRIP-2012-2.xls\")\n",
        "df2012.columns = [\"Finess\",\"Nom de l'établissement\",\"NomInvestigateur\",\"PrénomInvestigateur\",\"TitreProjet\",\"NuméroProjet\",\"Acronyme\",\"MontantAccordé\"]\n",
        "df2012"
      ],
      "execution_count": null,
      "outputs": []
    },
    {
      "cell_type": "code",
      "source": [
        "df2013 = pd.read_excel(\"/content/Data/Resultats_PHRIP_2013.xlsx\")\n",
        "df2013.columns = [\"Finess\",\"Nom de l'établissement\",\"NomInvestigateur\",\"PrénomInvestigateur\",\"TitreProjet\",\"NuméroProjet\",\"Acronyme\",\"MontantAccordé\"]\n",
        "df2013"
      ],
      "metadata": {
        "id": "5r-87lJ9QiA1"
      },
      "execution_count": null,
      "outputs": []
    },
    {
      "cell_type": "code",
      "source": [
        "df2014 = pd.read_excel(\"/content/Data/Resultats_PHRIP_2014.xls\")\n",
        "df2014.columns = [\"Finess\",\"Nom de l'établissement\",\"NomInvestigateur\",\"PrénomInvestigateur\",\"TitreProjet\",\"NuméroProjet\",\"Acronyme\",\"MontantAccordé\"]\n",
        "df2014"
      ],
      "metadata": {
        "id": "n5WylI3wQ1d7"
      },
      "execution_count": null,
      "outputs": []
    },
    {
      "cell_type": "code",
      "source": [
        "df2015 = pd.read_excel(\"/content/Data/resultats_phrip_2015_mel.xls\")\n",
        "df2015.columns = [\"Finess\",\"Nom de l'établissement\",\"NomInvestigateur\",\"PrénomInvestigateur\",\"TitreProjet\",\"NuméroProjet\",\"Acronyme\",\"MontantAccordé\"]\n",
        "df2015"
      ],
      "metadata": {
        "id": "q5wq3SEVQ3-s"
      },
      "execution_count": null,
      "outputs": []
    },
    {
      "cell_type": "code",
      "source": [
        "df2016 = pd.read_excel(\"/content/Data/resultats_phrip_2016_mel.xlsx\")\n",
        "df2016.columns = [\"Finess\",\"Nom de l'établissement\",\"NomInvestigateur\",\"PrénomInvestigateur\",\"TitreProjet\",\"NuméroProjet\",\"Acronyme\",\"MontantAccordé\"]\n",
        "df2016"
      ],
      "metadata": {
        "id": "_Z_97nCQQ4iM"
      },
      "execution_count": null,
      "outputs": []
    },
    {
      "cell_type": "code",
      "source": [
        "df2017 = pd.read_excel(\"/content/Data/dgos_resultats_phrip_2017_280618.xlsx\")\n",
        "df2017[\"Finess\"] = np.nan\n",
        "df2017 = df2017[[\"Finess\",\"Nom de l'établissement de santé\\ngestionnaire des fonds\",'Porteur de projet / Investigateur\\ncoordonnateur\\nNOM',\n",
        "                 'Porteur de projet / Investigateur\\ncoordonnateur\\nPRENOM','Titre du projet','N° du projet','Acronyme',\" Autorisation d'engagement \"]]\n",
        "df2017.columns = [\"Finess\",\"Nom de l'établissement\",\"NomInvestigateur\",\"PrénomInvestigateur\",\"TitreProjet\",\"NuméroProjet\",\"Acronyme\",\"MontantAccordé\"]\n",
        "df2017"
      ],
      "metadata": {
        "id": "oPzt_D0EQ9ID"
      },
      "execution_count": null,
      "outputs": []
    },
    {
      "cell_type": "code",
      "source": [
        "df2018 = pd.read_excel(\"/content/Data/resultats_phrip_2018_mel.xlsx\")\n",
        "df2018 = df2018[['FINESS',\"Nom de l'établissement de santé\\ngestionnaire des fonds\",'Porteur de projet / Investigateur\\ncoordonnateur\\nNOM','Porteur de projet / Investigateur\\ncoordonnateur\\nPRENOM','Titre du projet',\n",
        "                 'N° du projet','Acronyme',\"Autorisation d'engagement\"]]\n",
        "df2018.columns = [\"Finess\",\"Nom de l'établissement\",\"NomInvestigateur\",\"PrénomInvestigateur\",\"TitreProjet\",\"NuméroProjet\",\"Acronyme\",\"MontantAccordé\"]\n",
        "df2018"
      ],
      "metadata": {
        "id": "ruuuVG7XQ-Jj"
      },
      "execution_count": null,
      "outputs": []
    },
    {
      "cell_type": "code",
      "source": [
        "df2019 = pd.read_excel(\"/content/Data/resultats_phrip_2019_mel_v0-2_20200102.xlsx\")\n",
        "df2019 = df2019[['FINESS',\"Nom de l'établissement de santé gestionnaire des fonds\",'Porteur de projet / Investigateur\\ncoordonnateur\\nNOM',\n",
        "                 'Porteur de projet / Investigateur\\ncoordonnateur\\nPRENOM','Titre du projet ','Numéro projet PHRIP','Acronyme',\"Autorisation d'engagement (AE)\"]]\n",
        "df2019.columns = [\"Finess\",\"Nom de l'établissement\",\"NomInvestigateur\",\"PrénomInvestigateur\",\"TitreProjet\",\"NuméroProjet\",\"Acronyme\",\"MontantAccordé\"]\n",
        "df2019"
      ],
      "metadata": {
        "id": "xYc4X2HcQ-pc"
      },
      "execution_count": null,
      "outputs": []
    },
    {
      "cell_type": "code",
      "source": [
        "df2020 = pd.read_excel(\"/content/Data/phrip_20_resultatsselection_v2-0_2021006_mel.xlsx\")\n",
        "df2020 = df2020[['FINESS',\"Nom de l'établissement de santé gestionnaire des fonds\",'Porteur de projet / Investigateur\\xa0coordonnateur\\nNOM',\n",
        "                 'Porteur de projet / Investigateur\\xa0coordonnateur\\nPRENOM','Titre du projet ','N° du projet','Acronyme',\"Autorisation d'engagement (AE)\"]]\n",
        "df2020.columns = [\"Finess\",\"Nom de l'établissement\",\"NomInvestigateur\",\"PrénomInvestigateur\",\"TitreProjet\",\"NuméroProjet\",\"Acronyme\",\"MontantAccordé\"]\n",
        "df2020"
      ],
      "metadata": {
        "id": "fQ2VRcxlQ_Fk"
      },
      "execution_count": null,
      "outputs": []
    }
  ]
}