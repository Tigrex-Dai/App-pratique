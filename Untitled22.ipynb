{
  "nbformat": 4,
  "nbformat_minor": 0,
  "metadata": {
    "colab": {
      "provenance": [],
      "authorship_tag": "ABX9TyMDPY7uvNhlMRZDTK/1tgmU",
      "include_colab_link": true
    },
    "kernelspec": {
      "name": "python3",
      "display_name": "Python 3"
    },
    "language_info": {
      "name": "python"
    }
  },
  "cells": [
    {
      "cell_type": "markdown",
      "metadata": {
        "id": "view-in-github",
        "colab_type": "text"
      },
      "source": [
        "<a href=\"https://colab.research.google.com/github/ouissem11/App-pratique/blob/master/Untitled22.ipynb\" target=\"_parent\"><img src=\"https://colab.research.google.com/assets/colab-badge.svg\" alt=\"Open In Colab\"/></a>"
      ]
    },
    {
      "cell_type": "code",
      "execution_count": 2,
      "metadata": {
        "id": "k15YglKaQmMt"
      },
      "outputs": [],
      "source": [
        "import pandas as pd\n",
        "import numpy as np\n",
        "import matplotlib.pyplot as plt\n",
        "import seaborn as sns\n",
        "from sklearn.preprocessing import LabelEncoder\n",
        "from sklearn.model_selection import StratifiedShuffleSplit\n",
        "from sklearn.linear_model import LogisticRegression\n",
        "from sklearn.neighbors import KNeighborsClassifier\n",
        "from sklearn.tree import DecisionTreeClassifier\n",
        "from sklearn.metrics import accuracy_score"
      ]
    },
    {
      "cell_type": "code",
      "source": [
        "df=pd.read_csv(\"/content/dataDefi2.csv.gz\",sep=\";\")"
      ],
      "metadata": {
        "colab": {
          "base_uri": "https://localhost:8080/"
        },
        "id": "xMXS9NAVQz37",
        "outputId": "6d7ef5cf-b167-43af-e101-4e8762622d42"
      },
      "execution_count": 3,
      "outputs": [
        {
          "output_type": "stream",
          "name": "stderr",
          "text": [
            "/usr/local/lib/python3.7/dist-packages/IPython/core/interactiveshell.py:3326: DtypeWarning: Columns (26) have mixed types.Specify dtype option on import or set low_memory=False.\n",
            "  exec(code_obj, self.user_global_ns, self.user_ns)\n"
          ]
        }
      ]
    },
    {
      "cell_type": "code",
      "source": [
        "df1=df.loc[:,[\"age\",\"bmi\",\"elective_surgery\",'icu_stay_type',\"ethnicity\",\"gender\",\"apache_post_operative\",\"arf_apache\",\"aids\",\"cirrhosis\",\"diabetes_mellitus\",\"hepatic_failure\",\"leukemia\",\"lymphoma\",\"solid_tumor_with_metastasis\",\"hospital_death\",\"d1_diasbp_max\",\"d1_heartrate_max\",\"d1_heartrate_min\",\"d1_resprate_max\",\"d1_resprate_min\",\"gcs_motor_apache\",\"gcs_eyes_apache\",\"gcs_verbal_apache\",\"ventilated_apache\",\"d1_sysbp_min\",\"d1_spo2_min\",\"d1_mbp_noninvasive_min\",\"d1_diasbp_min\"]]"
      ],
      "metadata": {
        "id": "Q8Q89jyXQ5ja"
      },
      "execution_count": 4,
      "outputs": []
    },
    {
      "cell_type": "code",
      "source": [
        "df1['bmi']=df1['bmi'].str.replace(',','.').astype(float)"
      ],
      "metadata": {
        "id": "jn6DQoNuQ5l_"
      },
      "execution_count": 5,
      "outputs": []
    },
    {
      "cell_type": "code",
      "source": [
        "df2=df1.dropna()"
      ],
      "metadata": {
        "id": "bygWg65bQ5oV"
      },
      "execution_count": 6,
      "outputs": []
    },
    {
      "cell_type": "code",
      "source": [
        "df2['gender']= df2['gender'].map({'F': 1,'M': 0})"
      ],
      "metadata": {
        "colab": {
          "base_uri": "https://localhost:8080/"
        },
        "id": "v3kIgdF2Q5ql",
        "outputId": "5f60bdce-b947-48fc-d001-8b1c870006c2"
      },
      "execution_count": 7,
      "outputs": [
        {
          "output_type": "stream",
          "name": "stderr",
          "text": [
            "/usr/local/lib/python3.7/dist-packages/ipykernel_launcher.py:1: SettingWithCopyWarning: \n",
            "A value is trying to be set on a copy of a slice from a DataFrame.\n",
            "Try using .loc[row_indexer,col_indexer] = value instead\n",
            "\n",
            "See the caveats in the documentation: https://pandas.pydata.org/pandas-docs/stable/user_guide/indexing.html#returning-a-view-versus-a-copy\n",
            "  \"\"\"Entry point for launching an IPython kernel.\n"
          ]
        }
      ]
    },
    {
      "cell_type": "code",
      "source": [
        "df3 = pd.get_dummies(df2, columns=['ethnicity'])"
      ],
      "metadata": {
        "id": "cvG-Vx-jQ5u_"
      },
      "execution_count": 8,
      "outputs": []
    },
    {
      "cell_type": "code",
      "source": [
        "df4 = pd.get_dummies(df3, columns=['icu_stay_type'])"
      ],
      "metadata": {
        "id": "L05LqbixQ5wf"
      },
      "execution_count": 9,
      "outputs": []
    },
    {
      "cell_type": "code",
      "source": [
        "convert_dict = {'aids': int,\n",
        "                'cirrhosis': int,\n",
        "                'diabetes_mellitus': int,\n",
        "                'hepatic_failure': int,\n",
        "                'leukemia': int,\n",
        "                'lymphoma': int,\n",
        "                'solid_tumor_with_metastasis': int,\n",
        "                'arf_apache': int\n",
        "                }  \n",
        "  \n",
        "df4 = df4.astype(convert_dict)  \n",
        "print(df4.dtypes)"
      ],
      "metadata": {
        "id": "oUZ0c0IkQ5xp"
      },
      "execution_count": null,
      "outputs": []
    },
    {
      "cell_type": "code",
      "source": [
        "df4=df4.drop(['ethnicity_Other/Unknown'], axis=1)"
      ],
      "metadata": {
        "id": "zt9gWaZuQ5zP"
      },
      "execution_count": 11,
      "outputs": []
    },
    {
      "cell_type": "code",
      "source": [
        "from sklearn.svm import SVC # Supprt Vector Classifier"
      ],
      "metadata": {
        "id": "GyYa-8dqQ51n"
      },
      "execution_count": 12,
      "outputs": []
    },
    {
      "cell_type": "code",
      "source": [
        "df_majority = df4[df4.hospital_death==0]\n",
        "df_minority = df4[df4.hospital_death==1]"
      ],
      "metadata": {
        "id": "I9Mdcq0nRgpC"
      },
      "execution_count": 14,
      "outputs": []
    },
    {
      "cell_type": "code",
      "source": [
        "(df_majority[\"hospital_death\"] == 0).shape"
      ],
      "metadata": {
        "colab": {
          "base_uri": "https://localhost:8080/"
        },
        "id": "D-EdXnvhQ53u",
        "outputId": "999786f1-7e54-4efa-d6ba-1dc933cb7c3d"
      },
      "execution_count": 15,
      "outputs": [
        {
          "output_type": "execute_result",
          "data": {
            "text/plain": [
              "(66503,)"
            ]
          },
          "metadata": {},
          "execution_count": 15
        }
      ]
    },
    {
      "cell_type": "code",
      "source": [
        "from sklearn.utils import resample"
      ],
      "metadata": {
        "id": "-y6W52ogQ555"
      },
      "execution_count": 16,
      "outputs": []
    },
    {
      "cell_type": "code",
      "source": [
        "# Upsample minority class\n",
        "df_minority_upsampled = resample(df_minority, \n",
        "                                 replace=True,     # sample with replacement\n",
        "                                 n_samples=66503,    # to match majority class\n",
        "                                 random_state=123) # reproducible results\n",
        " "
      ],
      "metadata": {
        "id": "zKzfnAzvQ58c"
      },
      "execution_count": 17,
      "outputs": []
    },
    {
      "cell_type": "code",
      "source": [
        "df_upsampled = pd.concat([df_majority, df_minority_upsampled])"
      ],
      "metadata": {
        "id": "9zk58ZBHQ5-r"
      },
      "execution_count": 18,
      "outputs": []
    },
    {
      "cell_type": "code",
      "source": [
        "from sklearn.model_selection import train_test_split\n",
        "from sklearn.preprocessing import StandardScaler"
      ],
      "metadata": {
        "id": "BeYOofG9Q6A4"
      },
      "execution_count": 19,
      "outputs": []
    },
    {
      "cell_type": "code",
      "source": [
        "DFF=df_upsampled.sample(frac = 0.2, random_state=101)"
      ],
      "metadata": {
        "id": "84qutMqtSQxg"
      },
      "execution_count": 23,
      "outputs": []
    },
    {
      "cell_type": "code",
      "source": [
        "X = DFF.drop(['hospital_death'],axis=1)\n",
        "y = DFF['hospital_death']"
      ],
      "metadata": {
        "id": "nbuTqHJuQ6Du"
      },
      "execution_count": 24,
      "outputs": []
    },
    {
      "cell_type": "code",
      "source": [
        "X_cv, X_test, y_cv, y_test = train_test_split(X, y, test_size=0.1, random_state=42)"
      ],
      "metadata": {
        "id": "MwbJP4FDQ6Fx"
      },
      "execution_count": 25,
      "outputs": []
    },
    {
      "cell_type": "markdown",
      "source": [
        "Créer un PipeLine qui contient à la fois un StandardScaler et un modèle KNN."
      ],
      "metadata": {
        "id": "03FJonVAS0tE"
      }
    },
    {
      "cell_type": "code",
      "source": [
        "from sklearn.preprocessing import StandardScaler\n",
        "from sklearn.neighbors import KNeighborsClassifier"
      ],
      "metadata": {
        "id": "tH54tl2JQ6IG"
      },
      "execution_count": 26,
      "outputs": []
    },
    {
      "cell_type": "code",
      "source": [
        "scaler = StandardScaler()"
      ],
      "metadata": {
        "id": "uGTtRAntQ6KZ"
      },
      "execution_count": 27,
      "outputs": []
    },
    {
      "cell_type": "code",
      "source": [
        "knn = KNeighborsClassifier()"
      ],
      "metadata": {
        "id": "bzqjEkeLQ6M1"
      },
      "execution_count": 28,
      "outputs": []
    },
    {
      "cell_type": "code",
      "source": [
        "operations = [('scaler',scaler),('knn',knn)]"
      ],
      "metadata": {
        "id": "pM-jnPsVQ6PL"
      },
      "execution_count": 29,
      "outputs": []
    },
    {
      "cell_type": "code",
      "source": [
        "from sklearn.pipeline import Pipeline"
      ],
      "metadata": {
        "id": "TVIr7YmkQ6SG"
      },
      "execution_count": 30,
      "outputs": []
    },
    {
      "cell_type": "code",
      "source": [
        "pipe = Pipeline(operations)"
      ],
      "metadata": {
        "id": "YfWVDk_DQ6Vc"
      },
      "execution_count": 31,
      "outputs": []
    },
    {
      "cell_type": "markdown",
      "source": [
        " Effectuer un GridSearch avec le pipeline pour tester différentes valeurs de k et rapporter les paramètres les plus performants."
      ],
      "metadata": {
        "id": "9bSwLexsTGxU"
      }
    },
    {
      "cell_type": "code",
      "source": [
        "from sklearn.model_selection import GridSearchCV"
      ],
      "metadata": {
        "id": "Md_7G7zATAN7"
      },
      "execution_count": 32,
      "outputs": []
    },
    {
      "cell_type": "code",
      "source": [
        "k_values = list(range(1,30))"
      ],
      "metadata": {
        "id": "BvBXc_0uTAQE"
      },
      "execution_count": 33,
      "outputs": []
    },
    {
      "cell_type": "code",
      "source": [
        "param_grid = {'knn__n_neighbors': k_values}"
      ],
      "metadata": {
        "id": "yHUt4_2GTASJ"
      },
      "execution_count": 34,
      "outputs": []
    },
    {
      "cell_type": "code",
      "source": [
        "full_cv_classifier = GridSearchCV(pipe,param_grid,cv=5,scoring='accuracy')"
      ],
      "metadata": {
        "id": "6rnzAiAGTAUb"
      },
      "execution_count": 35,
      "outputs": []
    },
    {
      "cell_type": "code",
      "source": [
        "full_cv_classifier.fit(X_cv,y_cv)"
      ],
      "metadata": {
        "colab": {
          "base_uri": "https://localhost:8080/"
        },
        "id": "MWpWpaPjTAX9",
        "outputId": "3352786a-1b1a-4f99-fe80-a226fde443a9"
      },
      "execution_count": 36,
      "outputs": [
        {
          "output_type": "execute_result",
          "data": {
            "text/plain": [
              "GridSearchCV(cv=5,\n",
              "             estimator=Pipeline(steps=[('scaler', StandardScaler()),\n",
              "                                       ('knn', KNeighborsClassifier())]),\n",
              "             param_grid={'knn__n_neighbors': [1, 2, 3, 4, 5, 6, 7, 8, 9, 10, 11,\n",
              "                                              12, 13, 14, 15, 16, 17, 18, 19,\n",
              "                                              20, 21, 22, 23, 24, 25, 26, 27,\n",
              "                                              28, 29]},\n",
              "             scoring='accuracy')"
            ]
          },
          "metadata": {},
          "execution_count": 36
        }
      ]
    },
    {
      "cell_type": "code",
      "source": [
        "full_cv_classifier.best_estimator_.get_params()"
      ],
      "metadata": {
        "colab": {
          "base_uri": "https://localhost:8080/"
        },
        "id": "N1jwP_nATQd9",
        "outputId": "cfdf4039-5303-418f-ff38-5e32c0a6b687"
      },
      "execution_count": 37,
      "outputs": [
        {
          "output_type": "execute_result",
          "data": {
            "text/plain": [
              "{'memory': None,\n",
              " 'steps': [('scaler', StandardScaler()),\n",
              "  ('knn', KNeighborsClassifier(n_neighbors=1))],\n",
              " 'verbose': False,\n",
              " 'scaler': StandardScaler(),\n",
              " 'knn': KNeighborsClassifier(n_neighbors=1),\n",
              " 'scaler__copy': True,\n",
              " 'scaler__with_mean': True,\n",
              " 'scaler__with_std': True,\n",
              " 'knn__algorithm': 'auto',\n",
              " 'knn__leaf_size': 30,\n",
              " 'knn__metric': 'minkowski',\n",
              " 'knn__metric_params': None,\n",
              " 'knn__n_jobs': None,\n",
              " 'knn__n_neighbors': 1,\n",
              " 'knn__p': 2,\n",
              " 'knn__weights': 'uniform'}"
            ]
          },
          "metadata": {},
          "execution_count": 37
        }
      ]
    },
    {
      "cell_type": "code",
      "source": [],
      "metadata": {
        "id": "DNi2paEnTQhg"
      },
      "execution_count": null,
      "outputs": []
    },
    {
      "cell_type": "markdown",
      "source": [
        "Évaluation finale du modèle"
      ],
      "metadata": {
        "id": "SsJj06IUTWpg"
      }
    },
    {
      "cell_type": "code",
      "source": [
        "pred = full_cv_classifier.predict(X_test)"
      ],
      "metadata": {
        "id": "SsW1DYFdTQq5"
      },
      "execution_count": 39,
      "outputs": []
    },
    {
      "cell_type": "code",
      "source": [
        "from sklearn.metrics import classification_report,confusion_matrix,accuracy_score"
      ],
      "metadata": {
        "id": "h5qq-WgdTQuZ"
      },
      "execution_count": 40,
      "outputs": []
    },
    {
      "cell_type": "code",
      "source": [
        "confusion_matrix(y_test,pred)"
      ],
      "metadata": {
        "colab": {
          "base_uri": "https://localhost:8080/"
        },
        "id": "EWyKNlmtTcfL",
        "outputId": "4614af4d-3053-449f-e472-16831b9971f0"
      },
      "execution_count": 41,
      "outputs": [
        {
          "output_type": "execute_result",
          "data": {
            "text/plain": [
              "array([[1100,  221],\n",
              "       [ 102, 1238]])"
            ]
          },
          "metadata": {},
          "execution_count": 41
        }
      ]
    },
    {
      "cell_type": "code",
      "source": [
        "print(classification_report(y_test,pred))"
      ],
      "metadata": {
        "colab": {
          "base_uri": "https://localhost:8080/"
        },
        "id": "5EzAnqgFTccA",
        "outputId": "350dfe53-8971-44e3-b030-82f4b4eebff9"
      },
      "execution_count": 42,
      "outputs": [
        {
          "output_type": "stream",
          "name": "stdout",
          "text": [
            "              precision    recall  f1-score   support\n",
            "\n",
            "           0       0.92      0.83      0.87      1321\n",
            "           1       0.85      0.92      0.88      1340\n",
            "\n",
            "    accuracy                           0.88      2661\n",
            "   macro avg       0.88      0.88      0.88      2661\n",
            "weighted avg       0.88      0.88      0.88      2661\n",
            "\n"
          ]
        }
      ]
    }
  ]
}