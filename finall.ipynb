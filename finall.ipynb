{
  "nbformat": 4,
  "nbformat_minor": 0,
  "metadata": {
    "colab": {
      "provenance": [],
      "collapsed_sections": [],
      "authorship_tag": "ABX9TyPASM+CFYzVx8tOu6y+ZXpe",
      "include_colab_link": true
    },
    "kernelspec": {
      "name": "python3",
      "display_name": "Python 3"
    },
    "language_info": {
      "name": "python"
    }
  },
  "cells": [
    {
      "cell_type": "markdown",
      "metadata": {
        "id": "view-in-github",
        "colab_type": "text"
      },
      "source": [
        "<a href=\"https://colab.research.google.com/github/ouissem11/App-pratique/blob/master/finall.ipynb\" target=\"_parent\"><img src=\"https://colab.research.google.com/assets/colab-badge.svg\" alt=\"Open In Colab\"/></a>"
      ]
    },
    {
      "cell_type": "code",
      "execution_count": 4,
      "metadata": {
        "id": "a7YSgEUIth6n"
      },
      "outputs": [],
      "source": [
        "import numpy as np\n",
        "import pandas as pd"
      ]
    },
    {
      "cell_type": "code",
      "source": [
        "!pip install pandas==1.2.0"
      ],
      "metadata": {
        "colab": {
          "base_uri": "https://localhost:8080/",
          "height": 329
        },
        "id": "r0WCZHsZt1Yi",
        "outputId": "905e0379-a4a2-4c78-fbc9-af61000de1ef"
      },
      "execution_count": 5,
      "outputs": [
        {
          "output_type": "stream",
          "name": "stdout",
          "text": [
            "Looking in indexes: https://pypi.org/simple, https://us-python.pkg.dev/colab-wheels/public/simple/\n",
            "Collecting pandas==1.2.0\n",
            "  Using cached pandas-1.2.0-cp37-cp37m-manylinux1_x86_64.whl (9.9 MB)\n",
            "Requirement already satisfied: python-dateutil>=2.7.3 in /usr/local/lib/python3.7/dist-packages (from pandas==1.2.0) (2.8.2)\n",
            "Requirement already satisfied: numpy>=1.16.5 in /usr/local/lib/python3.7/dist-packages (from pandas==1.2.0) (1.21.6)\n",
            "Requirement already satisfied: pytz>=2017.3 in /usr/local/lib/python3.7/dist-packages (from pandas==1.2.0) (2022.2.1)\n",
            "Requirement already satisfied: six>=1.5 in /usr/local/lib/python3.7/dist-packages (from python-dateutil>=2.7.3->pandas==1.2.0) (1.15.0)\n",
            "Installing collected packages: pandas\n",
            "  Attempting uninstall: pandas\n",
            "    Found existing installation: pandas 1.3.5\n",
            "    Uninstalling pandas-1.3.5:\n",
            "      Successfully uninstalled pandas-1.3.5\n",
            "Successfully installed pandas-1.2.0\n"
          ]
        },
        {
          "output_type": "display_data",
          "data": {
            "application/vnd.colab-display-data+json": {
              "pip_warning": {
                "packages": [
                  "pandas"
                ]
              }
            }
          },
          "metadata": {}
        }
      ]
    },
    {
      "cell_type": "code",
      "source": [
        "!pip install xlrd==1.2.0"
      ],
      "metadata": {
        "colab": {
          "base_uri": "https://localhost:8080/"
        },
        "id": "gLdjtkfkt5VN",
        "outputId": "d3d21480-4a1f-4bae-de03-5d4aa18d7896"
      },
      "execution_count": 6,
      "outputs": [
        {
          "output_type": "stream",
          "name": "stdout",
          "text": [
            "Looking in indexes: https://pypi.org/simple, https://us-python.pkg.dev/colab-wheels/public/simple/\n",
            "Requirement already satisfied: xlrd==1.2.0 in /usr/local/lib/python3.7/dist-packages (1.2.0)\n"
          ]
        }
      ]
    },
    {
      "cell_type": "code",
      "source": [
        "df1 = pd.read_excel(\"/content/RESULTAT-PREPS-2012.xls\")"
      ],
      "metadata": {
        "id": "R1a_lIont-8t"
      },
      "execution_count": 7,
      "outputs": []
    },
    {
      "cell_type": "code",
      "source": [
        "df1.columns"
      ],
      "metadata": {
        "colab": {
          "base_uri": "https://localhost:8080/"
        },
        "id": "p4HjkZ3tuIAJ",
        "outputId": "cbb335ae-6d84-4437-98fd-853f22b1ee4a"
      },
      "execution_count": 8,
      "outputs": [
        {
          "output_type": "execute_result",
          "data": {
            "text/plain": [
              "Index(['FINESS\\njuridique',\n",
              "       'Nom de l'Etablissement de Santé\\ndu Porteur de Projet/Investigateur\\nCoordonnateur',\n",
              "       'Porteur de Projet/Investigateur\\nCoordonnateur\\nNOM',\n",
              "       'Porteur de Projet/Investigateur\\nCoordonnateur\\nPRENOM',\n",
              "       'Titre du projet', 'N° du projet', 'Acronyme',\n",
              "       'Montant maximal PREVISIONNEL \\n (accordé  sous conditions de suivi)'],\n",
              "      dtype='object')"
            ]
          },
          "metadata": {},
          "execution_count": 8
        }
      ]
    },
    {
      "cell_type": "code",
      "source": [
        "df1=df1.assign(année= 2012) "
      ],
      "metadata": {
        "id": "qj-AN72xyN9D"
      },
      "execution_count": 9,
      "outputs": []
    },
    {
      "cell_type": "code",
      "source": [
        "df1.columns =['FINESS',\n",
        "       'Nom de Etablissement de Santé',\n",
        "       'Porteur de Projet/nNOM',\n",
        "       'Porteur de Projet/nPRENOM',\n",
        "       'Titre du projet', 'N° du projet', 'Acronyme',\n",
        "       'Montant maximal' ,'année']"
      ],
      "metadata": {
        "id": "opvd1-1IJMtr"
      },
      "execution_count": 10,
      "outputs": []
    },
    {
      "cell_type": "code",
      "source": [
        "df1=df1[['FINESS',\n",
        "       'Nom de Etablissement de Santé',\n",
        "       'Porteur de Projet/nNOM',\n",
        "       'Porteur de Projet/nPRENOM',\n",
        "       'Titre du projet', 'N° du projet', 'Acronyme',\n",
        "       'Montant maximal' ,'année']]"
      ],
      "metadata": {
        "id": "EF8k8m2fyjkl"
      },
      "execution_count": 11,
      "outputs": []
    },
    {
      "cell_type": "code",
      "source": [
        "df2 = pd.read_excel(\"/content/RESULTAT-PREPS-SIPS-2012.xls\")"
      ],
      "metadata": {
        "id": "6gaFHUXJuQ_-"
      },
      "execution_count": 12,
      "outputs": []
    },
    {
      "cell_type": "code",
      "source": [
        "df2=df2.assign(année= 2012) "
      ],
      "metadata": {
        "id": "rLHc572cyu5A"
      },
      "execution_count": 13,
      "outputs": []
    },
    {
      "cell_type": "code",
      "source": [
        "df2.columns =['FINESS',\n",
        "       'Nom de Etablissement de Santé',\n",
        "       'Porteur de Projet/nNOM',\n",
        "       'Porteur de Projet/nPRENOM',\n",
        "       'Titre du projet', 'N° du projet', 'Acronyme',\n",
        "       'Montant maximal' ,'année']"
      ],
      "metadata": {
        "id": "Cj6iynvLG85X"
      },
      "execution_count": 14,
      "outputs": []
    },
    {
      "cell_type": "code",
      "source": [
        "df2.columns"
      ],
      "metadata": {
        "colab": {
          "base_uri": "https://localhost:8080/"
        },
        "id": "osFbdN5iIhgZ",
        "outputId": "fe37110f-177c-4cee-d63c-638969ecb065"
      },
      "execution_count": 15,
      "outputs": [
        {
          "output_type": "execute_result",
          "data": {
            "text/plain": [
              "Index(['FINESS', 'Nom de Etablissement de Santé', 'Porteur de Projet/nNOM',\n",
              "       'Porteur de Projet/nPRENOM', 'Titre du projet', 'N° du projet',\n",
              "       'Acronyme', 'Montant maximal', 'année'],\n",
              "      dtype='object')"
            ]
          },
          "metadata": {},
          "execution_count": 15
        }
      ]
    },
    {
      "cell_type": "code",
      "source": [
        "df2=df2[['FINESS', 'Nom de Etablissement de Santé', 'Porteur de Projet/nNOM',\n",
        "       'Porteur de Projet/nPRENOM', 'Titre du projet', 'N° du projet',\n",
        "       'Acronyme', 'Montant maximal', 'année']]"
      ],
      "metadata": {
        "id": "aDCg6FDrywa6"
      },
      "execution_count": 16,
      "outputs": []
    },
    {
      "cell_type": "code",
      "source": [
        "df3 = pd.read_excel(\"/content/Resultats_PREPS-DP_2013.xlsx\")"
      ],
      "metadata": {
        "id": "KG_VnQikuWMd"
      },
      "execution_count": 17,
      "outputs": []
    },
    {
      "cell_type": "code",
      "source": [
        "df3=df3.drop('Champ \"Innovation Recherche\" du PMSI', axis=1)"
      ],
      "metadata": {
        "id": "nhp4oR5WRV-o"
      },
      "execution_count": 18,
      "outputs": []
    },
    {
      "cell_type": "code",
      "source": [
        "df3=df3.assign(année= 2013) "
      ],
      "metadata": {
        "id": "tGkhnzk3y2Iq"
      },
      "execution_count": 19,
      "outputs": []
    },
    {
      "cell_type": "code",
      "source": [
        "df3.columns = ['FINESS',\n",
        "       'Nom de Etablissement de Santé',\n",
        "       'Porteur de Projet/nNOM',\n",
        "       'Porteur de Projet/nPRENOM',\n",
        "       'Titre du projet', 'N° du projet', 'Acronyme',\n",
        "       'Montant maximal','année']"
      ],
      "metadata": {
        "id": "gn9HwaKbuaRU"
      },
      "execution_count": 20,
      "outputs": []
    },
    {
      "cell_type": "code",
      "source": [
        "df3 =df3[['FINESS', 'Nom de Etablissement de Santé', 'Porteur de Projet/nNOM',\n",
        "       'Porteur de Projet/nPRENOM', 'Titre du projet', 'N° du projet',\n",
        "       'Acronyme', 'Montant maximal', 'année']]"
      ],
      "metadata": {
        "id": "EfNEGZpDItDN"
      },
      "execution_count": 21,
      "outputs": []
    },
    {
      "cell_type": "code",
      "source": [],
      "metadata": {
        "id": "UPOKfWCAItx2"
      },
      "execution_count": 21,
      "outputs": []
    },
    {
      "cell_type": "code",
      "source": [
        "df4 = pd.read_excel(\"/content/Resultats_PREPS-IQ_2013.xlsx\")"
      ],
      "metadata": {
        "id": "kDQF9nN9u5uV"
      },
      "execution_count": 22,
      "outputs": []
    },
    {
      "cell_type": "code",
      "source": [
        "df4.columns"
      ],
      "metadata": {
        "colab": {
          "base_uri": "https://localhost:8080/"
        },
        "id": "8dOrW9TPu8uj",
        "outputId": "ea26287b-7a87-4cd5-b51c-80ed9750ce21"
      },
      "execution_count": 23,
      "outputs": [
        {
          "output_type": "execute_result",
          "data": {
            "text/plain": [
              "Index(['FINESS\\njuridique', 'Nom de l'établissement de santé\\ncoordonnateur',\n",
              "       'Porteur de projet / Investigateur\\ncoordonnateur\\nNOM',\n",
              "       'Porteur de projet / Investigateur\\ncoordonnateur\\nPRENOM',\n",
              "       'Titre du projet', 'N° du projet',\n",
              "       'Champ \"Innovation Recherche\" du PMSI', 'Acronyme',\n",
              "       'Montant accordé sous conditions de suivi (€)'],\n",
              "      dtype='object')"
            ]
          },
          "metadata": {},
          "execution_count": 23
        }
      ]
    },
    {
      "cell_type": "code",
      "source": [
        "df4=df4.drop('Champ \"Innovation Recherche\" du PMSI', axis=1)"
      ],
      "metadata": {
        "id": "9qK4MIyrvAcO"
      },
      "execution_count": 24,
      "outputs": []
    },
    {
      "cell_type": "code",
      "source": [
        "df4=df4.assign(année= 2013) "
      ],
      "metadata": {
        "id": "FhJ0Aj1gzGlV"
      },
      "execution_count": 25,
      "outputs": []
    },
    {
      "cell_type": "code",
      "source": [
        "df4.columns = ['FINESS',\n",
        "       'Nom de Etablissement de Santé',\n",
        "       'Porteur de Projet/nNOM',\n",
        "       'Porteur de Projet/nPRENOM',\n",
        "       'Titre du projet', 'N° du projet', 'Acronyme',\n",
        "       'Montant maximal' ,'année']"
      ],
      "metadata": {
        "id": "aEtk_TF3J3WO"
      },
      "execution_count": 26,
      "outputs": []
    },
    {
      "cell_type": "code",
      "source": [
        "df4 =df4[['FINESS', 'Nom de Etablissement de Santé', 'Porteur de Projet/nNOM',\n",
        "       'Porteur de Projet/nPRENOM', 'Titre du projet', 'N° du projet',\n",
        "       'Acronyme', 'Montant maximal', 'année']]"
      ],
      "metadata": {
        "id": "U03GEH5szi98"
      },
      "execution_count": 27,
      "outputs": []
    },
    {
      "cell_type": "code",
      "source": [
        "df5 = pd.read_excel(\"/content/Resultats_PREPS_2013.xlsx\")"
      ],
      "metadata": {
        "id": "CCHORpiKvD84"
      },
      "execution_count": 28,
      "outputs": []
    },
    {
      "cell_type": "code",
      "source": [
        "df5=df5.assign(année= 2013) "
      ],
      "metadata": {
        "id": "tNF8lA05zrMl"
      },
      "execution_count": 29,
      "outputs": []
    },
    {
      "cell_type": "code",
      "source": [
        "df5.columns=['FINESS',\n",
        "       'Nom de Etablissement de Santé',\n",
        "       'Porteur de Projet/nNOM',\n",
        "       'Porteur de Projet/nPRENOM',\n",
        "       'Titre du projet', 'N° du projet', 'Acronyme',\n",
        "       'Montant maximal','année']\n",
        "       "
      ],
      "metadata": {
        "id": "A-yzZ_Rwz0Mq"
      },
      "execution_count": 30,
      "outputs": []
    },
    {
      "cell_type": "code",
      "source": [
        "df5 =df5[['FINESS', 'Nom de Etablissement de Santé', 'Porteur de Projet/nNOM',\n",
        "       'Porteur de Projet/nPRENOM', 'Titre du projet', 'N° du projet',\n",
        "       'Acronyme', 'Montant maximal', 'année']]"
      ],
      "metadata": {
        "id": "5wQ0TP2AK1eq"
      },
      "execution_count": 31,
      "outputs": []
    },
    {
      "cell_type": "code",
      "source": [
        "df6 = pd.read_excel(\"/content/Resultats_PREPS_2014.xls\")"
      ],
      "metadata": {
        "id": "EIXKRO_rvGqt"
      },
      "execution_count": 32,
      "outputs": []
    },
    {
      "cell_type": "code",
      "source": [
        "df6=df6.assign(année= 2014) "
      ],
      "metadata": {
        "id": "O3r8717Nz6u4"
      },
      "execution_count": 33,
      "outputs": []
    },
    {
      "cell_type": "code",
      "source": [
        "df6.columns=['FINESS',\n",
        "       'Nom de lEtablissement de Santé',\n",
        "       'Porteur de Projet/nNOM',\n",
        "       'Porteur de Projet/nPRENOM',\n",
        "       'Titre du projet', 'N° du projet','Acronyme',\n",
        "       'Montant maximal','année']"
      ],
      "metadata": {
        "id": "6fEMwFWA0BXO"
      },
      "execution_count": 34,
      "outputs": []
    },
    {
      "cell_type": "code",
      "source": [
        "df6=df6[['FINESS',\n",
        "       'Nom de lEtablissement de Santé',\n",
        "       'Porteur de Projet/nNOM',\n",
        "       'Porteur de Projet/nPRENOM',\n",
        "       'Titre du projet', 'N° du projet','Acronyme',\n",
        "       'Montant maximal','année']]"
      ],
      "metadata": {
        "id": "W8NixbPfLThc"
      },
      "execution_count": 35,
      "outputs": []
    },
    {
      "cell_type": "code",
      "source": [
        "df7 = pd.read_excel(\"/content/preps_20_resultatsselection_v2-0_20211006_mel.xlsx\")"
      ],
      "metadata": {
        "id": "nHkWb7gAvJzf"
      },
      "execution_count": 36,
      "outputs": []
    },
    {
      "cell_type": "code",
      "source": [
        "df7=df7.assign(année= 2020) "
      ],
      "metadata": {
        "id": "oY37wTiC0Llx"
      },
      "execution_count": 37,
      "outputs": []
    },
    {
      "cell_type": "code",
      "source": [
        "df7.columns"
      ],
      "metadata": {
        "colab": {
          "base_uri": "https://localhost:8080/"
        },
        "id": "SdsLXnuGS9Zs",
        "outputId": "0304fc3b-3132-42c5-ca12-bb1de4606313"
      },
      "execution_count": 38,
      "outputs": [
        {
          "output_type": "execute_result",
          "data": {
            "text/plain": [
              "Index(['Porteur de projet / Investigateur\\ncoordonnateur\\nNOM',\n",
              "       'Porteur de projet / Investigateur\\ncoordonnateur\\nPRENOM',\n",
              "       'N° du projet', 'FINESS',\n",
              "       'Nom de l'établissement de santé\\ngestionnaire des fonds', 'Acronyme',\n",
              "       'Titre du projet', 'Autorisation d'engagement (AE)', 'année'],\n",
              "      dtype='object')"
            ]
          },
          "metadata": {},
          "execution_count": 38
        }
      ]
    },
    {
      "cell_type": "code",
      "source": [
        "df7.columns =['Porteur de Projet/nNOM',\n",
        "              'Porteur de Projet/nPRENOM',\n",
        "              'N° du projet',\n",
        "              'FINESS',\n",
        "              'Nom de Etablissement de Santé',\n",
        "              'Acronyme',\n",
        "              'Titre du projet',\n",
        "              'Montant maximal','année']\n"
      ],
      "metadata": {
        "id": "NeO_t_kx54Y3"
      },
      "execution_count": 39,
      "outputs": []
    },
    {
      "cell_type": "code",
      "source": [
        "df7.columns"
      ],
      "metadata": {
        "colab": {
          "base_uri": "https://localhost:8080/"
        },
        "id": "Sbs9sinBTPRc",
        "outputId": "8f2b78b9-bdc1-49a6-dda3-4beafcb39317"
      },
      "execution_count": 40,
      "outputs": [
        {
          "output_type": "execute_result",
          "data": {
            "text/plain": [
              "Index(['Porteur de Projet/nNOM', 'Porteur de Projet/nPRENOM', 'N° du projet',\n",
              "       'FINESS', 'Nom de Etablissement de Santé', 'Acronyme',\n",
              "       'Titre du projet', 'Montant maximal', 'année'],\n",
              "      dtype='object')"
            ]
          },
          "metadata": {},
          "execution_count": 40
        }
      ]
    },
    {
      "cell_type": "code",
      "source": [
        "df7=df7[['FINESS',\n",
        "       'Nom de Etablissement de Santé',\n",
        "       'Porteur de Projet/nNOM',\n",
        "       'Porteur de Projet/nPRENOM',\n",
        "       'Titre du projet', 'N° du projet','Acronyme',\n",
        "       'Montant maximal','année']]"
      ],
      "metadata": {
        "id": "YgpdpUcs0hCm"
      },
      "execution_count": 41,
      "outputs": []
    },
    {
      "cell_type": "code",
      "source": [
        "df9 = pd.read_excel(\"/content/resultats_preps_2015_mel.xls\")"
      ],
      "metadata": {
        "id": "oHydM-KfvvSn"
      },
      "execution_count": 42,
      "outputs": []
    },
    {
      "cell_type": "code",
      "source": [
        "df9=df9.assign(année= 2015) "
      ],
      "metadata": {
        "id": "JX4hLEY5A1bV"
      },
      "execution_count": 43,
      "outputs": []
    },
    {
      "cell_type": "code",
      "source": [
        "df9.columns= ['FINESS',\n",
        "       'Nom de Etablissement de Santé',\n",
        "       'Porteur de Projet/nNOM',\n",
        "       'Porteur de Projet/nPRENOM',\n",
        "       'Titre du projet', 'N° du projet','Acronyme',\n",
        "       'Montant maximal','année']"
      ],
      "metadata": {
        "id": "Cszjcp8JBRG3"
      },
      "execution_count": 44,
      "outputs": []
    },
    {
      "cell_type": "code",
      "source": [
        "df9=df9[['FINESS',\n",
        "       'Nom de Etablissement de Santé',\n",
        "       'Porteur de Projet/nNOM',\n",
        "       'Porteur de Projet/nPRENOM',\n",
        "       'Titre du projet', 'N° du projet','Acronyme',\n",
        "       'Montant maximal','année']]"
      ],
      "metadata": {
        "id": "WflcjnjcBHcc"
      },
      "execution_count": 45,
      "outputs": []
    },
    {
      "cell_type": "code",
      "source": [
        "df10 = pd.read_excel(\"/content/resultats_preps_2016_mel.xlsx\")"
      ],
      "metadata": {
        "id": "MoHHjJb3vyma"
      },
      "execution_count": 46,
      "outputs": []
    },
    {
      "cell_type": "code",
      "source": [
        "df10=df10.assign(année= 2016) "
      ],
      "metadata": {
        "id": "Z92uodWjBlUk"
      },
      "execution_count": 47,
      "outputs": []
    },
    {
      "cell_type": "code",
      "source": [
        "df10.columns"
      ],
      "metadata": {
        "colab": {
          "base_uri": "https://localhost:8080/"
        },
        "id": "T3t7I6mQBv1i",
        "outputId": "5ea0924a-8d98-4c25-a36f-b2b18bd671d7"
      },
      "execution_count": 48,
      "outputs": [
        {
          "output_type": "execute_result",
          "data": {
            "text/plain": [
              "Index(['FINESS\\njuridique',\n",
              "       'Nom de l'établissement de santé\\ngestionnaire des fonds',\n",
              "       'Porteur de projet / Investigateur\\ncoordonnateur\\nNOM',\n",
              "       'Porteur de projet / Investigateur\\ncoordonnateur\\nPRENOM',\n",
              "       'Titre du projet', 'N° du projet', 'Acronyme',\n",
              "       ' Autorisation d'engagement ', 'année'],\n",
              "      dtype='object')"
            ]
          },
          "metadata": {},
          "execution_count": 48
        }
      ]
    },
    {
      "cell_type": "code",
      "source": [
        "df10.columns = [\"FINESS\",\n",
        "       \"Nom de l'établissement de santé\",\n",
        "       \"Porteur de projet/nNOM\",\n",
        "       \"Porteur de projet/nPRENOM\",\n",
        "       \"Titre du projet\", \"N° du projet\", \"Acronyme\",\n",
        "       \"Montant maximal\",\"année\"]"
      ],
      "metadata": {
        "id": "czeMsTWnOXYW"
      },
      "execution_count": 49,
      "outputs": []
    },
    {
      "cell_type": "code",
      "source": [
        "df10=df10[[\"FINESS\",\n",
        "       \"Nom de l'établissement de santé\",\n",
        "       \"Porteur de projet/nNOM\",\n",
        "       \"Porteur de projet/nPRENOM\",\n",
        "       \"Titre du projet\", \"N° du projet\", \"Acronyme\",\n",
        "       \"Montant maximal\",\"année\"]]"
      ],
      "metadata": {
        "id": "9RqeFrCtBnf3"
      },
      "execution_count": 50,
      "outputs": []
    },
    {
      "cell_type": "code",
      "source": [
        "df11 = pd.read_excel(\"/content/resultats_preps_2017_040118.xlsx\")"
      ],
      "metadata": {
        "id": "pul3648Mv2tC"
      },
      "execution_count": 51,
      "outputs": []
    },
    {
      "cell_type": "code",
      "source": [
        "df11=df11.assign(année= 2017) "
      ],
      "metadata": {
        "id": "WhLd_GSZCb8i"
      },
      "execution_count": 52,
      "outputs": []
    },
    {
      "cell_type": "code",
      "source": [
        "df11.columns =[\"FINESS\",\n",
        "       \"Nom de l'établissement de santé\",\n",
        "       \"Porteur de projet/nNOM\",\n",
        "       \"Porteur de projet/nPRENOM\",\n",
        "       \"Titre du projet\", \"N° du projet\", \"Acronyme\",\n",
        "       \"Montant maximal\",\"année\"]"
      ],
      "metadata": {
        "id": "nlWge1reCfyR"
      },
      "execution_count": 53,
      "outputs": []
    },
    {
      "cell_type": "code",
      "source": [
        "df11=df11[[\"FINESS\",\n",
        "       \"Nom de l'établissement de santé\",\n",
        "       \"Porteur de projet/nNOM\",\n",
        "       \"Porteur de projet/nPRENOM\",\n",
        "       \"Titre du projet\", \"N° du projet\", \"Acronyme\",\n",
        "       \"Montant maximal\",\"année\"]]"
      ],
      "metadata": {
        "id": "lGPFf_-oCdYm"
      },
      "execution_count": 54,
      "outputs": []
    },
    {
      "cell_type": "code",
      "source": [
        "df12 = pd.read_excel(\"/content/resultats_preps_2018_mel.xlsx\")"
      ],
      "metadata": {
        "id": "VtMbJEebv7OM"
      },
      "execution_count": 55,
      "outputs": []
    },
    {
      "cell_type": "code",
      "source": [
        "df12=df12.assign(année= 2018)"
      ],
      "metadata": {
        "id": "02D8n8jeC-XZ"
      },
      "execution_count": 56,
      "outputs": []
    },
    {
      "cell_type": "code",
      "source": [
        "df12.columns =['FINESS',\n",
        "       'Nom de lEtablissement de Santé',\n",
        "       'Porteur de Projet/nNOM',\n",
        "       'Porteur de Projet/nPRENOM',\n",
        "       'Titre du projet', 'N° du projet', 'Acronyme',\n",
        "       'Montant maximal','année']"
      ],
      "metadata": {
        "id": "43SeIWIePAv7"
      },
      "execution_count": 57,
      "outputs": []
    },
    {
      "cell_type": "code",
      "source": [
        "df12=df12[['FINESS',\n",
        "       'Nom de lEtablissement de Santé',\n",
        "       'Porteur de Projet/nNOM',\n",
        "       'Porteur de Projet/nPRENOM',\n",
        "       'Titre du projet', 'N° du projet', 'Acronyme',\n",
        "       'Montant maximal','année']]"
      ],
      "metadata": {
        "id": "C7h6CqmbDB1U"
      },
      "execution_count": 58,
      "outputs": []
    },
    {
      "cell_type": "code",
      "source": [
        "df13= pd.read_excel(\"/content/resultats_preps_2019_mel_v0-2_20200102.xlsx\")"
      ],
      "metadata": {
        "id": "yqZMuD0vv-fq"
      },
      "execution_count": 59,
      "outputs": []
    },
    {
      "cell_type": "code",
      "source": [
        "df13=df13.assign(année= 2019)"
      ],
      "metadata": {
        "id": "Fe9VBbNWDHOl"
      },
      "execution_count": 60,
      "outputs": []
    },
    {
      "cell_type": "code",
      "source": [
        "df13.columns=['FINESS',\n",
        "       'Nom de lEtablissement de Santé',\n",
        "       'Porteur de Projet/nNOM',\n",
        "       'Porteur de Projet/nPRENOM',\n",
        "       'Titre du projet', 'N° du projet', 'Acronyme',\n",
        "       'Montant maximal','année']"
      ],
      "metadata": {
        "id": "FH196VDhDL72"
      },
      "execution_count": 61,
      "outputs": []
    },
    {
      "cell_type": "code",
      "source": [
        "df13=df13[['FINESS',\n",
        "       'Nom de lEtablissement de Santé',\n",
        "       'Porteur de Projet/nNOM',\n",
        "       'Porteur de Projet/nPRENOM',\n",
        "       'Titre du projet', 'N° du projet', 'Acronyme',\n",
        "       'Montant maximal','année']]"
      ],
      "metadata": {
        "id": "EErr1wL9QFWb"
      },
      "execution_count": 62,
      "outputs": []
    },
    {
      "cell_type": "code",
      "source": [
        "df1.columns = df2.columns = df3.columns = df4.columns = df5.columns = df6.columns = df7.columns = df9.columns = df10.columns = df11.columns = df12.columns = df13.columns"
      ],
      "metadata": {
        "id": "CDfGfhOOwRHf"
      },
      "execution_count": 63,
      "outputs": []
    },
    {
      "cell_type": "code",
      "source": [
        "DFF= pd.concat([df1,df2, df3,df4,df5,df6,df7,df9,df10,df11,df12,df13])"
      ],
      "metadata": {
        "id": "WLp9YCuJwTyx"
      },
      "execution_count": 64,
      "outputs": []
    },
    {
      "cell_type": "code",
      "source": [
        "DFF"
      ],
      "metadata": {
        "colab": {
          "base_uri": "https://localhost:8080/",
          "height": 332
        },
        "id": "v7FT96_BwWPx",
        "outputId": "e94abc43-7458-42ce-87f9-427a70b75d47"
      },
      "execution_count": 86,
      "outputs": [
        {
          "output_type": "execute_result",
          "data": {
            "text/plain": [
              "   année  Montant maximal\n",
              "0   2012       8439689.50\n",
              "1   2013       8325056.35\n",
              "2   2014      12996647.40\n",
              "3   2015       6731845.00\n",
              "4   2016      13172274.10\n",
              "5   2017      10303309.00\n",
              "6   2018      14384375.63\n",
              "7   2019      16440975.00\n",
              "8   2020      17850679.00"
            ],
            "text/html": [
              "\n",
              "  <div id=\"df-9a9fb8a4-c138-4cbd-83af-d45ee744aa76\">\n",
              "    <div class=\"colab-df-container\">\n",
              "      <div>\n",
              "<style scoped>\n",
              "    .dataframe tbody tr th:only-of-type {\n",
              "        vertical-align: middle;\n",
              "    }\n",
              "\n",
              "    .dataframe tbody tr th {\n",
              "        vertical-align: top;\n",
              "    }\n",
              "\n",
              "    .dataframe thead th {\n",
              "        text-align: right;\n",
              "    }\n",
              "</style>\n",
              "<table border=\"1\" class=\"dataframe\">\n",
              "  <thead>\n",
              "    <tr style=\"text-align: right;\">\n",
              "      <th></th>\n",
              "      <th>année</th>\n",
              "      <th>Montant maximal</th>\n",
              "    </tr>\n",
              "  </thead>\n",
              "  <tbody>\n",
              "    <tr>\n",
              "      <th>0</th>\n",
              "      <td>2012</td>\n",
              "      <td>8439689.50</td>\n",
              "    </tr>\n",
              "    <tr>\n",
              "      <th>1</th>\n",
              "      <td>2013</td>\n",
              "      <td>8325056.35</td>\n",
              "    </tr>\n",
              "    <tr>\n",
              "      <th>2</th>\n",
              "      <td>2014</td>\n",
              "      <td>12996647.40</td>\n",
              "    </tr>\n",
              "    <tr>\n",
              "      <th>3</th>\n",
              "      <td>2015</td>\n",
              "      <td>6731845.00</td>\n",
              "    </tr>\n",
              "    <tr>\n",
              "      <th>4</th>\n",
              "      <td>2016</td>\n",
              "      <td>13172274.10</td>\n",
              "    </tr>\n",
              "    <tr>\n",
              "      <th>5</th>\n",
              "      <td>2017</td>\n",
              "      <td>10303309.00</td>\n",
              "    </tr>\n",
              "    <tr>\n",
              "      <th>6</th>\n",
              "      <td>2018</td>\n",
              "      <td>14384375.63</td>\n",
              "    </tr>\n",
              "    <tr>\n",
              "      <th>7</th>\n",
              "      <td>2019</td>\n",
              "      <td>16440975.00</td>\n",
              "    </tr>\n",
              "    <tr>\n",
              "      <th>8</th>\n",
              "      <td>2020</td>\n",
              "      <td>17850679.00</td>\n",
              "    </tr>\n",
              "  </tbody>\n",
              "</table>\n",
              "</div>\n",
              "      <button class=\"colab-df-convert\" onclick=\"convertToInteractive('df-9a9fb8a4-c138-4cbd-83af-d45ee744aa76')\"\n",
              "              title=\"Convert this dataframe to an interactive table.\"\n",
              "              style=\"display:none;\">\n",
              "        \n",
              "  <svg xmlns=\"http://www.w3.org/2000/svg\" height=\"24px\"viewBox=\"0 0 24 24\"\n",
              "       width=\"24px\">\n",
              "    <path d=\"M0 0h24v24H0V0z\" fill=\"none\"/>\n",
              "    <path d=\"M18.56 5.44l.94 2.06.94-2.06 2.06-.94-2.06-.94-.94-2.06-.94 2.06-2.06.94zm-11 1L8.5 8.5l.94-2.06 2.06-.94-2.06-.94L8.5 2.5l-.94 2.06-2.06.94zm10 10l.94 2.06.94-2.06 2.06-.94-2.06-.94-.94-2.06-.94 2.06-2.06.94z\"/><path d=\"M17.41 7.96l-1.37-1.37c-.4-.4-.92-.59-1.43-.59-.52 0-1.04.2-1.43.59L10.3 9.45l-7.72 7.72c-.78.78-.78 2.05 0 2.83L4 21.41c.39.39.9.59 1.41.59.51 0 1.02-.2 1.41-.59l7.78-7.78 2.81-2.81c.8-.78.8-2.07 0-2.86zM5.41 20L4 18.59l7.72-7.72 1.47 1.35L5.41 20z\"/>\n",
              "  </svg>\n",
              "      </button>\n",
              "      \n",
              "  <style>\n",
              "    .colab-df-container {\n",
              "      display:flex;\n",
              "      flex-wrap:wrap;\n",
              "      gap: 12px;\n",
              "    }\n",
              "\n",
              "    .colab-df-convert {\n",
              "      background-color: #E8F0FE;\n",
              "      border: none;\n",
              "      border-radius: 50%;\n",
              "      cursor: pointer;\n",
              "      display: none;\n",
              "      fill: #1967D2;\n",
              "      height: 32px;\n",
              "      padding: 0 0 0 0;\n",
              "      width: 32px;\n",
              "    }\n",
              "\n",
              "    .colab-df-convert:hover {\n",
              "      background-color: #E2EBFA;\n",
              "      box-shadow: 0px 1px 2px rgba(60, 64, 67, 0.3), 0px 1px 3px 1px rgba(60, 64, 67, 0.15);\n",
              "      fill: #174EA6;\n",
              "    }\n",
              "\n",
              "    [theme=dark] .colab-df-convert {\n",
              "      background-color: #3B4455;\n",
              "      fill: #D2E3FC;\n",
              "    }\n",
              "\n",
              "    [theme=dark] .colab-df-convert:hover {\n",
              "      background-color: #434B5C;\n",
              "      box-shadow: 0px 1px 3px 1px rgba(0, 0, 0, 0.15);\n",
              "      filter: drop-shadow(0px 1px 2px rgba(0, 0, 0, 0.3));\n",
              "      fill: #FFFFFF;\n",
              "    }\n",
              "  </style>\n",
              "\n",
              "      <script>\n",
              "        const buttonEl =\n",
              "          document.querySelector('#df-9a9fb8a4-c138-4cbd-83af-d45ee744aa76 button.colab-df-convert');\n",
              "        buttonEl.style.display =\n",
              "          google.colab.kernel.accessAllowed ? 'block' : 'none';\n",
              "\n",
              "        async function convertToInteractive(key) {\n",
              "          const element = document.querySelector('#df-9a9fb8a4-c138-4cbd-83af-d45ee744aa76');\n",
              "          const dataTable =\n",
              "            await google.colab.kernel.invokeFunction('convertToInteractive',\n",
              "                                                     [key], {});\n",
              "          if (!dataTable) return;\n",
              "\n",
              "          const docLinkHtml = 'Like what you see? Visit the ' +\n",
              "            '<a target=\"_blank\" href=https://colab.research.google.com/notebooks/data_table.ipynb>data table notebook</a>'\n",
              "            + ' to learn more about interactive tables.';\n",
              "          element.innerHTML = '';\n",
              "          dataTable['output_type'] = 'display_data';\n",
              "          await google.colab.output.renderOutput(dataTable, element);\n",
              "          const docLink = document.createElement('div');\n",
              "          docLink.innerHTML = docLinkHtml;\n",
              "          element.appendChild(docLink);\n",
              "        }\n",
              "      </script>\n",
              "    </div>\n",
              "  </div>\n",
              "  "
            ]
          },
          "metadata": {},
          "execution_count": 86
        }
      ]
    },
    {
      "cell_type": "code",
      "source": [
        "DFF.to_csv('/content/sample_data/PREPS.csv')"
      ],
      "metadata": {
        "id": "BLkHXcsYkZ-L"
      },
      "execution_count": 85,
      "outputs": []
    },
    {
      "cell_type": "code",
      "source": [
        "#DFF=DFF.groupby(['année']).sum()['Montant maximal']\n",
        "DFF=DFF.groupby(['année']).sum()"
      ],
      "metadata": {
        "id": "33SFoycAStpH"
      },
      "execution_count": 66,
      "outputs": []
    },
    {
      "cell_type": "code",
      "source": [
        "DFF.dtypes"
      ],
      "metadata": {
        "colab": {
          "base_uri": "https://localhost:8080/"
        },
        "id": "tnhOQC0fO0pD",
        "outputId": "8aab4995-b69d-4c51-baaf-4e9cec9ca0c5"
      },
      "execution_count": 67,
      "outputs": [
        {
          "output_type": "execute_result",
          "data": {
            "text/plain": [
              "Montant maximal    float64\n",
              "dtype: object"
            ]
          },
          "metadata": {},
          "execution_count": 67
        }
      ]
    },
    {
      "cell_type": "code",
      "source": [
        "DFF = DFF.reset_index()"
      ],
      "metadata": {
        "id": "mjr4ZPxaR49p"
      },
      "execution_count": 68,
      "outputs": []
    },
    {
      "cell_type": "code",
      "source": [
        "DFF"
      ],
      "metadata": {
        "colab": {
          "base_uri": "https://localhost:8080/",
          "height": 332
        },
        "id": "2Q-Q0KDtSLO1",
        "outputId": "dc18dec3-348e-4ce2-d5ae-d48a3a928e3e"
      },
      "execution_count": 69,
      "outputs": [
        {
          "output_type": "execute_result",
          "data": {
            "text/plain": [
              "   année  Montant maximal\n",
              "0   2012       8439689.50\n",
              "1   2013       8325056.35\n",
              "2   2014      12996647.40\n",
              "3   2015       6731845.00\n",
              "4   2016      13172274.10\n",
              "5   2017      10303309.00\n",
              "6   2018      14384375.63\n",
              "7   2019      16440975.00\n",
              "8   2020      17850679.00"
            ],
            "text/html": [
              "\n",
              "  <div id=\"df-0d374d2c-e858-4519-b581-83173de851ea\">\n",
              "    <div class=\"colab-df-container\">\n",
              "      <div>\n",
              "<style scoped>\n",
              "    .dataframe tbody tr th:only-of-type {\n",
              "        vertical-align: middle;\n",
              "    }\n",
              "\n",
              "    .dataframe tbody tr th {\n",
              "        vertical-align: top;\n",
              "    }\n",
              "\n",
              "    .dataframe thead th {\n",
              "        text-align: right;\n",
              "    }\n",
              "</style>\n",
              "<table border=\"1\" class=\"dataframe\">\n",
              "  <thead>\n",
              "    <tr style=\"text-align: right;\">\n",
              "      <th></th>\n",
              "      <th>année</th>\n",
              "      <th>Montant maximal</th>\n",
              "    </tr>\n",
              "  </thead>\n",
              "  <tbody>\n",
              "    <tr>\n",
              "      <th>0</th>\n",
              "      <td>2012</td>\n",
              "      <td>8439689.50</td>\n",
              "    </tr>\n",
              "    <tr>\n",
              "      <th>1</th>\n",
              "      <td>2013</td>\n",
              "      <td>8325056.35</td>\n",
              "    </tr>\n",
              "    <tr>\n",
              "      <th>2</th>\n",
              "      <td>2014</td>\n",
              "      <td>12996647.40</td>\n",
              "    </tr>\n",
              "    <tr>\n",
              "      <th>3</th>\n",
              "      <td>2015</td>\n",
              "      <td>6731845.00</td>\n",
              "    </tr>\n",
              "    <tr>\n",
              "      <th>4</th>\n",
              "      <td>2016</td>\n",
              "      <td>13172274.10</td>\n",
              "    </tr>\n",
              "    <tr>\n",
              "      <th>5</th>\n",
              "      <td>2017</td>\n",
              "      <td>10303309.00</td>\n",
              "    </tr>\n",
              "    <tr>\n",
              "      <th>6</th>\n",
              "      <td>2018</td>\n",
              "      <td>14384375.63</td>\n",
              "    </tr>\n",
              "    <tr>\n",
              "      <th>7</th>\n",
              "      <td>2019</td>\n",
              "      <td>16440975.00</td>\n",
              "    </tr>\n",
              "    <tr>\n",
              "      <th>8</th>\n",
              "      <td>2020</td>\n",
              "      <td>17850679.00</td>\n",
              "    </tr>\n",
              "  </tbody>\n",
              "</table>\n",
              "</div>\n",
              "      <button class=\"colab-df-convert\" onclick=\"convertToInteractive('df-0d374d2c-e858-4519-b581-83173de851ea')\"\n",
              "              title=\"Convert this dataframe to an interactive table.\"\n",
              "              style=\"display:none;\">\n",
              "        \n",
              "  <svg xmlns=\"http://www.w3.org/2000/svg\" height=\"24px\"viewBox=\"0 0 24 24\"\n",
              "       width=\"24px\">\n",
              "    <path d=\"M0 0h24v24H0V0z\" fill=\"none\"/>\n",
              "    <path d=\"M18.56 5.44l.94 2.06.94-2.06 2.06-.94-2.06-.94-.94-2.06-.94 2.06-2.06.94zm-11 1L8.5 8.5l.94-2.06 2.06-.94-2.06-.94L8.5 2.5l-.94 2.06-2.06.94zm10 10l.94 2.06.94-2.06 2.06-.94-2.06-.94-.94-2.06-.94 2.06-2.06.94z\"/><path d=\"M17.41 7.96l-1.37-1.37c-.4-.4-.92-.59-1.43-.59-.52 0-1.04.2-1.43.59L10.3 9.45l-7.72 7.72c-.78.78-.78 2.05 0 2.83L4 21.41c.39.39.9.59 1.41.59.51 0 1.02-.2 1.41-.59l7.78-7.78 2.81-2.81c.8-.78.8-2.07 0-2.86zM5.41 20L4 18.59l7.72-7.72 1.47 1.35L5.41 20z\"/>\n",
              "  </svg>\n",
              "      </button>\n",
              "      \n",
              "  <style>\n",
              "    .colab-df-container {\n",
              "      display:flex;\n",
              "      flex-wrap:wrap;\n",
              "      gap: 12px;\n",
              "    }\n",
              "\n",
              "    .colab-df-convert {\n",
              "      background-color: #E8F0FE;\n",
              "      border: none;\n",
              "      border-radius: 50%;\n",
              "      cursor: pointer;\n",
              "      display: none;\n",
              "      fill: #1967D2;\n",
              "      height: 32px;\n",
              "      padding: 0 0 0 0;\n",
              "      width: 32px;\n",
              "    }\n",
              "\n",
              "    .colab-df-convert:hover {\n",
              "      background-color: #E2EBFA;\n",
              "      box-shadow: 0px 1px 2px rgba(60, 64, 67, 0.3), 0px 1px 3px 1px rgba(60, 64, 67, 0.15);\n",
              "      fill: #174EA6;\n",
              "    }\n",
              "\n",
              "    [theme=dark] .colab-df-convert {\n",
              "      background-color: #3B4455;\n",
              "      fill: #D2E3FC;\n",
              "    }\n",
              "\n",
              "    [theme=dark] .colab-df-convert:hover {\n",
              "      background-color: #434B5C;\n",
              "      box-shadow: 0px 1px 3px 1px rgba(0, 0, 0, 0.15);\n",
              "      filter: drop-shadow(0px 1px 2px rgba(0, 0, 0, 0.3));\n",
              "      fill: #FFFFFF;\n",
              "    }\n",
              "  </style>\n",
              "\n",
              "      <script>\n",
              "        const buttonEl =\n",
              "          document.querySelector('#df-0d374d2c-e858-4519-b581-83173de851ea button.colab-df-convert');\n",
              "        buttonEl.style.display =\n",
              "          google.colab.kernel.accessAllowed ? 'block' : 'none';\n",
              "\n",
              "        async function convertToInteractive(key) {\n",
              "          const element = document.querySelector('#df-0d374d2c-e858-4519-b581-83173de851ea');\n",
              "          const dataTable =\n",
              "            await google.colab.kernel.invokeFunction('convertToInteractive',\n",
              "                                                     [key], {});\n",
              "          if (!dataTable) return;\n",
              "\n",
              "          const docLinkHtml = 'Like what you see? Visit the ' +\n",
              "            '<a target=\"_blank\" href=https://colab.research.google.com/notebooks/data_table.ipynb>data table notebook</a>'\n",
              "            + ' to learn more about interactive tables.';\n",
              "          element.innerHTML = '';\n",
              "          dataTable['output_type'] = 'display_data';\n",
              "          await google.colab.output.renderOutput(dataTable, element);\n",
              "          const docLink = document.createElement('div');\n",
              "          docLink.innerHTML = docLinkHtml;\n",
              "          element.appendChild(docLink);\n",
              "        }\n",
              "      </script>\n",
              "    </div>\n",
              "  </div>\n",
              "  "
            ]
          },
          "metadata": {},
          "execution_count": 69
        }
      ]
    },
    {
      "cell_type": "code",
      "source": [
        "!pip install matplotlib\n",
        "! pip install --upgrade pandas numpy matplotlib"
      ],
      "metadata": {
        "colab": {
          "base_uri": "https://localhost:8080/",
          "height": 745
        },
        "id": "NUNuUzDkchj3",
        "outputId": "919785ba-be93-4b6b-8e9e-c7ebf94a72ed"
      },
      "execution_count": 70,
      "outputs": [
        {
          "output_type": "stream",
          "name": "stdout",
          "text": [
            "Looking in indexes: https://pypi.org/simple, https://us-python.pkg.dev/colab-wheels/public/simple/\n",
            "Requirement already satisfied: matplotlib in /usr/local/lib/python3.7/dist-packages (3.1.3)\n",
            "Requirement already satisfied: cycler>=0.10 in /usr/local/lib/python3.7/dist-packages (from matplotlib) (0.11.0)\n",
            "Requirement already satisfied: python-dateutil>=2.1 in /usr/local/lib/python3.7/dist-packages (from matplotlib) (2.8.2)\n",
            "Requirement already satisfied: kiwisolver>=1.0.1 in /usr/local/lib/python3.7/dist-packages (from matplotlib) (1.4.4)\n",
            "Requirement already satisfied: numpy>=1.11 in /usr/local/lib/python3.7/dist-packages (from matplotlib) (1.21.6)\n",
            "Requirement already satisfied: pyparsing!=2.0.4,!=2.1.2,!=2.1.6,>=2.0.1 in /usr/local/lib/python3.7/dist-packages (from matplotlib) (3.0.9)\n",
            "Requirement already satisfied: typing-extensions in /usr/local/lib/python3.7/dist-packages (from kiwisolver>=1.0.1->matplotlib) (4.1.1)\n",
            "Requirement already satisfied: six>=1.5 in /usr/local/lib/python3.7/dist-packages (from python-dateutil>=2.1->matplotlib) (1.15.0)\n",
            "Looking in indexes: https://pypi.org/simple, https://us-python.pkg.dev/colab-wheels/public/simple/\n",
            "Requirement already satisfied: pandas in /usr/local/lib/python3.7/dist-packages (1.2.0)\n",
            "Collecting pandas\n",
            "  Using cached pandas-1.3.5-cp37-cp37m-manylinux_2_17_x86_64.manylinux2014_x86_64.whl (11.3 MB)\n",
            "Requirement already satisfied: numpy in /usr/local/lib/python3.7/dist-packages (1.21.6)\n",
            "Requirement already satisfied: matplotlib in /usr/local/lib/python3.7/dist-packages (3.1.3)\n",
            "Collecting matplotlib\n",
            "  Using cached matplotlib-3.5.3-cp37-cp37m-manylinux_2_5_x86_64.manylinux1_x86_64.whl (11.2 MB)\n",
            "Requirement already satisfied: python-dateutil>=2.7.3 in /usr/local/lib/python3.7/dist-packages (from pandas) (2.8.2)\n",
            "Requirement already satisfied: pytz>=2017.3 in /usr/local/lib/python3.7/dist-packages (from pandas) (2022.2.1)\n",
            "Requirement already satisfied: six>=1.5 in /usr/local/lib/python3.7/dist-packages (from python-dateutil>=2.7.3->pandas) (1.15.0)\n",
            "Requirement already satisfied: cycler>=0.10 in /usr/local/lib/python3.7/dist-packages (from matplotlib) (0.11.0)\n",
            "Requirement already satisfied: fonttools>=4.22.0 in /usr/local/lib/python3.7/dist-packages (from matplotlib) (4.37.3)\n",
            "Requirement already satisfied: pillow>=6.2.0 in /usr/local/lib/python3.7/dist-packages (from matplotlib) (7.1.2)\n",
            "Requirement already satisfied: pyparsing>=2.2.1 in /usr/local/lib/python3.7/dist-packages (from matplotlib) (3.0.9)\n",
            "Requirement already satisfied: packaging>=20.0 in /usr/local/lib/python3.7/dist-packages (from matplotlib) (21.3)\n",
            "Requirement already satisfied: kiwisolver>=1.0.1 in /usr/local/lib/python3.7/dist-packages (from matplotlib) (1.4.4)\n",
            "Requirement already satisfied: typing-extensions in /usr/local/lib/python3.7/dist-packages (from kiwisolver>=1.0.1->matplotlib) (4.1.1)\n",
            "Installing collected packages: pandas, matplotlib\n",
            "  Attempting uninstall: pandas\n",
            "    Found existing installation: pandas 1.2.0\n",
            "    Uninstalling pandas-1.2.0:\n",
            "      Successfully uninstalled pandas-1.2.0\n",
            "  Attempting uninstall: matplotlib\n",
            "    Found existing installation: matplotlib 3.1.3\n",
            "    Uninstalling matplotlib-3.1.3:\n",
            "      Successfully uninstalled matplotlib-3.1.3\n",
            "Successfully installed matplotlib-3.5.3 pandas-1.3.5\n"
          ]
        },
        {
          "output_type": "display_data",
          "data": {
            "application/vnd.colab-display-data+json": {
              "pip_warning": {
                "packages": [
                  "matplotlib",
                  "mpl_toolkits",
                  "pandas"
                ]
              }
            }
          },
          "metadata": {}
        }
      ]
    },
    {
      "cell_type": "code",
      "source": [],
      "metadata": {
        "id": "93I53sL-aNtz"
      },
      "execution_count": 70,
      "outputs": []
    },
    {
      "cell_type": "code",
      "source": [
        "!pip install matplotlib==3.1.3"
      ],
      "metadata": {
        "colab": {
          "base_uri": "https://localhost:8080/",
          "height": 401
        },
        "id": "HTKEXGCefOvL",
        "outputId": "6ffa36a1-fbe1-4460-9dd1-2d5042c239a2"
      },
      "execution_count": 71,
      "outputs": [
        {
          "output_type": "stream",
          "name": "stdout",
          "text": [
            "Looking in indexes: https://pypi.org/simple, https://us-python.pkg.dev/colab-wheels/public/simple/\n",
            "Collecting matplotlib==3.1.3\n",
            "  Using cached matplotlib-3.1.3-cp37-cp37m-manylinux1_x86_64.whl (13.1 MB)\n",
            "Requirement already satisfied: cycler>=0.10 in /usr/local/lib/python3.7/dist-packages (from matplotlib==3.1.3) (0.11.0)\n",
            "Requirement already satisfied: python-dateutil>=2.1 in /usr/local/lib/python3.7/dist-packages (from matplotlib==3.1.3) (2.8.2)\n",
            "Requirement already satisfied: pyparsing!=2.0.4,!=2.1.2,!=2.1.6,>=2.0.1 in /usr/local/lib/python3.7/dist-packages (from matplotlib==3.1.3) (3.0.9)\n",
            "Requirement already satisfied: numpy>=1.11 in /usr/local/lib/python3.7/dist-packages (from matplotlib==3.1.3) (1.21.6)\n",
            "Requirement already satisfied: kiwisolver>=1.0.1 in /usr/local/lib/python3.7/dist-packages (from matplotlib==3.1.3) (1.4.4)\n",
            "Requirement already satisfied: typing-extensions in /usr/local/lib/python3.7/dist-packages (from kiwisolver>=1.0.1->matplotlib==3.1.3) (4.1.1)\n",
            "Requirement already satisfied: six>=1.5 in /usr/local/lib/python3.7/dist-packages (from python-dateutil>=2.1->matplotlib==3.1.3) (1.15.0)\n",
            "Installing collected packages: matplotlib\n",
            "  Attempting uninstall: matplotlib\n",
            "    Found existing installation: matplotlib 3.5.3\n",
            "    Uninstalling matplotlib-3.5.3:\n",
            "      Successfully uninstalled matplotlib-3.5.3\n",
            "Successfully installed matplotlib-3.1.3\n"
          ]
        },
        {
          "output_type": "display_data",
          "data": {
            "application/vnd.colab-display-data+json": {
              "pip_warning": {
                "packages": [
                  "matplotlib",
                  "mpl_toolkits"
                ]
              }
            }
          },
          "metadata": {}
        }
      ]
    },
    {
      "cell_type": "code",
      "source": [
        "import matplotlib\n",
        "import matplotlib.pyplot as plt"
      ],
      "metadata": {
        "id": "E51GtQyafXrB"
      },
      "execution_count": 72,
      "outputs": []
    },
    {
      "cell_type": "code",
      "source": [
        "ffd = pd.DataFrame(\n",
        "    data={\n",
        "        \"Montant maximal\": DFF['Montant maximal'].values\n",
        "       \n",
        "    },\n",
        "    index=[2012+i for i in range(0,9)]\n",
        ")\n",
        "ffd"
      ],
      "metadata": {
        "colab": {
          "base_uri": "https://localhost:8080/",
          "height": 332
        },
        "id": "B0srw9tlhQN3",
        "outputId": "768a9747-7532-4a13-ff64-5090216964a2"
      },
      "execution_count": 81,
      "outputs": [
        {
          "output_type": "execute_result",
          "data": {
            "text/plain": [
              "      Montant maximal\n",
              "2012       8439689.50\n",
              "2013       8325056.35\n",
              "2014      12996647.40\n",
              "2015       6731845.00\n",
              "2016      13172274.10\n",
              "2017      10303309.00\n",
              "2018      14384375.63\n",
              "2019      16440975.00\n",
              "2020      17850679.00"
            ],
            "text/html": [
              "\n",
              "  <div id=\"df-afde8e73-24df-43f8-b89d-321be50f18ec\">\n",
              "    <div class=\"colab-df-container\">\n",
              "      <div>\n",
              "<style scoped>\n",
              "    .dataframe tbody tr th:only-of-type {\n",
              "        vertical-align: middle;\n",
              "    }\n",
              "\n",
              "    .dataframe tbody tr th {\n",
              "        vertical-align: top;\n",
              "    }\n",
              "\n",
              "    .dataframe thead th {\n",
              "        text-align: right;\n",
              "    }\n",
              "</style>\n",
              "<table border=\"1\" class=\"dataframe\">\n",
              "  <thead>\n",
              "    <tr style=\"text-align: right;\">\n",
              "      <th></th>\n",
              "      <th>Montant maximal</th>\n",
              "    </tr>\n",
              "  </thead>\n",
              "  <tbody>\n",
              "    <tr>\n",
              "      <th>2012</th>\n",
              "      <td>8439689.50</td>\n",
              "    </tr>\n",
              "    <tr>\n",
              "      <th>2013</th>\n",
              "      <td>8325056.35</td>\n",
              "    </tr>\n",
              "    <tr>\n",
              "      <th>2014</th>\n",
              "      <td>12996647.40</td>\n",
              "    </tr>\n",
              "    <tr>\n",
              "      <th>2015</th>\n",
              "      <td>6731845.00</td>\n",
              "    </tr>\n",
              "    <tr>\n",
              "      <th>2016</th>\n",
              "      <td>13172274.10</td>\n",
              "    </tr>\n",
              "    <tr>\n",
              "      <th>2017</th>\n",
              "      <td>10303309.00</td>\n",
              "    </tr>\n",
              "    <tr>\n",
              "      <th>2018</th>\n",
              "      <td>14384375.63</td>\n",
              "    </tr>\n",
              "    <tr>\n",
              "      <th>2019</th>\n",
              "      <td>16440975.00</td>\n",
              "    </tr>\n",
              "    <tr>\n",
              "      <th>2020</th>\n",
              "      <td>17850679.00</td>\n",
              "    </tr>\n",
              "  </tbody>\n",
              "</table>\n",
              "</div>\n",
              "      <button class=\"colab-df-convert\" onclick=\"convertToInteractive('df-afde8e73-24df-43f8-b89d-321be50f18ec')\"\n",
              "              title=\"Convert this dataframe to an interactive table.\"\n",
              "              style=\"display:none;\">\n",
              "        \n",
              "  <svg xmlns=\"http://www.w3.org/2000/svg\" height=\"24px\"viewBox=\"0 0 24 24\"\n",
              "       width=\"24px\">\n",
              "    <path d=\"M0 0h24v24H0V0z\" fill=\"none\"/>\n",
              "    <path d=\"M18.56 5.44l.94 2.06.94-2.06 2.06-.94-2.06-.94-.94-2.06-.94 2.06-2.06.94zm-11 1L8.5 8.5l.94-2.06 2.06-.94-2.06-.94L8.5 2.5l-.94 2.06-2.06.94zm10 10l.94 2.06.94-2.06 2.06-.94-2.06-.94-.94-2.06-.94 2.06-2.06.94z\"/><path d=\"M17.41 7.96l-1.37-1.37c-.4-.4-.92-.59-1.43-.59-.52 0-1.04.2-1.43.59L10.3 9.45l-7.72 7.72c-.78.78-.78 2.05 0 2.83L4 21.41c.39.39.9.59 1.41.59.51 0 1.02-.2 1.41-.59l7.78-7.78 2.81-2.81c.8-.78.8-2.07 0-2.86zM5.41 20L4 18.59l7.72-7.72 1.47 1.35L5.41 20z\"/>\n",
              "  </svg>\n",
              "      </button>\n",
              "      \n",
              "  <style>\n",
              "    .colab-df-container {\n",
              "      display:flex;\n",
              "      flex-wrap:wrap;\n",
              "      gap: 12px;\n",
              "    }\n",
              "\n",
              "    .colab-df-convert {\n",
              "      background-color: #E8F0FE;\n",
              "      border: none;\n",
              "      border-radius: 50%;\n",
              "      cursor: pointer;\n",
              "      display: none;\n",
              "      fill: #1967D2;\n",
              "      height: 32px;\n",
              "      padding: 0 0 0 0;\n",
              "      width: 32px;\n",
              "    }\n",
              "\n",
              "    .colab-df-convert:hover {\n",
              "      background-color: #E2EBFA;\n",
              "      box-shadow: 0px 1px 2px rgba(60, 64, 67, 0.3), 0px 1px 3px 1px rgba(60, 64, 67, 0.15);\n",
              "      fill: #174EA6;\n",
              "    }\n",
              "\n",
              "    [theme=dark] .colab-df-convert {\n",
              "      background-color: #3B4455;\n",
              "      fill: #D2E3FC;\n",
              "    }\n",
              "\n",
              "    [theme=dark] .colab-df-convert:hover {\n",
              "      background-color: #434B5C;\n",
              "      box-shadow: 0px 1px 3px 1px rgba(0, 0, 0, 0.15);\n",
              "      filter: drop-shadow(0px 1px 2px rgba(0, 0, 0, 0.3));\n",
              "      fill: #FFFFFF;\n",
              "    }\n",
              "  </style>\n",
              "\n",
              "      <script>\n",
              "        const buttonEl =\n",
              "          document.querySelector('#df-afde8e73-24df-43f8-b89d-321be50f18ec button.colab-df-convert');\n",
              "        buttonEl.style.display =\n",
              "          google.colab.kernel.accessAllowed ? 'block' : 'none';\n",
              "\n",
              "        async function convertToInteractive(key) {\n",
              "          const element = document.querySelector('#df-afde8e73-24df-43f8-b89d-321be50f18ec');\n",
              "          const dataTable =\n",
              "            await google.colab.kernel.invokeFunction('convertToInteractive',\n",
              "                                                     [key], {});\n",
              "          if (!dataTable) return;\n",
              "\n",
              "          const docLinkHtml = 'Like what you see? Visit the ' +\n",
              "            '<a target=\"_blank\" href=https://colab.research.google.com/notebooks/data_table.ipynb>data table notebook</a>'\n",
              "            + ' to learn more about interactive tables.';\n",
              "          element.innerHTML = '';\n",
              "          dataTable['output_type'] = 'display_data';\n",
              "          await google.colab.output.renderOutput(dataTable, element);\n",
              "          const docLink = document.createElement('div');\n",
              "          docLink.innerHTML = docLinkHtml;\n",
              "          element.appendChild(docLink);\n",
              "        }\n",
              "      </script>\n",
              "    </div>\n",
              "  </div>\n",
              "  "
            ]
          },
          "metadata": {},
          "execution_count": 81
        }
      ]
    },
    {
      "cell_type": "code",
      "source": [
        "ffd.plot(\n",
        "    marker=\"o\",\n",
        "    linestyle=\"dashed\",\n",
        "    title=\"le montent maximal entre 2012 et 2020\",\n",
        "    figsize=(8, 6),\n",
        "    fontsize=16,\n",
        "    xlim=(2012, 2020)\n",
        ")"
      ],
      "metadata": {
        "colab": {
          "base_uri": "https://localhost:8080/",
          "height": 412
        },
        "id": "T8nFkVvXfano",
        "outputId": "943c7fdd-d114-45e3-ddc7-8fb98d49f79e"
      },
      "execution_count": 83,
      "outputs": [
        {
          "output_type": "execute_result",
          "data": {
            "text/plain": [
              "<matplotlib.axes._subplots.AxesSubplot at 0x7fc18efafa10>"
            ]
          },
          "metadata": {},
          "execution_count": 83
        },
        {
          "output_type": "display_data",
          "data": {
            "text/plain": [
              "<Figure size 576x432 with 1 Axes>"
            ],
            "image/png": "[encoded data removed]"
          },
          "metadata": {
            "needs_background": "light"
          }
        }
      ]
    }
  ]
}