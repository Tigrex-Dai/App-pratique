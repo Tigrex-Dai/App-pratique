{
  "nbformat": 4,
  "nbformat_minor": 0,
  "metadata": {
    "colab": {
      "provenance": [],
      "collapsed_sections": [],
      "authorship_tag": "ABX9TyOSeXoxGF/IJ8UU6/IsseeK",
      "include_colab_link": true
    },
    "kernelspec": {
      "name": "python3",
      "display_name": "Python 3"
    },
    "language_info": {
      "name": "python"
    }
  },
  "cells": [
    {
      "cell_type": "markdown",
      "metadata": {
        "id": "view-in-github",
        "colab_type": "text"
      },
      "source": [
        "<a href=\"https://colab.research.google.com/github/ouissem11/App-pratique/blob/master/final.ipynb\" target=\"_parent\"><img src=\"https://colab.research.google.com/assets/colab-badge.svg\" alt=\"Open In Colab\"/></a>"
      ]
    },
    {
      "cell_type": "code",
      "execution_count": 241,
      "metadata": {
        "id": "a7YSgEUIth6n"
      },
      "outputs": [],
      "source": [
        "import numpy as np\n",
        "import pandas as pd"
      ]
    },
    {
      "cell_type": "code",
      "source": [
        "!pip install pandas==1.2.0"
      ],
      "metadata": {
        "colab": {
          "base_uri": "https://localhost:8080/"
        },
        "id": "r0WCZHsZt1Yi",
        "outputId": "698adbb3-01c1-4ae9-c970-02db4c80d0d3"
      },
      "execution_count": 133,
      "outputs": [
        {
          "output_type": "stream",
          "name": "stdout",
          "text": [
            "Looking in indexes: https://pypi.org/simple, https://us-python.pkg.dev/colab-wheels/public/simple/\n",
            "Requirement already satisfied: pandas==1.2.0 in /usr/local/lib/python3.7/dist-packages (1.2.0)\n",
            "Requirement already satisfied: numpy>=1.16.5 in /usr/local/lib/python3.7/dist-packages (from pandas==1.2.0) (1.21.6)\n",
            "Requirement already satisfied: python-dateutil>=2.7.3 in /usr/local/lib/python3.7/dist-packages (from pandas==1.2.0) (2.8.2)\n",
            "Requirement already satisfied: pytz>=2017.3 in /usr/local/lib/python3.7/dist-packages (from pandas==1.2.0) (2022.2.1)\n",
            "Requirement already satisfied: six>=1.5 in /usr/local/lib/python3.7/dist-packages (from python-dateutil>=2.7.3->pandas==1.2.0) (1.15.0)\n"
          ]
        }
      ]
    },
    {
      "cell_type": "code",
      "source": [
        "!pip install xlrd==1.2.0"
      ],
      "metadata": {
        "colab": {
          "base_uri": "https://localhost:8080/"
        },
        "id": "gLdjtkfkt5VN",
        "outputId": "8669641b-1766-4605-d5ff-9465376d9dbe"
      },
      "execution_count": 134,
      "outputs": [
        {
          "output_type": "stream",
          "name": "stdout",
          "text": [
            "Looking in indexes: https://pypi.org/simple, https://us-python.pkg.dev/colab-wheels/public/simple/\n",
            "Requirement already satisfied: xlrd==1.2.0 in /usr/local/lib/python3.7/dist-packages (1.2.0)\n"
          ]
        }
      ]
    },
    {
      "cell_type": "code",
      "source": [
        "df1 = pd.read_excel(\"/content/RESULTAT-PREPS-2012.xls\")"
      ],
      "metadata": {
        "id": "R1a_lIont-8t"
      },
      "execution_count": 242,
      "outputs": []
    },
    {
      "cell_type": "code",
      "source": [
        "df1.columns"
      ],
      "metadata": {
        "colab": {
          "base_uri": "https://localhost:8080/"
        },
        "id": "p4HjkZ3tuIAJ",
        "outputId": "f17cda74-b19a-4248-a1d0-4da5afd2d763"
      },
      "execution_count": 243,
      "outputs": [
        {
          "output_type": "execute_result",
          "data": {
            "text/plain": [
              "Index(['FINESS\\njuridique',\n",
              "       'Nom de l'Etablissement de Santé\\ndu Porteur de Projet/Investigateur\\nCoordonnateur',\n",
              "       'Porteur de Projet/Investigateur\\nCoordonnateur\\nNOM',\n",
              "       'Porteur de Projet/Investigateur\\nCoordonnateur\\nPRENOM',\n",
              "       'Titre du projet', 'N° du projet', 'Acronyme',\n",
              "       'Montant maximal PREVISIONNEL \\n (accordé  sous conditions de suivi)'],\n",
              "      dtype='object')"
            ]
          },
          "metadata": {},
          "execution_count": 243
        }
      ]
    },
    {
      "cell_type": "code",
      "source": [
        "df1=df1.assign(année= 2012) "
      ],
      "metadata": {
        "id": "qj-AN72xyN9D"
      },
      "execution_count": 244,
      "outputs": []
    },
    {
      "cell_type": "code",
      "source": [
        "df1.columns =['FINESS',\n",
        "       'Nom de Etablissement de Santé',\n",
        "       'Porteur de Projet/nNOM',\n",
        "       'Porteur de Projet/nPRENOM',\n",
        "       'Titre du projet', 'N° du projet', 'Acronyme',\n",
        "       'Montant maximal' ,'année']"
      ],
      "metadata": {
        "id": "opvd1-1IJMtr"
      },
      "execution_count": 245,
      "outputs": []
    },
    {
      "cell_type": "code",
      "source": [
        "df1=df1[['FINESS',\n",
        "       'Nom de Etablissement de Santé',\n",
        "       'Porteur de Projet/nNOM',\n",
        "       'Porteur de Projet/nPRENOM',\n",
        "       'Titre du projet', 'N° du projet', 'Acronyme',\n",
        "       'Montant maximal' ,'année']]"
      ],
      "metadata": {
        "id": "EF8k8m2fyjkl"
      },
      "execution_count": 246,
      "outputs": []
    },
    {
      "cell_type": "code",
      "source": [
        "df2 = pd.read_excel(\"/content/RESULTAT-PREPS-SIPS-2012.xls\")"
      ],
      "metadata": {
        "id": "6gaFHUXJuQ_-"
      },
      "execution_count": 247,
      "outputs": []
    },
    {
      "cell_type": "code",
      "source": [
        "df2=df2.assign(année= 2012) "
      ],
      "metadata": {
        "id": "rLHc572cyu5A"
      },
      "execution_count": 248,
      "outputs": []
    },
    {
      "cell_type": "code",
      "source": [
        "df2.columns =['FINESS',\n",
        "       'Nom de Etablissement de Santé',\n",
        "       'Porteur de Projet/nNOM',\n",
        "       'Porteur de Projet/nPRENOM',\n",
        "       'Titre du projet', 'N° du projet', 'Acronyme',\n",
        "       'Montant maximal' ,'année']"
      ],
      "metadata": {
        "id": "Cj6iynvLG85X"
      },
      "execution_count": 249,
      "outputs": []
    },
    {
      "cell_type": "code",
      "source": [
        "df2.columns"
      ],
      "metadata": {
        "colab": {
          "base_uri": "https://localhost:8080/"
        },
        "id": "osFbdN5iIhgZ",
        "outputId": "95673cb7-d792-4c9c-fa37-b39c57e7bd43"
      },
      "execution_count": 250,
      "outputs": [
        {
          "output_type": "execute_result",
          "data": {
            "text/plain": [
              "Index(['FINESS', 'Nom de Etablissement de Santé', 'Porteur de Projet/nNOM',\n",
              "       'Porteur de Projet/nPRENOM', 'Titre du projet', 'N° du projet',\n",
              "       'Acronyme', 'Montant maximal', 'année'],\n",
              "      dtype='object')"
            ]
          },
          "metadata": {},
          "execution_count": 250
        }
      ]
    },
    {
      "cell_type": "code",
      "source": [
        "df2=df2[['FINESS', 'Nom de Etablissement de Santé', 'Porteur de Projet/nNOM',\n",
        "       'Porteur de Projet/nPRENOM', 'Titre du projet', 'N° du projet',\n",
        "       'Acronyme', 'Montant maximal', 'année']]"
      ],
      "metadata": {
        "id": "aDCg6FDrywa6"
      },
      "execution_count": 251,
      "outputs": []
    },
    {
      "cell_type": "code",
      "source": [
        "df3 = pd.read_excel(\"/content/Resultats_PREPS-DP_2013.xlsx\")"
      ],
      "metadata": {
        "id": "KG_VnQikuWMd"
      },
      "execution_count": 257,
      "outputs": []
    },
    {
      "cell_type": "code",
      "source": [
        "df3=df3.drop('Champ \"Innovation Recherche\" du PMSI', axis=1)"
      ],
      "metadata": {
        "id": "nhp4oR5WRV-o"
      },
      "execution_count": 261,
      "outputs": []
    },
    {
      "cell_type": "code",
      "source": [
        "df3=df3.assign(année= 2013) "
      ],
      "metadata": {
        "id": "tGkhnzk3y2Iq"
      },
      "execution_count": 262,
      "outputs": []
    },
    {
      "cell_type": "code",
      "source": [
        "df3.columns = ['FINESS',\n",
        "       'Nom de Etablissement de Santé',\n",
        "       'Porteur de Projet/nNOM',\n",
        "       'Porteur de Projet/nPRENOM',\n",
        "       'Titre du projet', 'N° du projet', 'Acronyme',\n",
        "       'Montant maximal','année']"
      ],
      "metadata": {
        "id": "gn9HwaKbuaRU"
      },
      "execution_count": 263,
      "outputs": []
    },
    {
      "cell_type": "code",
      "source": [
        "df3 =df3[['FINESS', 'Nom de Etablissement de Santé', 'Porteur de Projet/nNOM',\n",
        "       'Porteur de Projet/nPRENOM', 'Titre du projet', 'N° du projet',\n",
        "       'Acronyme', 'Montant maximal', 'année']]"
      ],
      "metadata": {
        "id": "EfNEGZpDItDN"
      },
      "execution_count": 264,
      "outputs": []
    },
    {
      "cell_type": "code",
      "source": [],
      "metadata": {
        "id": "UPOKfWCAItx2"
      },
      "execution_count": null,
      "outputs": []
    },
    {
      "cell_type": "code",
      "source": [
        "df4 = pd.read_excel(\"/content/Resultats_PREPS-IQ_2013.xlsx\")"
      ],
      "metadata": {
        "id": "kDQF9nN9u5uV"
      },
      "execution_count": 265,
      "outputs": []
    },
    {
      "cell_type": "code",
      "source": [
        "df4.columns"
      ],
      "metadata": {
        "colab": {
          "base_uri": "https://localhost:8080/"
        },
        "id": "8dOrW9TPu8uj",
        "outputId": "7594cf9b-e222-46ea-b180-0729705b7e7c"
      },
      "execution_count": 266,
      "outputs": [
        {
          "output_type": "execute_result",
          "data": {
            "text/plain": [
              "Index(['FINESS\\njuridique', 'Nom de l'établissement de santé\\ncoordonnateur',\n",
              "       'Porteur de projet / Investigateur\\ncoordonnateur\\nNOM',\n",
              "       'Porteur de projet / Investigateur\\ncoordonnateur\\nPRENOM',\n",
              "       'Titre du projet', 'N° du projet',\n",
              "       'Champ \"Innovation Recherche\" du PMSI', 'Acronyme',\n",
              "       'Montant accordé sous conditions de suivi (€)'],\n",
              "      dtype='object')"
            ]
          },
          "metadata": {},
          "execution_count": 266
        }
      ]
    },
    {
      "cell_type": "code",
      "source": [
        "df4=df4.drop('Champ \"Innovation Recherche\" du PMSI', axis=1)"
      ],
      "metadata": {
        "id": "9qK4MIyrvAcO"
      },
      "execution_count": 267,
      "outputs": []
    },
    {
      "cell_type": "code",
      "source": [
        "df4=df4.assign(année= 2013) "
      ],
      "metadata": {
        "id": "FhJ0Aj1gzGlV"
      },
      "execution_count": 268,
      "outputs": []
    },
    {
      "cell_type": "code",
      "source": [
        "df4.columns = ['FINESS',\n",
        "       'Nom de Etablissement de Santé',\n",
        "       'Porteur de Projet/nNOM',\n",
        "       'Porteur de Projet/nPRENOM',\n",
        "       'Titre du projet', 'N° du projet', 'Acronyme',\n",
        "       'Montant maximal' ,'année']"
      ],
      "metadata": {
        "id": "aEtk_TF3J3WO"
      },
      "execution_count": 269,
      "outputs": []
    },
    {
      "cell_type": "code",
      "source": [
        "df4 =df4[['FINESS', 'Nom de Etablissement de Santé', 'Porteur de Projet/nNOM',\n",
        "       'Porteur de Projet/nPRENOM', 'Titre du projet', 'N° du projet',\n",
        "       'Acronyme', 'Montant maximal', 'année']]"
      ],
      "metadata": {
        "id": "U03GEH5szi98"
      },
      "execution_count": 270,
      "outputs": []
    },
    {
      "cell_type": "code",
      "source": [
        "df5 = pd.read_excel(\"/content/Resultats_PREPS_2013.xlsx\")"
      ],
      "metadata": {
        "id": "CCHORpiKvD84"
      },
      "execution_count": 271,
      "outputs": []
    },
    {
      "cell_type": "code",
      "source": [
        "df5=df5.assign(année= 2013) "
      ],
      "metadata": {
        "id": "tNF8lA05zrMl"
      },
      "execution_count": 272,
      "outputs": []
    },
    {
      "cell_type": "code",
      "source": [
        "df5.columns=['FINESS',\n",
        "       'Nom de Etablissement de Santé',\n",
        "       'Porteur de Projet/nNOM',\n",
        "       'Porteur de Projet/nPRENOM',\n",
        "       'Titre du projet', 'N° du projet', 'Acronyme',\n",
        "       'Montant maximal','année']\n",
        "       "
      ],
      "metadata": {
        "id": "A-yzZ_Rwz0Mq"
      },
      "execution_count": 273,
      "outputs": []
    },
    {
      "cell_type": "code",
      "source": [
        "df5 =df5[['FINESS', 'Nom de Etablissement de Santé', 'Porteur de Projet/nNOM',\n",
        "       'Porteur de Projet/nPRENOM', 'Titre du projet', 'N° du projet',\n",
        "       'Acronyme', 'Montant maximal', 'année']]"
      ],
      "metadata": {
        "id": "5wQ0TP2AK1eq"
      },
      "execution_count": 274,
      "outputs": []
    },
    {
      "cell_type": "code",
      "source": [
        "df6 = pd.read_excel(\"/content/Resultats_PREPS_2014.xls\")"
      ],
      "metadata": {
        "id": "EIXKRO_rvGqt"
      },
      "execution_count": 275,
      "outputs": []
    },
    {
      "cell_type": "code",
      "source": [
        "df6=df6.assign(année= 2014) "
      ],
      "metadata": {
        "id": "O3r8717Nz6u4"
      },
      "execution_count": 276,
      "outputs": []
    },
    {
      "cell_type": "code",
      "source": [
        "df6.columns=['FINESS',\n",
        "       'Nom de lEtablissement de Santé',\n",
        "       'Porteur de Projet/nNOM',\n",
        "       'Porteur de Projet/nPRENOM',\n",
        "       'Titre du projet', 'N° du projet','Acronyme',\n",
        "       'Montant maximal','année']"
      ],
      "metadata": {
        "id": "6fEMwFWA0BXO"
      },
      "execution_count": 277,
      "outputs": []
    },
    {
      "cell_type": "code",
      "source": [
        "df6=df6[['FINESS',\n",
        "       'Nom de lEtablissement de Santé',\n",
        "       'Porteur de Projet/nNOM',\n",
        "       'Porteur de Projet/nPRENOM',\n",
        "       'Titre du projet', 'N° du projet','Acronyme',\n",
        "       'Montant maximal','année']]"
      ],
      "metadata": {
        "id": "W8NixbPfLThc"
      },
      "execution_count": 278,
      "outputs": []
    },
    {
      "cell_type": "code",
      "source": [
        "df7 = pd.read_excel(\"/content/preps_20_resultatsselection_v2-0_20211006_mel.xlsx\")"
      ],
      "metadata": {
        "id": "nHkWb7gAvJzf"
      },
      "execution_count": 317,
      "outputs": []
    },
    {
      "cell_type": "code",
      "source": [
        "df7=df7.assign(année= 2020) "
      ],
      "metadata": {
        "id": "oY37wTiC0Llx"
      },
      "execution_count": 318,
      "outputs": []
    },
    {
      "cell_type": "code",
      "source": [
        "df7.columns"
      ],
      "metadata": {
        "colab": {
          "base_uri": "https://localhost:8080/"
        },
        "id": "SdsLXnuGS9Zs",
        "outputId": "4d8d1855-7e7b-4b72-a9b5-0a63c1867274"
      },
      "execution_count": 319,
      "outputs": [
        {
          "output_type": "execute_result",
          "data": {
            "text/plain": [
              "Index(['Porteur de projet / Investigateur\\ncoordonnateur\\nNOM',\n",
              "       'Porteur de projet / Investigateur\\ncoordonnateur\\nPRENOM',\n",
              "       'N° du projet', 'FINESS',\n",
              "       'Nom de l'établissement de santé\\ngestionnaire des fonds', 'Acronyme',\n",
              "       'Titre du projet', 'Autorisation d'engagement (AE)', 'année'],\n",
              "      dtype='object')"
            ]
          },
          "metadata": {},
          "execution_count": 319
        }
      ]
    },
    {
      "cell_type": "code",
      "source": [
        "df7.columns =['Porteur de Projet/nNOM',\n",
        "              'Porteur de Projet/nPRENOM',\n",
        "              'N° du projet',\n",
        "              'FINESS',\n",
        "              'Nom de Etablissement de Santé',\n",
        "              'Acronyme',\n",
        "              'Titre du projet',\n",
        "              'Montant maximal','année']\n"
      ],
      "metadata": {
        "id": "NeO_t_kx54Y3"
      },
      "execution_count": 320,
      "outputs": []
    },
    {
      "cell_type": "code",
      "source": [
        "df7.columns"
      ],
      "metadata": {
        "colab": {
          "base_uri": "https://localhost:8080/"
        },
        "id": "Sbs9sinBTPRc",
        "outputId": "0401beca-77c5-4027-ef16-8270375dcb2a"
      },
      "execution_count": 321,
      "outputs": [
        {
          "output_type": "execute_result",
          "data": {
            "text/plain": [
              "Index(['Porteur de Projet/nNOM', 'Porteur de Projet/nPRENOM', 'N° du projet',\n",
              "       'FINESS', 'Nom de Etablissement de Santé', 'Acronyme',\n",
              "       'Titre du projet', 'Montant maximal', 'année'],\n",
              "      dtype='object')"
            ]
          },
          "metadata": {},
          "execution_count": 321
        }
      ]
    },
    {
      "cell_type": "code",
      "source": [
        "df7=df7[['FINESS',\n",
        "       'Nom de Etablissement de Santé',\n",
        "       'Porteur de Projet/nNOM',\n",
        "       'Porteur de Projet/nPRENOM',\n",
        "       'Titre du projet', 'N° du projet','Acronyme',\n",
        "       'Montant maximal','année']]"
      ],
      "metadata": {
        "id": "YgpdpUcs0hCm"
      },
      "execution_count": 322,
      "outputs": []
    },
    {
      "cell_type": "code",
      "source": [
        "df9 = pd.read_excel(\"/content/resultats_preps_2015_mel.xls\")"
      ],
      "metadata": {
        "id": "oHydM-KfvvSn"
      },
      "execution_count": 283,
      "outputs": []
    },
    {
      "cell_type": "code",
      "source": [
        "df9=df9.assign(année= 2015) "
      ],
      "metadata": {
        "id": "JX4hLEY5A1bV"
      },
      "execution_count": 284,
      "outputs": []
    },
    {
      "cell_type": "code",
      "source": [
        "df9.columns= ['FINESS',\n",
        "       'Nom de Etablissement de Santé',\n",
        "       'Porteur de Projet/nNOM',\n",
        "       'Porteur de Projet/nPRENOM',\n",
        "       'Titre du projet', 'N° du projet','Acronyme',\n",
        "       'Montant maximal','année']"
      ],
      "metadata": {
        "id": "Cszjcp8JBRG3"
      },
      "execution_count": 285,
      "outputs": []
    },
    {
      "cell_type": "code",
      "source": [
        "df9=df9[['FINESS',\n",
        "       'Nom de Etablissement de Santé',\n",
        "       'Porteur de Projet/nNOM',\n",
        "       'Porteur de Projet/nPRENOM',\n",
        "       'Titre du projet', 'N° du projet','Acronyme',\n",
        "       'Montant maximal','année']]"
      ],
      "metadata": {
        "id": "WflcjnjcBHcc"
      },
      "execution_count": 286,
      "outputs": []
    },
    {
      "cell_type": "code",
      "source": [
        "df10 = pd.read_excel(\"/content/resultats_preps_2016_mel.xlsx\")"
      ],
      "metadata": {
        "id": "MoHHjJb3vyma"
      },
      "execution_count": 287,
      "outputs": []
    },
    {
      "cell_type": "code",
      "source": [
        "df10=df10.assign(année= 2016) "
      ],
      "metadata": {
        "id": "Z92uodWjBlUk"
      },
      "execution_count": 288,
      "outputs": []
    },
    {
      "cell_type": "code",
      "source": [
        "df10.columns"
      ],
      "metadata": {
        "colab": {
          "base_uri": "https://localhost:8080/"
        },
        "id": "T3t7I6mQBv1i",
        "outputId": "99f10afc-5093-482c-830e-70816eb8ab2d"
      },
      "execution_count": 289,
      "outputs": [
        {
          "output_type": "execute_result",
          "data": {
            "text/plain": [
              "Index(['FINESS\\njuridique',\n",
              "       'Nom de l'établissement de santé\\ngestionnaire des fonds',\n",
              "       'Porteur de projet / Investigateur\\ncoordonnateur\\nNOM',\n",
              "       'Porteur de projet / Investigateur\\ncoordonnateur\\nPRENOM',\n",
              "       'Titre du projet', 'N° du projet', 'Acronyme',\n",
              "       ' Autorisation d'engagement ', 'année'],\n",
              "      dtype='object')"
            ]
          },
          "metadata": {},
          "execution_count": 289
        }
      ]
    },
    {
      "cell_type": "code",
      "source": [
        "df10.columns = [\"FINESS\",\n",
        "       \"Nom de l'établissement de santé\",\n",
        "       \"Porteur de projet/nNOM\",\n",
        "       \"Porteur de projet/nPRENOM\",\n",
        "       \"Titre du projet\", \"N° du projet\", \"Acronyme\",\n",
        "       \"Montant maximal\",\"année\"]"
      ],
      "metadata": {
        "id": "czeMsTWnOXYW"
      },
      "execution_count": 290,
      "outputs": []
    },
    {
      "cell_type": "code",
      "source": [
        "df10=df10[[\"FINESS\",\n",
        "       \"Nom de l'établissement de santé\",\n",
        "       \"Porteur de projet/nNOM\",\n",
        "       \"Porteur de projet/nPRENOM\",\n",
        "       \"Titre du projet\", \"N° du projet\", \"Acronyme\",\n",
        "       \"Montant maximal\",\"année\"]]"
      ],
      "metadata": {
        "id": "9RqeFrCtBnf3"
      },
      "execution_count": 291,
      "outputs": []
    },
    {
      "cell_type": "code",
      "source": [
        "df11 = pd.read_excel(\"/content/resultats_preps_2017_040118.xlsx\")"
      ],
      "metadata": {
        "id": "pul3648Mv2tC"
      },
      "execution_count": 292,
      "outputs": []
    },
    {
      "cell_type": "code",
      "source": [
        "df11=df11.assign(année= 2017) "
      ],
      "metadata": {
        "id": "WhLd_GSZCb8i"
      },
      "execution_count": 293,
      "outputs": []
    },
    {
      "cell_type": "code",
      "source": [
        "df11.columns =[\"FINESS\",\n",
        "       \"Nom de l'établissement de santé\",\n",
        "       \"Porteur de projet/nNOM\",\n",
        "       \"Porteur de projet/nPRENOM\",\n",
        "       \"Titre du projet\", \"N° du projet\", \"Acronyme\",\n",
        "       \"Montant maximal\",\"année\"]"
      ],
      "metadata": {
        "id": "nlWge1reCfyR"
      },
      "execution_count": 294,
      "outputs": []
    },
    {
      "cell_type": "code",
      "source": [
        "df11=df11[[\"FINESS\",\n",
        "       \"Nom de l'établissement de santé\",\n",
        "       \"Porteur de projet/nNOM\",\n",
        "       \"Porteur de projet/nPRENOM\",\n",
        "       \"Titre du projet\", \"N° du projet\", \"Acronyme\",\n",
        "       \"Montant maximal\",\"année\"]]"
      ],
      "metadata": {
        "id": "lGPFf_-oCdYm"
      },
      "execution_count": 295,
      "outputs": []
    },
    {
      "cell_type": "code",
      "source": [
        "df12 = pd.read_excel(\"/content/resultats_preps_2018_mel.xlsx\")"
      ],
      "metadata": {
        "id": "VtMbJEebv7OM"
      },
      "execution_count": 296,
      "outputs": []
    },
    {
      "cell_type": "code",
      "source": [
        "df12=df12.assign(année= 2018)"
      ],
      "metadata": {
        "id": "02D8n8jeC-XZ"
      },
      "execution_count": 297,
      "outputs": []
    },
    {
      "cell_type": "code",
      "source": [
        "df12.columns =['FINESS',\n",
        "       'Nom de lEtablissement de Santé',\n",
        "       'Porteur de Projet/nNOM',\n",
        "       'Porteur de Projet/nPRENOM',\n",
        "       'Titre du projet', 'N° du projet', 'Acronyme',\n",
        "       'Montant maximal','année']"
      ],
      "metadata": {
        "id": "43SeIWIePAv7"
      },
      "execution_count": 298,
      "outputs": []
    },
    {
      "cell_type": "code",
      "source": [
        "df12=df12[['FINESS',\n",
        "       'Nom de lEtablissement de Santé',\n",
        "       'Porteur de Projet/nNOM',\n",
        "       'Porteur de Projet/nPRENOM',\n",
        "       'Titre du projet', 'N° du projet', 'Acronyme',\n",
        "       'Montant maximal','année']]"
      ],
      "metadata": {
        "id": "C7h6CqmbDB1U"
      },
      "execution_count": 299,
      "outputs": []
    },
    {
      "cell_type": "code",
      "source": [
        "df13= pd.read_excel(\"/content/resultats_preps_2019_mel_v0-2_20200102.xlsx\")"
      ],
      "metadata": {
        "id": "yqZMuD0vv-fq"
      },
      "execution_count": 300,
      "outputs": []
    },
    {
      "cell_type": "code",
      "source": [
        "df13=df13.assign(année= 2019)"
      ],
      "metadata": {
        "id": "Fe9VBbNWDHOl"
      },
      "execution_count": 301,
      "outputs": []
    },
    {
      "cell_type": "code",
      "source": [
        "df13.columns=['FINESS',\n",
        "       'Nom de lEtablissement de Santé',\n",
        "       'Porteur de Projet/nNOM',\n",
        "       'Porteur de Projet/nPRENOM',\n",
        "       'Titre du projet', 'N° du projet', 'Acronyme',\n",
        "       'Montant maximal','année']"
      ],
      "metadata": {
        "id": "FH196VDhDL72"
      },
      "execution_count": 302,
      "outputs": []
    },
    {
      "cell_type": "code",
      "source": [
        "df13=df13[['FINESS',\n",
        "       'Nom de lEtablissement de Santé',\n",
        "       'Porteur de Projet/nNOM',\n",
        "       'Porteur de Projet/nPRENOM',\n",
        "       'Titre du projet', 'N° du projet', 'Acronyme',\n",
        "       'Montant maximal','année']]"
      ],
      "metadata": {
        "id": "EErr1wL9QFWb"
      },
      "execution_count": 303,
      "outputs": []
    },
    {
      "cell_type": "code",
      "source": [
        "df1.columns = df2.columns = df3.columns = df4.columns = df5.columns = df6.columns = df7.columns = df9.columns = df10.columns = df11.columns = df12.columns = df13.columns"
      ],
      "metadata": {
        "id": "CDfGfhOOwRHf"
      },
      "execution_count": 327,
      "outputs": []
    },
    {
      "cell_type": "code",
      "source": [
        "DFF= pd.concat([df1,df2, df3,df4,df5,df6,df7,df9,df10,df11,df12,df13])"
      ],
      "metadata": {
        "id": "WLp9YCuJwTyx"
      },
      "execution_count": 328,
      "outputs": []
    },
    {
      "cell_type": "code",
      "source": [
        "DFF"
      ],
      "metadata": {
        "colab": {
          "base_uri": "https://localhost:8080/",
          "height": 797
        },
        "id": "v7FT96_BwWPx",
        "outputId": "7cb972e4-ff64-43b9-a643-0e0b89a34ca1"
      },
      "execution_count": 329,
      "outputs": [
        {
          "output_type": "execute_result",
          "data": {
            "text/plain": [
              "         FINESS Nom de lEtablissement de Santé Porteur de Projet/nNOM  \\\n",
              "0     380780080                   CHU GRENOBLE             ALBALADEJO   \n",
              "1     380780080                   CHU GRENOBLE                ALLENET   \n",
              "2     750712184      ASSISTANCE PUBLIQUE AP-HP              ASTAGNEAU   \n",
              "3     800000044                     CHU AMIENS                BARBARE   \n",
              "4     750712184      ASSISTANCE PUBLIQUE AP-HP                BOUTRON   \n",
              "..          ...                            ...                    ...   \n",
              "25     SAILLOUR                       Florence          PREPS-19-0087   \n",
              "26        SALVO                      Francesco          PREPS-19-0170   \n",
              "27  SOTO MARTIN                          Maria          PREPS-19-0027   \n",
              "28       TOUZET                       Sandrine          PREPS-19-0004   \n",
              "29       VALERA                         Sabine          PREPS-19-0084   \n",
              "\n",
              "   Porteur de Projet/nPRENOM  \\\n",
              "0                     Pierre   \n",
              "1                     Benoit   \n",
              "2                     Pascal   \n",
              "3                Jean-Claude   \n",
              "4                   Isabelle   \n",
              "..                       ...   \n",
              "25                 330781196   \n",
              "26                 330781196   \n",
              "27                 310781406   \n",
              "28                 690781810   \n",
              "29                 130786049   \n",
              "\n",
              "                                      Titre du projet    N° du projet  \\\n",
              "0   Impact d'un programme pédagogique sur la cultu...     12-026-0101   \n",
              "1   Evaluation de l’apport du Dossier Pharmaceutiq...     12-026-0056   \n",
              "2   Evaluation des pratiques et analyse des risque...     12-002-0037   \n",
              "3   Essai randomisé évaluant l'intervention du Can...     12-022-0048   \n",
              "4   Comparaison de l’effet traitement entre sujets...  12-002-0014 \\n   \n",
              "..                                                ...             ...   \n",
              "25                           CHU HOPITAUX DE BORDEAUX     sPREAdPerti   \n",
              "26                           CHU HOPITAUX DE BORDEAUX          PRoSIT   \n",
              "27                                       CHU TOULOUSE       PERSON-AL   \n",
              "28                            HOSPICES CIVILS DE LYON           D-CUB   \n",
              "29                            APHM DIRECTION GENERALE          FOURMY   \n",
              "\n",
              "                                             Acronyme  Montant maximal  année  \n",
              "0                                             PROPECS         222970.0   2012  \n",
              "1                                           DP-CONCIL         198880.0   2012  \n",
              "2                                            CATHEVAL         146960.0   2012  \n",
              "3                                                ERNU         555720.0   2012  \n",
              "4                                        COMA-study\\n          48675.0   2012  \n",
              "..                                                ...              ...    ...  \n",
              "25  Évaluation d’un PRogrammE de mobilisation et d...         312975.0   2019  \n",
              "26  Développement, validation et impact de l’ident...         630953.0   2019  \n",
              "27  PERSONnalisation de la prise en charge des sym...         782250.0   2019  \n",
              "28  Réduction de la consommation inappropriée des ...         598895.0   2019  \n",
              "29  FOrmation des infirmiers des Unités de Réanima...         630121.0   2019  \n",
              "\n",
              "[263 rows x 9 columns]"
            ],
            "text/html": [
              "\n",
              "  <div id=\"df-76eeed7d-bb3e-424b-a774-1849515f673e\">\n",
              "    <div class=\"colab-df-container\">\n",
              "      <div>\n",
              "<style scoped>\n",
              "    .dataframe tbody tr th:only-of-type {\n",
              "        vertical-align: middle;\n",
              "    }\n",
              "\n",
              "    .dataframe tbody tr th {\n",
              "        vertical-align: top;\n",
              "    }\n",
              "\n",
              "    .dataframe thead th {\n",
              "        text-align: right;\n",
              "    }\n",
              "</style>\n",
              "<table border=\"1\" class=\"dataframe\">\n",
              "  <thead>\n",
              "    <tr style=\"text-align: right;\">\n",
              "      <th></th>\n",
              "      <th>FINESS</th>\n",
              "      <th>Nom de lEtablissement de Santé</th>\n",
              "      <th>Porteur de Projet/nNOM</th>\n",
              "      <th>Porteur de Projet/nPRENOM</th>\n",
              "      <th>Titre du projet</th>\n",
              "      <th>N° du projet</th>\n",
              "      <th>Acronyme</th>\n",
              "      <th>Montant maximal</th>\n",
              "      <th>année</th>\n",
              "    </tr>\n",
              "  </thead>\n",
              "  <tbody>\n",
              "    <tr>\n",
              "      <th>0</th>\n",
              "      <td>380780080</td>\n",
              "      <td>CHU GRENOBLE</td>\n",
              "      <td>ALBALADEJO</td>\n",
              "      <td>Pierre</td>\n",
              "      <td>Impact d'un programme pédagogique sur la cultu...</td>\n",
              "      <td>12-026-0101</td>\n",
              "      <td>PROPECS</td>\n",
              "      <td>222970.0</td>\n",
              "      <td>2012</td>\n",
              "    </tr>\n",
              "    <tr>\n",
              "      <th>1</th>\n",
              "      <td>380780080</td>\n",
              "      <td>CHU GRENOBLE</td>\n",
              "      <td>ALLENET</td>\n",
              "      <td>Benoit</td>\n",
              "      <td>Evaluation de l’apport du Dossier Pharmaceutiq...</td>\n",
              "      <td>12-026-0056</td>\n",
              "      <td>DP-CONCIL</td>\n",
              "      <td>198880.0</td>\n",
              "      <td>2012</td>\n",
              "    </tr>\n",
              "    <tr>\n",
              "      <th>2</th>\n",
              "      <td>750712184</td>\n",
              "      <td>ASSISTANCE PUBLIQUE AP-HP</td>\n",
              "      <td>ASTAGNEAU</td>\n",
              "      <td>Pascal</td>\n",
              "      <td>Evaluation des pratiques et analyse des risque...</td>\n",
              "      <td>12-002-0037</td>\n",
              "      <td>CATHEVAL</td>\n",
              "      <td>146960.0</td>\n",
              "      <td>2012</td>\n",
              "    </tr>\n",
              "    <tr>\n",
              "      <th>3</th>\n",
              "      <td>800000044</td>\n",
              "      <td>CHU AMIENS</td>\n",
              "      <td>BARBARE</td>\n",
              "      <td>Jean-Claude</td>\n",
              "      <td>Essai randomisé évaluant l'intervention du Can...</td>\n",
              "      <td>12-022-0048</td>\n",
              "      <td>ERNU</td>\n",
              "      <td>555720.0</td>\n",
              "      <td>2012</td>\n",
              "    </tr>\n",
              "    <tr>\n",
              "      <th>4</th>\n",
              "      <td>750712184</td>\n",
              "      <td>ASSISTANCE PUBLIQUE AP-HP</td>\n",
              "      <td>BOUTRON</td>\n",
              "      <td>Isabelle</td>\n",
              "      <td>Comparaison de l’effet traitement entre sujets...</td>\n",
              "      <td>12-002-0014 \\n</td>\n",
              "      <td>COMA-study\\n</td>\n",
              "      <td>48675.0</td>\n",
              "      <td>2012</td>\n",
              "    </tr>\n",
              "    <tr>\n",
              "      <th>...</th>\n",
              "      <td>...</td>\n",
              "      <td>...</td>\n",
              "      <td>...</td>\n",
              "      <td>...</td>\n",
              "      <td>...</td>\n",
              "      <td>...</td>\n",
              "      <td>...</td>\n",
              "      <td>...</td>\n",
              "      <td>...</td>\n",
              "    </tr>\n",
              "    <tr>\n",
              "      <th>25</th>\n",
              "      <td>SAILLOUR</td>\n",
              "      <td>Florence</td>\n",
              "      <td>PREPS-19-0087</td>\n",
              "      <td>330781196</td>\n",
              "      <td>CHU HOPITAUX DE BORDEAUX</td>\n",
              "      <td>sPREAdPerti</td>\n",
              "      <td>Évaluation d’un PRogrammE de mobilisation et d...</td>\n",
              "      <td>312975.0</td>\n",
              "      <td>2019</td>\n",
              "    </tr>\n",
              "    <tr>\n",
              "      <th>26</th>\n",
              "      <td>SALVO</td>\n",
              "      <td>Francesco</td>\n",
              "      <td>PREPS-19-0170</td>\n",
              "      <td>330781196</td>\n",
              "      <td>CHU HOPITAUX DE BORDEAUX</td>\n",
              "      <td>PRoSIT</td>\n",
              "      <td>Développement, validation et impact de l’ident...</td>\n",
              "      <td>630953.0</td>\n",
              "      <td>2019</td>\n",
              "    </tr>\n",
              "    <tr>\n",
              "      <th>27</th>\n",
              "      <td>SOTO MARTIN</td>\n",
              "      <td>Maria</td>\n",
              "      <td>PREPS-19-0027</td>\n",
              "      <td>310781406</td>\n",
              "      <td>CHU TOULOUSE</td>\n",
              "      <td>PERSON-AL</td>\n",
              "      <td>PERSONnalisation de la prise en charge des sym...</td>\n",
              "      <td>782250.0</td>\n",
              "      <td>2019</td>\n",
              "    </tr>\n",
              "    <tr>\n",
              "      <th>28</th>\n",
              "      <td>TOUZET</td>\n",
              "      <td>Sandrine</td>\n",
              "      <td>PREPS-19-0004</td>\n",
              "      <td>690781810</td>\n",
              "      <td>HOSPICES CIVILS DE LYON</td>\n",
              "      <td>D-CUB</td>\n",
              "      <td>Réduction de la consommation inappropriée des ...</td>\n",
              "      <td>598895.0</td>\n",
              "      <td>2019</td>\n",
              "    </tr>\n",
              "    <tr>\n",
              "      <th>29</th>\n",
              "      <td>VALERA</td>\n",
              "      <td>Sabine</td>\n",
              "      <td>PREPS-19-0084</td>\n",
              "      <td>130786049</td>\n",
              "      <td>APHM DIRECTION GENERALE</td>\n",
              "      <td>FOURMY</td>\n",
              "      <td>FOrmation des infirmiers des Unités de Réanima...</td>\n",
              "      <td>630121.0</td>\n",
              "      <td>2019</td>\n",
              "    </tr>\n",
              "  </tbody>\n",
              "</table>\n",
              "<p>263 rows × 9 columns</p>\n",
              "</div>\n",
              "      <button class=\"colab-df-convert\" onclick=\"convertToInteractive('df-76eeed7d-bb3e-424b-a774-1849515f673e')\"\n",
              "              title=\"Convert this dataframe to an interactive table.\"\n",
              "              style=\"display:none;\">\n",
              "        \n",
              "  <svg xmlns=\"http://www.w3.org/2000/svg\" height=\"24px\"viewBox=\"0 0 24 24\"\n",
              "       width=\"24px\">\n",
              "    <path d=\"M0 0h24v24H0V0z\" fill=\"none\"/>\n",
              "    <path d=\"M18.56 5.44l.94 2.06.94-2.06 2.06-.94-2.06-.94-.94-2.06-.94 2.06-2.06.94zm-11 1L8.5 8.5l.94-2.06 2.06-.94-2.06-.94L8.5 2.5l-.94 2.06-2.06.94zm10 10l.94 2.06.94-2.06 2.06-.94-2.06-.94-.94-2.06-.94 2.06-2.06.94z\"/><path d=\"M17.41 7.96l-1.37-1.37c-.4-.4-.92-.59-1.43-.59-.52 0-1.04.2-1.43.59L10.3 9.45l-7.72 7.72c-.78.78-.78 2.05 0 2.83L4 21.41c.39.39.9.59 1.41.59.51 0 1.02-.2 1.41-.59l7.78-7.78 2.81-2.81c.8-.78.8-2.07 0-2.86zM5.41 20L4 18.59l7.72-7.72 1.47 1.35L5.41 20z\"/>\n",
              "  </svg>\n",
              "      </button>\n",
              "      \n",
              "  <style>\n",
              "    .colab-df-container {\n",
              "      display:flex;\n",
              "      flex-wrap:wrap;\n",
              "      gap: 12px;\n",
              "    }\n",
              "\n",
              "    .colab-df-convert {\n",
              "      background-color: #E8F0FE;\n",
              "      border: none;\n",
              "      border-radius: 50%;\n",
              "      cursor: pointer;\n",
              "      display: none;\n",
              "      fill: #1967D2;\n",
              "      height: 32px;\n",
              "      padding: 0 0 0 0;\n",
              "      width: 32px;\n",
              "    }\n",
              "\n",
              "    .colab-df-convert:hover {\n",
              "      background-color: #E2EBFA;\n",
              "      box-shadow: 0px 1px 2px rgba(60, 64, 67, 0.3), 0px 1px 3px 1px rgba(60, 64, 67, 0.15);\n",
              "      fill: #174EA6;\n",
              "    }\n",
              "\n",
              "    [theme=dark] .colab-df-convert {\n",
              "      background-color: #3B4455;\n",
              "      fill: #D2E3FC;\n",
              "    }\n",
              "\n",
              "    [theme=dark] .colab-df-convert:hover {\n",
              "      background-color: #434B5C;\n",
              "      box-shadow: 0px 1px 3px 1px rgba(0, 0, 0, 0.15);\n",
              "      filter: drop-shadow(0px 1px 2px rgba(0, 0, 0, 0.3));\n",
              "      fill: #FFFFFF;\n",
              "    }\n",
              "  </style>\n",
              "\n",
              "      <script>\n",
              "        const buttonEl =\n",
              "          document.querySelector('#df-76eeed7d-bb3e-424b-a774-1849515f673e button.colab-df-convert');\n",
              "        buttonEl.style.display =\n",
              "          google.colab.kernel.accessAllowed ? 'block' : 'none';\n",
              "\n",
              "        async function convertToInteractive(key) {\n",
              "          const element = document.querySelector('#df-76eeed7d-bb3e-424b-a774-1849515f673e');\n",
              "          const dataTable =\n",
              "            await google.colab.kernel.invokeFunction('convertToInteractive',\n",
              "                                                     [key], {});\n",
              "          if (!dataTable) return;\n",
              "\n",
              "          const docLinkHtml = 'Like what you see? Visit the ' +\n",
              "            '<a target=\"_blank\" href=https://colab.research.google.com/notebooks/data_table.ipynb>data table notebook</a>'\n",
              "            + ' to learn more about interactive tables.';\n",
              "          element.innerHTML = '';\n",
              "          dataTable['output_type'] = 'display_data';\n",
              "          await google.colab.output.renderOutput(dataTable, element);\n",
              "          const docLink = document.createElement('div');\n",
              "          docLink.innerHTML = docLinkHtml;\n",
              "          element.appendChild(docLink);\n",
              "        }\n",
              "      </script>\n",
              "    </div>\n",
              "  </div>\n",
              "  "
            ]
          },
          "metadata": {},
          "execution_count": 329
        }
      ]
    },
    {
      "cell_type": "code",
      "source": [],
      "metadata": {
        "id": "33SFoycAStpH"
      },
      "execution_count": null,
      "outputs": []
    },
    {
      "cell_type": "code",
      "source": [
        "df7"
      ],
      "metadata": {
        "colab": {
          "base_uri": "https://localhost:8080/",
          "height": 1000
        },
        "id": "sz9LMdj-St2Y",
        "outputId": "afd9f4eb-b307-4345-e3b7-15837ccd6ac1"
      },
      "execution_count": 324,
      "outputs": [
        {
          "output_type": "execute_result",
          "data": {
            "text/plain": [
              "       FINESS                Nom de Etablissement de Santé  \\\n",
              "0   940000664                 CLCC INSTITUT GUSTAVE ROUSSY   \n",
              "1   380780080                                 CHU GRENOBLE   \n",
              "2   130786049                                         APHM   \n",
              "3   760780239                                    CHU ROUEN   \n",
              "4   130786049                                         APHM   \n",
              "5   130786049                                         APHM   \n",
              "6   750712184                    ASSISTANCE PUBLIQUE AP-HP   \n",
              "7   380780080                                 CHU GRENOBLE   \n",
              "8   940110018  CENTRE HOSPITALIER INTERCOMMUNAL DE CRETEIL   \n",
              "9   690780101                               CH LE VINATIER   \n",
              "10  750712184                    ASSISTANCE PUBLIQUE AP-HP   \n",
              "11  750712184                    ASSISTANCE PUBLIQUE AP-HP   \n",
              "12  750000523        GROUPE HOSPITALIER PARIS SAINT-JOSEPH   \n",
              "13  750150252               CLINIQUE MEDICALE EDOUARD RIST   \n",
              "14  440000289                                CHU DE NANTES   \n",
              "15  420784878                            CHU SAINT-ETIENNE   \n",
              "16  540000056                CENTRE PSYCHOTHERAPIQUE NANCY   \n",
              "17  440000289                                CHU DE NANTES   \n",
              "18  690781810                      HOSPICES CIVILS DE LYON   \n",
              "19  930812946         CDS MEDICO DENTAIRE SALVADOR ALLENDE   \n",
              "20  750712184                    ASSISTANCE PUBLIQUE AP-HP   \n",
              "21  430000018       CENTRE HOSPITALIER LE PUY - EMILE ROUX   \n",
              "22  130786049                                         APHM   \n",
              "23  440000289                                CHU DE NANTES   \n",
              "24  690781810                      HOSPICES CIVILS DE LYON   \n",
              "25  750712184                    ASSISTANCE PUBLIQUE AP-HP   \n",
              "26  330781196                     CHU HOPITAUX DE BORDEAUX   \n",
              "27  690781810                      HOSPICES CIVILS DE LYON   \n",
              "28  760780239                                    CHU ROUEN   \n",
              "29  420784878                            CHU SAINT-ETIENNE   \n",
              "30  130786049                                         APHM   \n",
              "31  750712184                    ASSISTANCE PUBLIQUE AP-HP   \n",
              "\n",
              "   Porteur de Projet/nNOM Porteur de Projet/nPRENOM  \\\n",
              "0                   BAYLE                    Arnaud   \n",
              "1                 BOUSSAT                   Bastien   \n",
              "2                   BOYER                   Laurent   \n",
              "3              CHENAILLER                 Catherine   \n",
              "4                 COUDERC                Anne-Laure   \n",
              "5              DA FONSECA                     David   \n",
              "6                  DARMON                   Michael   \n",
              "7                  DEBATY                 Guillaume   \n",
              "8                  DELMAS                 Catherine   \n",
              "9                DUBREUCQ                    Julien   \n",
              "10                   EDEL                      Yves   \n",
              "11               FLETCHER                 Dominique   \n",
              "12               GOUËFFIC                      Yann   \n",
              "13                   HUAS                  Caroline   \n",
              "14                   HUON             Jean-François   \n",
              "15                  HUPIN                     David   \n",
              "16                 LIGIER                  Fabienne   \n",
              "17         MARTIN-LEFEVRE                   Laurent   \n",
              "18                 MICHEL                  Philippe   \n",
              "19                MOSCOVA                     Laura   \n",
              "20                  PATRY                    Claire   \n",
              "21                  PEREZ                 Christèle   \n",
              "22                 PERRIN                    Jeanne   \n",
              "23                    RAT                    Cédric   \n",
              "24                REYNAUD                 Quitterie   \n",
              "25                  ROTGE                 Jean-Yves   \n",
              "26           SCHAEVERBEKE                   Thierry   \n",
              "27            SCHOTT PUPH                Anne-Marie   \n",
              "28                 TAALBA                     Mehdi   \n",
              "29                 THIERY                 Guillaume   \n",
              "30                TOSELLO                Barthélémy   \n",
              "31                 VULSER                    Hélène   \n",
              "\n",
              "                                      Titre du projet   N° du projet  \\\n",
              "0   Étude randomisée évaluant l’impact d’un parcou...  PREPS-20-0290   \n",
              "1   Feedback d’indicateur automatisé pour l’amélio...  PREPS-20-0195   \n",
              "2   Impact d’un feedback PREMs/PROMs sur la prise ...  PREPS-20-0193   \n",
              "3   Impact d’un Plan Pharmaceutique Personnalisé s...  PREPS-20-0255   \n",
              "4   Déploiement d’une Télé-consultation en Oncogér...  PREPS-20-0182   \n",
              "5   Programme d'Accès aux Soins Somatiques pour le...  PREPS-20-0172   \n",
              "6   Intérêt d’un suivi néphrologique précoce et pr...  PREPS-20-0299   \n",
              "7   Efficacité d’un programme de formation à la co...  PREPS-20-0307   \n",
              "8   Essai pragmatique randomisé en stepped-wedge d...  PREPS-20-0186   \n",
              "9   Implémentation d’un programme de formation à l...  PREPS-20-0220   \n",
              "10  Interventions précoces en addictologie dans le...  PREPS-20-0314   \n",
              "11  Morbi-mortalité en chirurgie et transmission s...  PREPS-20-0286   \n",
              "12  Chirurgie ambulatoire chez les patients isolés...  PREPS-20-0205   \n",
              "13  MG-INTEGR-ADO  Efficacité de la promotion du r...  PREPS-20-0198   \n",
              "14  Efficacité d’une intervention conjointe médeci...  PREPS-20-0327   \n",
              "15  Impact d’une intervention d’activité physique ...  PREPS-20-0296   \n",
              "16  EMPER : création et évaluation d’une équipe mo...  PREPS-20-0185   \n",
              "17  Approche collaborative pour la recherche d’opp...  PREPS-20-0174   \n",
              "18  Expérimentations de co-construction de Parcour...  PREPS-20-0336   \n",
              "19  Processus d’émergence et de structuration des ...  PREPS-20-0287   \n",
              "20  Limitation des réadmissions des personnes Agée...  PREPS-20-0241   \n",
              "21  Optimisation du parcours de soins des patients...  PREPS-20-0256   \n",
              "22  Amélioration du taux de naissance cumulé en Fé...  PREPS-20-0269   \n",
              "23  ExerciceS COordonnés en soins PrimairEs : une ...  PREPS-20-0325   \n",
              "24  Le parrainage d’adolescents atteints de mucovi...  PREPS-20-0310   \n",
              "25  Essai multicentrique randomisé évaluant l’effi...  PREPS-20-0250   \n",
              "26  Impact clinique et médico-économique du dispos...  PREPS-20-0266   \n",
              "27  Accompagnement des Pratiques de Prévention Nut...  PREPS-20-0338   \n",
              "28  Pertinence de la PREscription du Scanner Corps...  PREPS-20-0194   \n",
              "29  Impact d’un protocole de gestion des alarmes s...  PREPS-20-0332   \n",
              "30  PArents REssources en Néonatalogie : pratiques...  PREPS-20-0200   \n",
              "31  Etude de validation des performances de la ver...  PREPS-20-0320   \n",
              "\n",
              "         Acronyme  Montant maximal  année  \n",
              "0             POG           694706   2020  \n",
              "1          FIAQLS           198739   2020  \n",
              "2        Feedback           758152   2020  \n",
              "3         PPPCARE           230979   2020  \n",
              "4      TeleOncoGe           478768   2020  \n",
              "5    PASS'Autisme           596174   2020  \n",
              "6     aLTERNATIve           609852   2020  \n",
              "7         COM-ARM           537021   2020  \n",
              "8       PRECO-TSA           835810   2020  \n",
              "9        RETAFORM           497125   2020  \n",
              "10          IPAIS           837528   2020  \n",
              "11         HIATUS           444959   2020  \n",
              "12        ABALONE          1194960   2020  \n",
              "13  MG-Integr-ADO           121851   2020  \n",
              "14     BESTOPH-MG           567711   2020  \n",
              "15    ACTI-PAIR 2           706791   2020  \n",
              "16          EMPER           394186   2020  \n",
              "17         PRODON           458678   2020  \n",
              "18           EPOC           485213   2020  \n",
              "19      CaPiTaleS           172120   2020  \n",
              "20        LASUITE           842563   2020  \n",
              "21      DOLOREPIT           425561   2020  \n",
              "22   PREVENIR-FIV          1958503   2020  \n",
              "23          SCOPE           240107   2020  \n",
              "24         MUKADO           149056   2020  \n",
              "25        TELEDEP           992286   2020  \n",
              "26     ANTICIPATE           507457   2020  \n",
              "27      APPreNDre           399330   2020  \n",
              "28      PRE-SCEAU           478406   2020  \n",
              "29        REALARM           199347   2020  \n",
              "30          PAREN           392249   2020  \n",
              "31    Auti-screen           444491   2020  "
            ],
            "text/html": [
              "\n",
              "  <div id=\"df-bfb3db50-948b-4f53-ab09-823285824f5f\">\n",
              "    <div class=\"colab-df-container\">\n",
              "      <div>\n",
              "<style scoped>\n",
              "    .dataframe tbody tr th:only-of-type {\n",
              "        vertical-align: middle;\n",
              "    }\n",
              "\n",
              "    .dataframe tbody tr th {\n",
              "        vertical-align: top;\n",
              "    }\n",
              "\n",
              "    .dataframe thead th {\n",
              "        text-align: right;\n",
              "    }\n",
              "</style>\n",
              "<table border=\"1\" class=\"dataframe\">\n",
              "  <thead>\n",
              "    <tr style=\"text-align: right;\">\n",
              "      <th></th>\n",
              "      <th>FINESS</th>\n",
              "      <th>Nom de Etablissement de Santé</th>\n",
              "      <th>Porteur de Projet/nNOM</th>\n",
              "      <th>Porteur de Projet/nPRENOM</th>\n",
              "      <th>Titre du projet</th>\n",
              "      <th>N° du projet</th>\n",
              "      <th>Acronyme</th>\n",
              "      <th>Montant maximal</th>\n",
              "      <th>année</th>\n",
              "    </tr>\n",
              "  </thead>\n",
              "  <tbody>\n",
              "    <tr>\n",
              "      <th>0</th>\n",
              "      <td>940000664</td>\n",
              "      <td>CLCC INSTITUT GUSTAVE ROUSSY</td>\n",
              "      <td>BAYLE</td>\n",
              "      <td>Arnaud</td>\n",
              "      <td>Étude randomisée évaluant l’impact d’un parcou...</td>\n",
              "      <td>PREPS-20-0290</td>\n",
              "      <td>POG</td>\n",
              "      <td>694706</td>\n",
              "      <td>2020</td>\n",
              "    </tr>\n",
              "    <tr>\n",
              "      <th>1</th>\n",
              "      <td>380780080</td>\n",
              "      <td>CHU GRENOBLE</td>\n",
              "      <td>BOUSSAT</td>\n",
              "      <td>Bastien</td>\n",
              "      <td>Feedback d’indicateur automatisé pour l’amélio...</td>\n",
              "      <td>PREPS-20-0195</td>\n",
              "      <td>FIAQLS</td>\n",
              "      <td>198739</td>\n",
              "      <td>2020</td>\n",
              "    </tr>\n",
              "    <tr>\n",
              "      <th>2</th>\n",
              "      <td>130786049</td>\n",
              "      <td>APHM</td>\n",
              "      <td>BOYER</td>\n",
              "      <td>Laurent</td>\n",
              "      <td>Impact d’un feedback PREMs/PROMs sur la prise ...</td>\n",
              "      <td>PREPS-20-0193</td>\n",
              "      <td>Feedback</td>\n",
              "      <td>758152</td>\n",
              "      <td>2020</td>\n",
              "    </tr>\n",
              "    <tr>\n",
              "      <th>3</th>\n",
              "      <td>760780239</td>\n",
              "      <td>CHU ROUEN</td>\n",
              "      <td>CHENAILLER</td>\n",
              "      <td>Catherine</td>\n",
              "      <td>Impact d’un Plan Pharmaceutique Personnalisé s...</td>\n",
              "      <td>PREPS-20-0255</td>\n",
              "      <td>PPPCARE</td>\n",
              "      <td>230979</td>\n",
              "      <td>2020</td>\n",
              "    </tr>\n",
              "    <tr>\n",
              "      <th>4</th>\n",
              "      <td>130786049</td>\n",
              "      <td>APHM</td>\n",
              "      <td>COUDERC</td>\n",
              "      <td>Anne-Laure</td>\n",
              "      <td>Déploiement d’une Télé-consultation en Oncogér...</td>\n",
              "      <td>PREPS-20-0182</td>\n",
              "      <td>TeleOncoGe</td>\n",
              "      <td>478768</td>\n",
              "      <td>2020</td>\n",
              "    </tr>\n",
              "    <tr>\n",
              "      <th>5</th>\n",
              "      <td>130786049</td>\n",
              "      <td>APHM</td>\n",
              "      <td>DA FONSECA</td>\n",
              "      <td>David</td>\n",
              "      <td>Programme d'Accès aux Soins Somatiques pour le...</td>\n",
              "      <td>PREPS-20-0172</td>\n",
              "      <td>PASS'Autisme</td>\n",
              "      <td>596174</td>\n",
              "      <td>2020</td>\n",
              "    </tr>\n",
              "    <tr>\n",
              "      <th>6</th>\n",
              "      <td>750712184</td>\n",
              "      <td>ASSISTANCE PUBLIQUE AP-HP</td>\n",
              "      <td>DARMON</td>\n",
              "      <td>Michael</td>\n",
              "      <td>Intérêt d’un suivi néphrologique précoce et pr...</td>\n",
              "      <td>PREPS-20-0299</td>\n",
              "      <td>aLTERNATIve</td>\n",
              "      <td>609852</td>\n",
              "      <td>2020</td>\n",
              "    </tr>\n",
              "    <tr>\n",
              "      <th>7</th>\n",
              "      <td>380780080</td>\n",
              "      <td>CHU GRENOBLE</td>\n",
              "      <td>DEBATY</td>\n",
              "      <td>Guillaume</td>\n",
              "      <td>Efficacité d’un programme de formation à la co...</td>\n",
              "      <td>PREPS-20-0307</td>\n",
              "      <td>COM-ARM</td>\n",
              "      <td>537021</td>\n",
              "      <td>2020</td>\n",
              "    </tr>\n",
              "    <tr>\n",
              "      <th>8</th>\n",
              "      <td>940110018</td>\n",
              "      <td>CENTRE HOSPITALIER INTERCOMMUNAL DE CRETEIL</td>\n",
              "      <td>DELMAS</td>\n",
              "      <td>Catherine</td>\n",
              "      <td>Essai pragmatique randomisé en stepped-wedge d...</td>\n",
              "      <td>PREPS-20-0186</td>\n",
              "      <td>PRECO-TSA</td>\n",
              "      <td>835810</td>\n",
              "      <td>2020</td>\n",
              "    </tr>\n",
              "    <tr>\n",
              "      <th>9</th>\n",
              "      <td>690780101</td>\n",
              "      <td>CH LE VINATIER</td>\n",
              "      <td>DUBREUCQ</td>\n",
              "      <td>Julien</td>\n",
              "      <td>Implémentation d’un programme de formation à l...</td>\n",
              "      <td>PREPS-20-0220</td>\n",
              "      <td>RETAFORM</td>\n",
              "      <td>497125</td>\n",
              "      <td>2020</td>\n",
              "    </tr>\n",
              "    <tr>\n",
              "      <th>10</th>\n",
              "      <td>750712184</td>\n",
              "      <td>ASSISTANCE PUBLIQUE AP-HP</td>\n",
              "      <td>EDEL</td>\n",
              "      <td>Yves</td>\n",
              "      <td>Interventions précoces en addictologie dans le...</td>\n",
              "      <td>PREPS-20-0314</td>\n",
              "      <td>IPAIS</td>\n",
              "      <td>837528</td>\n",
              "      <td>2020</td>\n",
              "    </tr>\n",
              "    <tr>\n",
              "      <th>11</th>\n",
              "      <td>750712184</td>\n",
              "      <td>ASSISTANCE PUBLIQUE AP-HP</td>\n",
              "      <td>FLETCHER</td>\n",
              "      <td>Dominique</td>\n",
              "      <td>Morbi-mortalité en chirurgie et transmission s...</td>\n",
              "      <td>PREPS-20-0286</td>\n",
              "      <td>HIATUS</td>\n",
              "      <td>444959</td>\n",
              "      <td>2020</td>\n",
              "    </tr>\n",
              "    <tr>\n",
              "      <th>12</th>\n",
              "      <td>750000523</td>\n",
              "      <td>GROUPE HOSPITALIER PARIS SAINT-JOSEPH</td>\n",
              "      <td>GOUËFFIC</td>\n",
              "      <td>Yann</td>\n",
              "      <td>Chirurgie ambulatoire chez les patients isolés...</td>\n",
              "      <td>PREPS-20-0205</td>\n",
              "      <td>ABALONE</td>\n",
              "      <td>1194960</td>\n",
              "      <td>2020</td>\n",
              "    </tr>\n",
              "    <tr>\n",
              "      <th>13</th>\n",
              "      <td>750150252</td>\n",
              "      <td>CLINIQUE MEDICALE EDOUARD RIST</td>\n",
              "      <td>HUAS</td>\n",
              "      <td>Caroline</td>\n",
              "      <td>MG-INTEGR-ADO  Efficacité de la promotion du r...</td>\n",
              "      <td>PREPS-20-0198</td>\n",
              "      <td>MG-Integr-ADO</td>\n",
              "      <td>121851</td>\n",
              "      <td>2020</td>\n",
              "    </tr>\n",
              "    <tr>\n",
              "      <th>14</th>\n",
              "      <td>440000289</td>\n",
              "      <td>CHU DE NANTES</td>\n",
              "      <td>HUON</td>\n",
              "      <td>Jean-François</td>\n",
              "      <td>Efficacité d’une intervention conjointe médeci...</td>\n",
              "      <td>PREPS-20-0327</td>\n",
              "      <td>BESTOPH-MG</td>\n",
              "      <td>567711</td>\n",
              "      <td>2020</td>\n",
              "    </tr>\n",
              "    <tr>\n",
              "      <th>15</th>\n",
              "      <td>420784878</td>\n",
              "      <td>CHU SAINT-ETIENNE</td>\n",
              "      <td>HUPIN</td>\n",
              "      <td>David</td>\n",
              "      <td>Impact d’une intervention d’activité physique ...</td>\n",
              "      <td>PREPS-20-0296</td>\n",
              "      <td>ACTI-PAIR 2</td>\n",
              "      <td>706791</td>\n",
              "      <td>2020</td>\n",
              "    </tr>\n",
              "    <tr>\n",
              "      <th>16</th>\n",
              "      <td>540000056</td>\n",
              "      <td>CENTRE PSYCHOTHERAPIQUE NANCY</td>\n",
              "      <td>LIGIER</td>\n",
              "      <td>Fabienne</td>\n",
              "      <td>EMPER : création et évaluation d’une équipe mo...</td>\n",
              "      <td>PREPS-20-0185</td>\n",
              "      <td>EMPER</td>\n",
              "      <td>394186</td>\n",
              "      <td>2020</td>\n",
              "    </tr>\n",
              "    <tr>\n",
              "      <th>17</th>\n",
              "      <td>440000289</td>\n",
              "      <td>CHU DE NANTES</td>\n",
              "      <td>MARTIN-LEFEVRE</td>\n",
              "      <td>Laurent</td>\n",
              "      <td>Approche collaborative pour la recherche d’opp...</td>\n",
              "      <td>PREPS-20-0174</td>\n",
              "      <td>PRODON</td>\n",
              "      <td>458678</td>\n",
              "      <td>2020</td>\n",
              "    </tr>\n",
              "    <tr>\n",
              "      <th>18</th>\n",
              "      <td>690781810</td>\n",
              "      <td>HOSPICES CIVILS DE LYON</td>\n",
              "      <td>MICHEL</td>\n",
              "      <td>Philippe</td>\n",
              "      <td>Expérimentations de co-construction de Parcour...</td>\n",
              "      <td>PREPS-20-0336</td>\n",
              "      <td>EPOC</td>\n",
              "      <td>485213</td>\n",
              "      <td>2020</td>\n",
              "    </tr>\n",
              "    <tr>\n",
              "      <th>19</th>\n",
              "      <td>930812946</td>\n",
              "      <td>CDS MEDICO DENTAIRE SALVADOR ALLENDE</td>\n",
              "      <td>MOSCOVA</td>\n",
              "      <td>Laura</td>\n",
              "      <td>Processus d’émergence et de structuration des ...</td>\n",
              "      <td>PREPS-20-0287</td>\n",
              "      <td>CaPiTaleS</td>\n",
              "      <td>172120</td>\n",
              "      <td>2020</td>\n",
              "    </tr>\n",
              "    <tr>\n",
              "      <th>20</th>\n",
              "      <td>750712184</td>\n",
              "      <td>ASSISTANCE PUBLIQUE AP-HP</td>\n",
              "      <td>PATRY</td>\n",
              "      <td>Claire</td>\n",
              "      <td>Limitation des réadmissions des personnes Agée...</td>\n",
              "      <td>PREPS-20-0241</td>\n",
              "      <td>LASUITE</td>\n",
              "      <td>842563</td>\n",
              "      <td>2020</td>\n",
              "    </tr>\n",
              "    <tr>\n",
              "      <th>21</th>\n",
              "      <td>430000018</td>\n",
              "      <td>CENTRE HOSPITALIER LE PUY - EMILE ROUX</td>\n",
              "      <td>PEREZ</td>\n",
              "      <td>Christèle</td>\n",
              "      <td>Optimisation du parcours de soins des patients...</td>\n",
              "      <td>PREPS-20-0256</td>\n",
              "      <td>DOLOREPIT</td>\n",
              "      <td>425561</td>\n",
              "      <td>2020</td>\n",
              "    </tr>\n",
              "    <tr>\n",
              "      <th>22</th>\n",
              "      <td>130786049</td>\n",
              "      <td>APHM</td>\n",
              "      <td>PERRIN</td>\n",
              "      <td>Jeanne</td>\n",
              "      <td>Amélioration du taux de naissance cumulé en Fé...</td>\n",
              "      <td>PREPS-20-0269</td>\n",
              "      <td>PREVENIR-FIV</td>\n",
              "      <td>1958503</td>\n",
              "      <td>2020</td>\n",
              "    </tr>\n",
              "    <tr>\n",
              "      <th>23</th>\n",
              "      <td>440000289</td>\n",
              "      <td>CHU DE NANTES</td>\n",
              "      <td>RAT</td>\n",
              "      <td>Cédric</td>\n",
              "      <td>ExerciceS COordonnés en soins PrimairEs : une ...</td>\n",
              "      <td>PREPS-20-0325</td>\n",
              "      <td>SCOPE</td>\n",
              "      <td>240107</td>\n",
              "      <td>2020</td>\n",
              "    </tr>\n",
              "    <tr>\n",
              "      <th>24</th>\n",
              "      <td>690781810</td>\n",
              "      <td>HOSPICES CIVILS DE LYON</td>\n",
              "      <td>REYNAUD</td>\n",
              "      <td>Quitterie</td>\n",
              "      <td>Le parrainage d’adolescents atteints de mucovi...</td>\n",
              "      <td>PREPS-20-0310</td>\n",
              "      <td>MUKADO</td>\n",
              "      <td>149056</td>\n",
              "      <td>2020</td>\n",
              "    </tr>\n",
              "    <tr>\n",
              "      <th>25</th>\n",
              "      <td>750712184</td>\n",
              "      <td>ASSISTANCE PUBLIQUE AP-HP</td>\n",
              "      <td>ROTGE</td>\n",
              "      <td>Jean-Yves</td>\n",
              "      <td>Essai multicentrique randomisé évaluant l’effi...</td>\n",
              "      <td>PREPS-20-0250</td>\n",
              "      <td>TELEDEP</td>\n",
              "      <td>992286</td>\n",
              "      <td>2020</td>\n",
              "    </tr>\n",
              "    <tr>\n",
              "      <th>26</th>\n",
              "      <td>330781196</td>\n",
              "      <td>CHU HOPITAUX DE BORDEAUX</td>\n",
              "      <td>SCHAEVERBEKE</td>\n",
              "      <td>Thierry</td>\n",
              "      <td>Impact clinique et médico-économique du dispos...</td>\n",
              "      <td>PREPS-20-0266</td>\n",
              "      <td>ANTICIPATE</td>\n",
              "      <td>507457</td>\n",
              "      <td>2020</td>\n",
              "    </tr>\n",
              "    <tr>\n",
              "      <th>27</th>\n",
              "      <td>690781810</td>\n",
              "      <td>HOSPICES CIVILS DE LYON</td>\n",
              "      <td>SCHOTT PUPH</td>\n",
              "      <td>Anne-Marie</td>\n",
              "      <td>Accompagnement des Pratiques de Prévention Nut...</td>\n",
              "      <td>PREPS-20-0338</td>\n",
              "      <td>APPreNDre</td>\n",
              "      <td>399330</td>\n",
              "      <td>2020</td>\n",
              "    </tr>\n",
              "    <tr>\n",
              "      <th>28</th>\n",
              "      <td>760780239</td>\n",
              "      <td>CHU ROUEN</td>\n",
              "      <td>TAALBA</td>\n",
              "      <td>Mehdi</td>\n",
              "      <td>Pertinence de la PREscription du Scanner Corps...</td>\n",
              "      <td>PREPS-20-0194</td>\n",
              "      <td>PRE-SCEAU</td>\n",
              "      <td>478406</td>\n",
              "      <td>2020</td>\n",
              "    </tr>\n",
              "    <tr>\n",
              "      <th>29</th>\n",
              "      <td>420784878</td>\n",
              "      <td>CHU SAINT-ETIENNE</td>\n",
              "      <td>THIERY</td>\n",
              "      <td>Guillaume</td>\n",
              "      <td>Impact d’un protocole de gestion des alarmes s...</td>\n",
              "      <td>PREPS-20-0332</td>\n",
              "      <td>REALARM</td>\n",
              "      <td>199347</td>\n",
              "      <td>2020</td>\n",
              "    </tr>\n",
              "    <tr>\n",
              "      <th>30</th>\n",
              "      <td>130786049</td>\n",
              "      <td>APHM</td>\n",
              "      <td>TOSELLO</td>\n",
              "      <td>Barthélémy</td>\n",
              "      <td>PArents REssources en Néonatalogie : pratiques...</td>\n",
              "      <td>PREPS-20-0200</td>\n",
              "      <td>PAREN</td>\n",
              "      <td>392249</td>\n",
              "      <td>2020</td>\n",
              "    </tr>\n",
              "    <tr>\n",
              "      <th>31</th>\n",
              "      <td>750712184</td>\n",
              "      <td>ASSISTANCE PUBLIQUE AP-HP</td>\n",
              "      <td>VULSER</td>\n",
              "      <td>Hélène</td>\n",
              "      <td>Etude de validation des performances de la ver...</td>\n",
              "      <td>PREPS-20-0320</td>\n",
              "      <td>Auti-screen</td>\n",
              "      <td>444491</td>\n",
              "      <td>2020</td>\n",
              "    </tr>\n",
              "  </tbody>\n",
              "</table>\n",
              "</div>\n",
              "      <button class=\"colab-df-convert\" onclick=\"convertToInteractive('df-bfb3db50-948b-4f53-ab09-823285824f5f')\"\n",
              "              title=\"Convert this dataframe to an interactive table.\"\n",
              "              style=\"display:none;\">\n",
              "        \n",
              "  <svg xmlns=\"http://www.w3.org/2000/svg\" height=\"24px\"viewBox=\"0 0 24 24\"\n",
              "       width=\"24px\">\n",
              "    <path d=\"M0 0h24v24H0V0z\" fill=\"none\"/>\n",
              "    <path d=\"M18.56 5.44l.94 2.06.94-2.06 2.06-.94-2.06-.94-.94-2.06-.94 2.06-2.06.94zm-11 1L8.5 8.5l.94-2.06 2.06-.94-2.06-.94L8.5 2.5l-.94 2.06-2.06.94zm10 10l.94 2.06.94-2.06 2.06-.94-2.06-.94-.94-2.06-.94 2.06-2.06.94z\"/><path d=\"M17.41 7.96l-1.37-1.37c-.4-.4-.92-.59-1.43-.59-.52 0-1.04.2-1.43.59L10.3 9.45l-7.72 7.72c-.78.78-.78 2.05 0 2.83L4 21.41c.39.39.9.59 1.41.59.51 0 1.02-.2 1.41-.59l7.78-7.78 2.81-2.81c.8-.78.8-2.07 0-2.86zM5.41 20L4 18.59l7.72-7.72 1.47 1.35L5.41 20z\"/>\n",
              "  </svg>\n",
              "      </button>\n",
              "      \n",
              "  <style>\n",
              "    .colab-df-container {\n",
              "      display:flex;\n",
              "      flex-wrap:wrap;\n",
              "      gap: 12px;\n",
              "    }\n",
              "\n",
              "    .colab-df-convert {\n",
              "      background-color: #E8F0FE;\n",
              "      border: none;\n",
              "      border-radius: 50%;\n",
              "      cursor: pointer;\n",
              "      display: none;\n",
              "      fill: #1967D2;\n",
              "      height: 32px;\n",
              "      padding: 0 0 0 0;\n",
              "      width: 32px;\n",
              "    }\n",
              "\n",
              "    .colab-df-convert:hover {\n",
              "      background-color: #E2EBFA;\n",
              "      box-shadow: 0px 1px 2px rgba(60, 64, 67, 0.3), 0px 1px 3px 1px rgba(60, 64, 67, 0.15);\n",
              "      fill: #174EA6;\n",
              "    }\n",
              "\n",
              "    [theme=dark] .colab-df-convert {\n",
              "      background-color: #3B4455;\n",
              "      fill: #D2E3FC;\n",
              "    }\n",
              "\n",
              "    [theme=dark] .colab-df-convert:hover {\n",
              "      background-color: #434B5C;\n",
              "      box-shadow: 0px 1px 3px 1px rgba(0, 0, 0, 0.15);\n",
              "      filter: drop-shadow(0px 1px 2px rgba(0, 0, 0, 0.3));\n",
              "      fill: #FFFFFF;\n",
              "    }\n",
              "  </style>\n",
              "\n",
              "      <script>\n",
              "        const buttonEl =\n",
              "          document.querySelector('#df-bfb3db50-948b-4f53-ab09-823285824f5f button.colab-df-convert');\n",
              "        buttonEl.style.display =\n",
              "          google.colab.kernel.accessAllowed ? 'block' : 'none';\n",
              "\n",
              "        async function convertToInteractive(key) {\n",
              "          const element = document.querySelector('#df-bfb3db50-948b-4f53-ab09-823285824f5f');\n",
              "          const dataTable =\n",
              "            await google.colab.kernel.invokeFunction('convertToInteractive',\n",
              "                                                     [key], {});\n",
              "          if (!dataTable) return;\n",
              "\n",
              "          const docLinkHtml = 'Like what you see? Visit the ' +\n",
              "            '<a target=\"_blank\" href=https://colab.research.google.com/notebooks/data_table.ipynb>data table notebook</a>'\n",
              "            + ' to learn more about interactive tables.';\n",
              "          element.innerHTML = '';\n",
              "          dataTable['output_type'] = 'display_data';\n",
              "          await google.colab.output.renderOutput(dataTable, element);\n",
              "          const docLink = document.createElement('div');\n",
              "          docLink.innerHTML = docLinkHtml;\n",
              "          element.appendChild(docLink);\n",
              "        }\n",
              "      </script>\n",
              "    </div>\n",
              "  </div>\n",
              "  "
            ]
          },
          "metadata": {},
          "execution_count": 324
        }
      ]
    }
  ]
}