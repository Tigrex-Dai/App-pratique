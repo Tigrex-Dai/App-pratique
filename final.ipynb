{
  "nbformat": 4,
  "nbformat_minor": 0,
  "metadata": {
    "colab": {
      "provenance": [],
      "collapsed_sections": [],
      "authorship_tag": "ABX9TyM5L19VeKdiQNg45ihflngn",
      "include_colab_link": true
    },
    "kernelspec": {
      "name": "python3",
      "display_name": "Python 3"
    },
    "language_info": {
      "name": "python"
    }
  },
  "cells": [
    {
      "cell_type": "markdown",
      "metadata": {
        "id": "view-in-github",
        "colab_type": "text"
      },
      "source": [
        "<a href=\"https://colab.research.google.com/github/ouissem11/App-pratique/blob/master/final.ipynb\" target=\"_parent\"><img src=\"https://colab.research.google.com/assets/colab-badge.svg\" alt=\"Open In Colab\"/></a>"
      ]
    },
    {
      "cell_type": "code",
      "execution_count": 1,
      "metadata": {
        "id": "a7YSgEUIth6n"
      },
      "outputs": [],
      "source": [
        "import numpy as np\n",
        "import pandas as pd"
      ]
    },
    {
      "cell_type": "code",
      "source": [
        "!pip install pandas==1.2.0"
      ],
      "metadata": {
        "colab": {
          "base_uri": "https://localhost:8080/"
        },
        "id": "r0WCZHsZt1Yi",
        "outputId": "698adbb3-01c1-4ae9-c970-02db4c80d0d3"
      },
      "execution_count": 133,
      "outputs": [
        {
          "output_type": "stream",
          "name": "stdout",
          "text": [
            "Looking in indexes: https://pypi.org/simple, https://us-python.pkg.dev/colab-wheels/public/simple/\n",
            "Requirement already satisfied: pandas==1.2.0 in /usr/local/lib/python3.7/dist-packages (1.2.0)\n",
            "Requirement already satisfied: numpy>=1.16.5 in /usr/local/lib/python3.7/dist-packages (from pandas==1.2.0) (1.21.6)\n",
            "Requirement already satisfied: python-dateutil>=2.7.3 in /usr/local/lib/python3.7/dist-packages (from pandas==1.2.0) (2.8.2)\n",
            "Requirement already satisfied: pytz>=2017.3 in /usr/local/lib/python3.7/dist-packages (from pandas==1.2.0) (2022.2.1)\n",
            "Requirement already satisfied: six>=1.5 in /usr/local/lib/python3.7/dist-packages (from python-dateutil>=2.7.3->pandas==1.2.0) (1.15.0)\n"
          ]
        }
      ]
    },
    {
      "cell_type": "code",
      "source": [
        "!pip install xlrd==1.2.0"
      ],
      "metadata": {
        "colab": {
          "base_uri": "https://localhost:8080/"
        },
        "id": "gLdjtkfkt5VN",
        "outputId": "8669641b-1766-4605-d5ff-9465376d9dbe"
      },
      "execution_count": 134,
      "outputs": [
        {
          "output_type": "stream",
          "name": "stdout",
          "text": [
            "Looking in indexes: https://pypi.org/simple, https://us-python.pkg.dev/colab-wheels/public/simple/\n",
            "Requirement already satisfied: xlrd==1.2.0 in /usr/local/lib/python3.7/dist-packages (1.2.0)\n"
          ]
        }
      ]
    },
    {
      "cell_type": "code",
      "source": [
        "df1 = pd.read_excel(\"/content/RESULTAT-PREPS-2012.xls\")"
      ],
      "metadata": {
        "id": "R1a_lIont-8t"
      },
      "execution_count": 4,
      "outputs": []
    },
    {
      "cell_type": "code",
      "source": [
        "df1.columns"
      ],
      "metadata": {
        "colab": {
          "base_uri": "https://localhost:8080/"
        },
        "id": "p4HjkZ3tuIAJ",
        "outputId": "f30bafde-676c-4744-8cab-7fab38be362f"
      },
      "execution_count": 28,
      "outputs": [
        {
          "output_type": "execute_result",
          "data": {
            "text/plain": [
              "Index(['Porteur de projet / Investigateur\\ncoordonnateur\\nNOM',\n",
              "       'Porteur de projet / Investigateur\\ncoordonnateur\\nPRENOM',\n",
              "       'N° du projet PREPS', 'FINESS',\n",
              "       'Nom de l'établissement de santé\\ngestionnaire des fonds', 'Acronyme',\n",
              "       'Titre du projet', 'Autorisation d'engagement (AE)'],\n",
              "      dtype='object')"
            ]
          },
          "metadata": {},
          "execution_count": 28
        }
      ]
    },
    {
      "cell_type": "code",
      "source": [
        "df1=df1.assign(année= 2012) "
      ],
      "metadata": {
        "id": "qj-AN72xyN9D"
      },
      "execution_count": 29,
      "outputs": []
    },
    {
      "cell_type": "code",
      "source": [
        "df1.columns =['FINESS',\n",
        "       'Nom de Etablissement de Santé',\n",
        "       'Porteur de Projet/nNOM',\n",
        "       'Porteur de Projet/nPRENOM',\n",
        "       'Titre du projet', 'N° du projet', 'Acronyme',\n",
        "       'Montant maximal' ,'année']"
      ],
      "metadata": {
        "id": "opvd1-1IJMtr"
      },
      "execution_count": null,
      "outputs": []
    },
    {
      "cell_type": "code",
      "source": [
        "df1=df1[['FINESS',\n",
        "       'Nom de Etablissement de Santé',\n",
        "       'Porteur de Projet/nNOM',\n",
        "       'Porteur de Projet/nPRENOM',\n",
        "       'Titre du projet', 'N° du projet', 'Acronyme',\n",
        "       'Montant maximal' ,'année']]"
      ],
      "metadata": {
        "id": "EF8k8m2fyjkl"
      },
      "execution_count": 161,
      "outputs": []
    },
    {
      "cell_type": "code",
      "source": [
        "df2 = pd.read_excel(\"/content/RESULTAT-PREPS-SIPS-2012.xls\")"
      ],
      "metadata": {
        "id": "6gaFHUXJuQ_-"
      },
      "execution_count": 150,
      "outputs": []
    },
    {
      "cell_type": "code",
      "source": [
        "df2=df2.assign(année= 2012) "
      ],
      "metadata": {
        "id": "rLHc572cyu5A"
      },
      "execution_count": 155,
      "outputs": []
    },
    {
      "cell_type": "code",
      "source": [
        "df2.columns =['FINESS',\n",
        "       'Nom de Etablissement de Santé',\n",
        "       'Porteur de Projet/nNOM',\n",
        "       'Porteur de Projet/nPRENOM',\n",
        "       'Titre du projet', 'N° du projet', 'Acronyme',\n",
        "       'Montant maximal' ,'année']"
      ],
      "metadata": {
        "id": "Cj6iynvLG85X"
      },
      "execution_count": 157,
      "outputs": []
    },
    {
      "cell_type": "code",
      "source": [
        "df2.columns"
      ],
      "metadata": {
        "colab": {
          "base_uri": "https://localhost:8080/"
        },
        "id": "osFbdN5iIhgZ",
        "outputId": "944a24e4-8240-44dc-ca1e-f7b56e4f1005"
      },
      "execution_count": 158,
      "outputs": [
        {
          "output_type": "execute_result",
          "data": {
            "text/plain": [
              "Index(['FINESS', 'Nom de Etablissement de Santé', 'Porteur de Projet/nNOM',\n",
              "       'Porteur de Projet/nPRENOM', 'Titre du projet', 'N° du projet',\n",
              "       'Acronyme', 'Montant maximal', 'année'],\n",
              "      dtype='object')"
            ]
          },
          "metadata": {},
          "execution_count": 158
        }
      ]
    },
    {
      "cell_type": "code",
      "source": [
        "df2=df2[['FINESS', 'Nom de Etablissement de Santé', 'Porteur de Projet/nNOM',\n",
        "       'Porteur de Projet/nPRENOM', 'Titre du projet', 'N° du projet',\n",
        "       'Acronyme', 'Montant maximal', 'année']]"
      ],
      "metadata": {
        "id": "aDCg6FDrywa6"
      },
      "execution_count": 159,
      "outputs": []
    },
    {
      "cell_type": "code",
      "source": [
        "df3 = pd.read_excel(\"/content/Resultats_PREPS-DP_2013.xlsx\")"
      ],
      "metadata": {
        "id": "KG_VnQikuWMd"
      },
      "execution_count": 137,
      "outputs": []
    },
    {
      "cell_type": "code",
      "source": [
        "df3=df3.assign(année= 2013) "
      ],
      "metadata": {
        "id": "tGkhnzk3y2Iq"
      },
      "execution_count": 138,
      "outputs": []
    },
    {
      "cell_type": "code",
      "source": [
        "df3.columns = ['FINESS',\n",
        "       'Nom de Etablissement de Santé',\n",
        "       'Porteur de Projet/nNOM',\n",
        "       'Porteur de Projet/nPRENOM',\n",
        "       'Titre du projet', 'N° du projet', 'Acronyme',\n",
        "       'Montant maximal' ,'année']"
      ],
      "metadata": {
        "id": "gn9HwaKbuaRU"
      },
      "execution_count": 162,
      "outputs": []
    },
    {
      "cell_type": "code",
      "source": [
        "df3 =df3[['FINESS', 'Nom de Etablissement de Santé', 'Porteur de Projet/nNOM',\n",
        "       'Porteur de Projet/nPRENOM', 'Titre du projet', 'N° du projet',\n",
        "       'Acronyme', 'Montant maximal', 'année']]"
      ],
      "metadata": {
        "id": "EfNEGZpDItDN"
      },
      "execution_count": 172,
      "outputs": []
    },
    {
      "cell_type": "code",
      "source": [],
      "metadata": {
        "id": "UPOKfWCAItx2"
      },
      "execution_count": null,
      "outputs": []
    },
    {
      "cell_type": "code",
      "source": [
        "df4 = pd.read_excel(\"/content/Resultats_PREPS-IQ_2013.xlsx\")"
      ],
      "metadata": {
        "id": "kDQF9nN9u5uV"
      },
      "execution_count": 168,
      "outputs": []
    },
    {
      "cell_type": "code",
      "source": [
        "df4.columns"
      ],
      "metadata": {
        "colab": {
          "base_uri": "https://localhost:8080/"
        },
        "id": "8dOrW9TPu8uj",
        "outputId": "072c1121-e665-4595-a705-724d8f835a3f"
      },
      "execution_count": 169,
      "outputs": [
        {
          "output_type": "execute_result",
          "data": {
            "text/plain": [
              "Index(['FINESS\\njuridique', 'Nom de l'établissement de santé\\ncoordonnateur',\n",
              "       'Porteur de projet / Investigateur\\ncoordonnateur\\nNOM',\n",
              "       'Porteur de projet / Investigateur\\ncoordonnateur\\nPRENOM',\n",
              "       'Titre du projet', 'N° du projet',\n",
              "       'Champ \"Innovation Recherche\" du PMSI', 'Acronyme',\n",
              "       'Montant accordé sous conditions de suivi (€)'],\n",
              "      dtype='object')"
            ]
          },
          "metadata": {},
          "execution_count": 169
        }
      ]
    },
    {
      "cell_type": "code",
      "source": [
        "df4=df4.drop('Champ \"Innovation Recherche\" du PMSI', axis=1)"
      ],
      "metadata": {
        "id": "9qK4MIyrvAcO"
      },
      "execution_count": 170,
      "outputs": []
    },
    {
      "cell_type": "code",
      "source": [
        "df4=df4.assign(année= 2013) "
      ],
      "metadata": {
        "id": "FhJ0Aj1gzGlV"
      },
      "execution_count": 171,
      "outputs": []
    },
    {
      "cell_type": "code",
      "source": [
        "df4.columns = ['FINESS',\n",
        "       'Nom de Etablissement de Santé',\n",
        "       'Porteur de Projet/nNOM',\n",
        "       'Porteur de Projet/nPRENOM',\n",
        "       'Titre du projet', 'N° du projet', 'Acronyme',\n",
        "       'Montant maximal' ,'année']"
      ],
      "metadata": {
        "id": "aEtk_TF3J3WO"
      },
      "execution_count": 173,
      "outputs": []
    },
    {
      "cell_type": "code",
      "source": [
        "df4 =df4[['FINESS', 'Nom de Etablissement de Santé', 'Porteur de Projet/nNOM',\n",
        "       'Porteur de Projet/nPRENOM', 'Titre du projet', 'N° du projet',\n",
        "       'Acronyme', 'Montant maximal', 'année']]"
      ],
      "metadata": {
        "id": "U03GEH5szi98"
      },
      "execution_count": 174,
      "outputs": []
    },
    {
      "cell_type": "code",
      "source": [
        "df5 = pd.read_excel(\"/content/Resultats_PREPS_2013.xlsx\")"
      ],
      "metadata": {
        "id": "CCHORpiKvD84"
      },
      "execution_count": 176,
      "outputs": []
    },
    {
      "cell_type": "code",
      "source": [
        "df5=df5.assign(année= 2013) "
      ],
      "metadata": {
        "id": "tNF8lA05zrMl"
      },
      "execution_count": 177,
      "outputs": []
    },
    {
      "cell_type": "code",
      "source": [
        "df5.columns=['FINESS',\n",
        "       'Nom de Etablissement de Santé',\n",
        "       'Porteur de Projet/nNOM',\n",
        "       'Porteur de Projet/nPRENOM',\n",
        "       'Titre du projet', 'N° du projet', 'Acronyme',\n",
        "       'Montant maximal','année']\n",
        "       "
      ],
      "metadata": {
        "id": "A-yzZ_Rwz0Mq"
      },
      "execution_count": 182,
      "outputs": []
    },
    {
      "cell_type": "code",
      "source": [
        "df5 =df5[['FINESS', 'Nom de Etablissement de Santé', 'Porteur de Projet/nNOM',\n",
        "       'Porteur de Projet/nPRENOM', 'Titre du projet', 'N° du projet',\n",
        "       'Acronyme', 'Montant maximal', 'année']]"
      ],
      "metadata": {
        "id": "5wQ0TP2AK1eq"
      },
      "execution_count": 183,
      "outputs": []
    },
    {
      "cell_type": "code",
      "source": [
        "df6 = pd.read_excel(\"/content/Resultats_PREPS_2014.xls\")"
      ],
      "metadata": {
        "id": "EIXKRO_rvGqt"
      },
      "execution_count": 184,
      "outputs": []
    },
    {
      "cell_type": "code",
      "source": [
        "df6=df6.assign(année= 2014) "
      ],
      "metadata": {
        "id": "O3r8717Nz6u4"
      },
      "execution_count": 185,
      "outputs": []
    },
    {
      "cell_type": "code",
      "source": [
        "df6.columns=['FINESS',\n",
        "       'Nom de lEtablissement de Santé',\n",
        "       'Porteur de Projet/nNOM',\n",
        "       'Porteur de Projet/nPRENOM',\n",
        "       'Titre du projet', 'N° du projet','Acronyme',\n",
        "       'Montant maximal','année']"
      ],
      "metadata": {
        "id": "6fEMwFWA0BXO"
      },
      "execution_count": 191,
      "outputs": []
    },
    {
      "cell_type": "code",
      "source": [
        "df6=df6[['FINESS',\n",
        "       'Nom de lEtablissement de Santé',\n",
        "       'Porteur de Projet/nNOM',\n",
        "       'Porteur de Projet/nPRENOM',\n",
        "       'Titre du projet', 'N° du projet','Acronyme',\n",
        "       'Montant maximal','année']]"
      ],
      "metadata": {
        "id": "W8NixbPfLThc"
      },
      "execution_count": 193,
      "outputs": []
    },
    {
      "cell_type": "code",
      "source": [
        "df7 = pd.read_excel(\"/content/preps_20_resultatsselection_v2-0_20211006_mel.xlsx\")"
      ],
      "metadata": {
        "id": "nHkWb7gAvJzf"
      },
      "execution_count": 194,
      "outputs": []
    },
    {
      "cell_type": "code",
      "source": [
        "df7=df7.assign(année= 2020) "
      ],
      "metadata": {
        "id": "oY37wTiC0Llx"
      },
      "execution_count": 195,
      "outputs": []
    },
    {
      "cell_type": "code",
      "source": [
        "df7.columns =['Porteur de Projet/nNOM',\n",
        "              'Porteur de Projet/nPRENOM',\n",
        "              'N° du projet',\n",
        "              'FINESS',\n",
        "              'Nom de Etablissement de Santé',\n",
        "              'Acronyme',\n",
        "              'Titre du projet',\n",
        "              'Montant maximal','année']\n"
      ],
      "metadata": {
        "id": "NeO_t_kx54Y3"
      },
      "execution_count": 206,
      "outputs": []
    },
    {
      "cell_type": "code",
      "source": [
        "df7=df7[['FINESS',\n",
        "       'Nom de Etablissement de Santé',\n",
        "       'Porteur de Projet/nNOM',\n",
        "       'Porteur de Projet/nPRENOM',\n",
        "       'Titre du projet', 'N° du projet','Acronyme',\n",
        "       'Montant maximal','année']]"
      ],
      "metadata": {
        "id": "YgpdpUcs0hCm"
      },
      "execution_count": 202,
      "outputs": []
    },
    {
      "cell_type": "code",
      "source": [
        "df9 = pd.read_excel(\"/content/resultats_preps_2015_mel.xls\")"
      ],
      "metadata": {
        "id": "oHydM-KfvvSn"
      },
      "execution_count": 203,
      "outputs": []
    },
    {
      "cell_type": "code",
      "source": [
        "df9=df9.assign(année= 2015) "
      ],
      "metadata": {
        "id": "JX4hLEY5A1bV"
      },
      "execution_count": 204,
      "outputs": []
    },
    {
      "cell_type": "code",
      "source": [
        "df9.columns= ['FINESS',\n",
        "       'Nom de Etablissement de Santé',\n",
        "       'Porteur de Projet/nNOM',\n",
        "       'Porteur de Projet/nPRENOM',\n",
        "       'Titre du projet', 'N° du projet','Acronyme',\n",
        "       'Montant maximal','année']"
      ],
      "metadata": {
        "id": "Cszjcp8JBRG3"
      },
      "execution_count": 207,
      "outputs": []
    },
    {
      "cell_type": "code",
      "source": [
        "df9=df9[['FINESS',\n",
        "       'Nom de Etablissement de Santé',\n",
        "       'Porteur de Projet/nNOM',\n",
        "       'Porteur de Projet/nPRENOM',\n",
        "       'Titre du projet', 'N° du projet','Acronyme',\n",
        "       'Montant maximal','année']]"
      ],
      "metadata": {
        "id": "WflcjnjcBHcc"
      },
      "execution_count": 210,
      "outputs": []
    },
    {
      "cell_type": "code",
      "source": [
        "df10 = pd.read_excel(\"/content/resultats_preps_2016_mel.xlsx\")"
      ],
      "metadata": {
        "id": "MoHHjJb3vyma"
      },
      "execution_count": 211,
      "outputs": []
    },
    {
      "cell_type": "code",
      "source": [
        "df10=df10.assign(année= 2016) "
      ],
      "metadata": {
        "id": "Z92uodWjBlUk"
      },
      "execution_count": 212,
      "outputs": []
    },
    {
      "cell_type": "code",
      "source": [
        "df10.columns"
      ],
      "metadata": {
        "colab": {
          "base_uri": "https://localhost:8080/"
        },
        "id": "T3t7I6mQBv1i",
        "outputId": "705b597c-69b1-4bda-a967-0baac31126db"
      },
      "execution_count": 213,
      "outputs": [
        {
          "output_type": "execute_result",
          "data": {
            "text/plain": [
              "Index(['FINESS\\njuridique',\n",
              "       'Nom de l'établissement de santé\\ngestionnaire des fonds',\n",
              "       'Porteur de projet / Investigateur\\ncoordonnateur\\nNOM',\n",
              "       'Porteur de projet / Investigateur\\ncoordonnateur\\nPRENOM',\n",
              "       'Titre du projet', 'N° du projet', 'Acronyme',\n",
              "       ' Autorisation d'engagement ', 'année'],\n",
              "      dtype='object')"
            ]
          },
          "metadata": {},
          "execution_count": 213
        }
      ]
    },
    {
      "cell_type": "code",
      "source": [
        "df10.columns = [\"FINESS\",\n",
        "       \"Nom de l'établissement de santé\",\n",
        "       \"Porteur de projet/nNOM\",\n",
        "       \"Porteur de projet/nPRENOM\",\n",
        "       \"Titre du projet\", \"N° du projet\", \"Acronyme\",\n",
        "       \"Montant maximal\",\"année\"]"
      ],
      "metadata": {
        "id": "czeMsTWnOXYW"
      },
      "execution_count": 214,
      "outputs": []
    },
    {
      "cell_type": "code",
      "source": [
        "df10=df10[[\"FINESS\",\n",
        "       \"Nom de l'établissement de santé\",\n",
        "       \"Porteur de projet/nNOM\",\n",
        "       \"Porteur de projet/nPRENOM\",\n",
        "       \"Titre du projet\", \"N° du projet\", \"Acronyme\",\n",
        "       \"Montant maximal\",\"année\"]]"
      ],
      "metadata": {
        "id": "9RqeFrCtBnf3"
      },
      "execution_count": 215,
      "outputs": []
    },
    {
      "cell_type": "code",
      "source": [
        "df11 = pd.read_excel(\"/content/resultats_preps_2017_040118.xlsx\")"
      ],
      "metadata": {
        "id": "pul3648Mv2tC"
      },
      "execution_count": 216,
      "outputs": []
    },
    {
      "cell_type": "code",
      "source": [
        "df11=df11.assign(année= 2017) "
      ],
      "metadata": {
        "id": "WhLd_GSZCb8i"
      },
      "execution_count": 217,
      "outputs": []
    },
    {
      "cell_type": "code",
      "source": [
        "df11.columns =[\"FINESS\",\n",
        "       \"Nom de l'établissement de santé\",\n",
        "       \"Porteur de projet/nNOM\",\n",
        "       \"Porteur de projet/nPRENOM\",\n",
        "       \"Titre du projet\", \"N° du projet\", \"Acronyme\",\n",
        "       \"Montant maximal\",\"année\"]"
      ],
      "metadata": {
        "id": "nlWge1reCfyR"
      },
      "execution_count": 224,
      "outputs": []
    },
    {
      "cell_type": "code",
      "source": [
        "df11=df11[[\"FINESS\",\n",
        "       \"Nom de l'établissement de santé\",\n",
        "       \"Porteur de projet/nNOM\",\n",
        "       \"Porteur de projet/nPRENOM\",\n",
        "       \"Titre du projet\", \"N° du projet\", \"Acronyme\",\n",
        "       \"Montant maximal\",\"année\"]]"
      ],
      "metadata": {
        "id": "lGPFf_-oCdYm"
      },
      "execution_count": 225,
      "outputs": []
    },
    {
      "cell_type": "code",
      "source": [
        "df12 = pd.read_excel(\"/content/resultats_preps_2018_mel.xlsx\")"
      ],
      "metadata": {
        "id": "VtMbJEebv7OM"
      },
      "execution_count": 222,
      "outputs": []
    },
    {
      "cell_type": "code",
      "source": [
        "df12=df12.assign(année= 2018)"
      ],
      "metadata": {
        "id": "02D8n8jeC-XZ"
      },
      "execution_count": 223,
      "outputs": []
    },
    {
      "cell_type": "code",
      "source": [
        "df12.columns =['FINESS',\n",
        "       'Nom de lEtablissement de Santé',\n",
        "       'Porteur de Projet/nNOM',\n",
        "       'Porteur de Projet/nPRENOM',\n",
        "       'Titre du projet', 'N° du projet', 'Acronyme',\n",
        "       'Montant maximal','année']"
      ],
      "metadata": {
        "id": "43SeIWIePAv7"
      },
      "execution_count": 226,
      "outputs": []
    },
    {
      "cell_type": "code",
      "source": [
        "df12=df12[['FINESS',\n",
        "       'Nom de lEtablissement de Santé',\n",
        "       'Porteur de Projet/nNOM',\n",
        "       'Porteur de Projet/nPRENOM',\n",
        "       'Titre du projet', 'N° du projet', 'Acronyme',\n",
        "       'Montant maximal','année']]"
      ],
      "metadata": {
        "id": "C7h6CqmbDB1U"
      },
      "execution_count": 231,
      "outputs": []
    },
    {
      "cell_type": "code",
      "source": [
        "df13= pd.read_excel(\"/content/resultats_preps_2019_mel_v0-2_20200102.xlsx\")"
      ],
      "metadata": {
        "id": "yqZMuD0vv-fq"
      },
      "execution_count": 228,
      "outputs": []
    },
    {
      "cell_type": "code",
      "source": [
        "df13=df13.assign(année= 2019)"
      ],
      "metadata": {
        "id": "Fe9VBbNWDHOl"
      },
      "execution_count": 229,
      "outputs": []
    },
    {
      "cell_type": "code",
      "source": [
        "df13.columns=['FINESS',\n",
        "       'Nom de lEtablissement de Santé',\n",
        "       'Porteur de Projet/nNOM',\n",
        "       'Porteur de Projet/nPRENOM',\n",
        "       'Titre du projet', 'N° du projet', 'Acronyme',\n",
        "       'Montant maximal','année']"
      ],
      "metadata": {
        "id": "FH196VDhDL72"
      },
      "execution_count": 230,
      "outputs": []
    },
    {
      "cell_type": "code",
      "source": [
        "df13=df13[['FINESS',\n",
        "       'Nom de lEtablissement de Santé',\n",
        "       'Porteur de Projet/nNOM',\n",
        "       'Porteur de Projet/nPRENOM',\n",
        "       'Titre du projet', 'N° du projet', 'Acronyme',\n",
        "       'Montant maximal','année']]"
      ],
      "metadata": {
        "id": "EErr1wL9QFWb"
      },
      "execution_count": 232,
      "outputs": []
    },
    {
      "cell_type": "code",
      "source": [
        "df1.columns = df2.columns = df3.columns = df4.columns = df5.columns = df6.columns = df7.columns = df9.columns = df10.columns = df11.columns = df12.columns = df13.columns"
      ],
      "metadata": {
        "id": "CDfGfhOOwRHf"
      },
      "execution_count": 233,
      "outputs": []
    },
    {
      "cell_type": "code",
      "source": [
        "DFF= pd.concat([df1,df2, df3,df4,df5,df6,df7,df9,df10,df11,df12,df13])"
      ],
      "metadata": {
        "id": "WLp9YCuJwTyx"
      },
      "execution_count": 235,
      "outputs": []
    },
    {
      "cell_type": "code",
      "source": [
        "DFF"
      ],
      "metadata": {
        "colab": {
          "base_uri": "https://localhost:8080/",
          "height": 797
        },
        "id": "v7FT96_BwWPx",
        "outputId": "0b5a16d7-e7bc-49fb-f387-3d4226d5c6a0"
      },
      "execution_count": 236,
      "outputs": [
        {
          "output_type": "execute_result",
          "data": {
            "text/plain": [
              "         FINESS Nom de lEtablissement de Santé Porteur de Projet/nNOM  \\\n",
              "0     380780080                   CHU GRENOBLE             ALBALADEJO   \n",
              "1     380780080                   CHU GRENOBLE                ALLENET   \n",
              "2     750712184      ASSISTANCE PUBLIQUE AP-HP              ASTAGNEAU   \n",
              "3     800000044                     CHU AMIENS                BARBARE   \n",
              "4     750712184      ASSISTANCE PUBLIQUE AP-HP                BOUTRON   \n",
              "..          ...                            ...                    ...   \n",
              "25     SAILLOUR                       Florence          PREPS-19-0087   \n",
              "26        SALVO                      Francesco          PREPS-19-0170   \n",
              "27  SOTO MARTIN                          Maria          PREPS-19-0027   \n",
              "28       TOUZET                       Sandrine          PREPS-19-0004   \n",
              "29       VALERA                         Sabine          PREPS-19-0084   \n",
              "\n",
              "   Porteur de Projet/nPRENOM  \\\n",
              "0                     Pierre   \n",
              "1                     Benoit   \n",
              "2                     Pascal   \n",
              "3                Jean-Claude   \n",
              "4                   Isabelle   \n",
              "..                       ...   \n",
              "25                 330781196   \n",
              "26                 330781196   \n",
              "27                 310781406   \n",
              "28                 690781810   \n",
              "29                 130786049   \n",
              "\n",
              "                                      Titre du projet    N° du projet  \\\n",
              "0   Impact d'un programme pédagogique sur la cultu...     12-026-0101   \n",
              "1   Evaluation de l’apport du Dossier Pharmaceutiq...     12-026-0056   \n",
              "2   Evaluation des pratiques et analyse des risque...     12-002-0037   \n",
              "3   Essai randomisé évaluant l'intervention du Can...     12-022-0048   \n",
              "4   Comparaison de l’effet traitement entre sujets...  12-002-0014 \\n   \n",
              "..                                                ...             ...   \n",
              "25                           CHU HOPITAUX DE BORDEAUX     sPREAdPerti   \n",
              "26                           CHU HOPITAUX DE BORDEAUX          PRoSIT   \n",
              "27                                       CHU TOULOUSE       PERSON-AL   \n",
              "28                            HOSPICES CIVILS DE LYON           D-CUB   \n",
              "29                            APHM DIRECTION GENERALE          FOURMY   \n",
              "\n",
              "                                             Acronyme  Montant maximal  année  \n",
              "0                                             PROPECS         222970.0   2012  \n",
              "1                                           DP-CONCIL         198880.0   2012  \n",
              "2                                            CATHEVAL         146960.0   2012  \n",
              "3                                                ERNU         555720.0   2012  \n",
              "4                                        COMA-study\\n          48675.0   2012  \n",
              "..                                                ...              ...    ...  \n",
              "25  Évaluation d’un PRogrammE de mobilisation et d...         312975.0   2019  \n",
              "26  Développement, validation et impact de l’ident...         630953.0   2019  \n",
              "27  PERSONnalisation de la prise en charge des sym...         782250.0   2019  \n",
              "28  Réduction de la consommation inappropriée des ...         598895.0   2019  \n",
              "29  FOrmation des infirmiers des Unités de Réanima...         630121.0   2019  \n",
              "\n",
              "[263 rows x 9 columns]"
            ],
            "text/html": [
              "\n",
              "  <div id=\"df-22a70329-2980-4f8e-b7a0-dd3fa7604e62\">\n",
              "    <div class=\"colab-df-container\">\n",
              "      <div>\n",
              "<style scoped>\n",
              "    .dataframe tbody tr th:only-of-type {\n",
              "        vertical-align: middle;\n",
              "    }\n",
              "\n",
              "    .dataframe tbody tr th {\n",
              "        vertical-align: top;\n",
              "    }\n",
              "\n",
              "    .dataframe thead th {\n",
              "        text-align: right;\n",
              "    }\n",
              "</style>\n",
              "<table border=\"1\" class=\"dataframe\">\n",
              "  <thead>\n",
              "    <tr style=\"text-align: right;\">\n",
              "      <th></th>\n",
              "      <th>FINESS</th>\n",
              "      <th>Nom de lEtablissement de Santé</th>\n",
              "      <th>Porteur de Projet/nNOM</th>\n",
              "      <th>Porteur de Projet/nPRENOM</th>\n",
              "      <th>Titre du projet</th>\n",
              "      <th>N° du projet</th>\n",
              "      <th>Acronyme</th>\n",
              "      <th>Montant maximal</th>\n",
              "      <th>année</th>\n",
              "    </tr>\n",
              "  </thead>\n",
              "  <tbody>\n",
              "    <tr>\n",
              "      <th>0</th>\n",
              "      <td>380780080</td>\n",
              "      <td>CHU GRENOBLE</td>\n",
              "      <td>ALBALADEJO</td>\n",
              "      <td>Pierre</td>\n",
              "      <td>Impact d'un programme pédagogique sur la cultu...</td>\n",
              "      <td>12-026-0101</td>\n",
              "      <td>PROPECS</td>\n",
              "      <td>222970.0</td>\n",
              "      <td>2012</td>\n",
              "    </tr>\n",
              "    <tr>\n",
              "      <th>1</th>\n",
              "      <td>380780080</td>\n",
              "      <td>CHU GRENOBLE</td>\n",
              "      <td>ALLENET</td>\n",
              "      <td>Benoit</td>\n",
              "      <td>Evaluation de l’apport du Dossier Pharmaceutiq...</td>\n",
              "      <td>12-026-0056</td>\n",
              "      <td>DP-CONCIL</td>\n",
              "      <td>198880.0</td>\n",
              "      <td>2012</td>\n",
              "    </tr>\n",
              "    <tr>\n",
              "      <th>2</th>\n",
              "      <td>750712184</td>\n",
              "      <td>ASSISTANCE PUBLIQUE AP-HP</td>\n",
              "      <td>ASTAGNEAU</td>\n",
              "      <td>Pascal</td>\n",
              "      <td>Evaluation des pratiques et analyse des risque...</td>\n",
              "      <td>12-002-0037</td>\n",
              "      <td>CATHEVAL</td>\n",
              "      <td>146960.0</td>\n",
              "      <td>2012</td>\n",
              "    </tr>\n",
              "    <tr>\n",
              "      <th>3</th>\n",
              "      <td>800000044</td>\n",
              "      <td>CHU AMIENS</td>\n",
              "      <td>BARBARE</td>\n",
              "      <td>Jean-Claude</td>\n",
              "      <td>Essai randomisé évaluant l'intervention du Can...</td>\n",
              "      <td>12-022-0048</td>\n",
              "      <td>ERNU</td>\n",
              "      <td>555720.0</td>\n",
              "      <td>2012</td>\n",
              "    </tr>\n",
              "    <tr>\n",
              "      <th>4</th>\n",
              "      <td>750712184</td>\n",
              "      <td>ASSISTANCE PUBLIQUE AP-HP</td>\n",
              "      <td>BOUTRON</td>\n",
              "      <td>Isabelle</td>\n",
              "      <td>Comparaison de l’effet traitement entre sujets...</td>\n",
              "      <td>12-002-0014 \\n</td>\n",
              "      <td>COMA-study\\n</td>\n",
              "      <td>48675.0</td>\n",
              "      <td>2012</td>\n",
              "    </tr>\n",
              "    <tr>\n",
              "      <th>...</th>\n",
              "      <td>...</td>\n",
              "      <td>...</td>\n",
              "      <td>...</td>\n",
              "      <td>...</td>\n",
              "      <td>...</td>\n",
              "      <td>...</td>\n",
              "      <td>...</td>\n",
              "      <td>...</td>\n",
              "      <td>...</td>\n",
              "    </tr>\n",
              "    <tr>\n",
              "      <th>25</th>\n",
              "      <td>SAILLOUR</td>\n",
              "      <td>Florence</td>\n",
              "      <td>PREPS-19-0087</td>\n",
              "      <td>330781196</td>\n",
              "      <td>CHU HOPITAUX DE BORDEAUX</td>\n",
              "      <td>sPREAdPerti</td>\n",
              "      <td>Évaluation d’un PRogrammE de mobilisation et d...</td>\n",
              "      <td>312975.0</td>\n",
              "      <td>2019</td>\n",
              "    </tr>\n",
              "    <tr>\n",
              "      <th>26</th>\n",
              "      <td>SALVO</td>\n",
              "      <td>Francesco</td>\n",
              "      <td>PREPS-19-0170</td>\n",
              "      <td>330781196</td>\n",
              "      <td>CHU HOPITAUX DE BORDEAUX</td>\n",
              "      <td>PRoSIT</td>\n",
              "      <td>Développement, validation et impact de l’ident...</td>\n",
              "      <td>630953.0</td>\n",
              "      <td>2019</td>\n",
              "    </tr>\n",
              "    <tr>\n",
              "      <th>27</th>\n",
              "      <td>SOTO MARTIN</td>\n",
              "      <td>Maria</td>\n",
              "      <td>PREPS-19-0027</td>\n",
              "      <td>310781406</td>\n",
              "      <td>CHU TOULOUSE</td>\n",
              "      <td>PERSON-AL</td>\n",
              "      <td>PERSONnalisation de la prise en charge des sym...</td>\n",
              "      <td>782250.0</td>\n",
              "      <td>2019</td>\n",
              "    </tr>\n",
              "    <tr>\n",
              "      <th>28</th>\n",
              "      <td>TOUZET</td>\n",
              "      <td>Sandrine</td>\n",
              "      <td>PREPS-19-0004</td>\n",
              "      <td>690781810</td>\n",
              "      <td>HOSPICES CIVILS DE LYON</td>\n",
              "      <td>D-CUB</td>\n",
              "      <td>Réduction de la consommation inappropriée des ...</td>\n",
              "      <td>598895.0</td>\n",
              "      <td>2019</td>\n",
              "    </tr>\n",
              "    <tr>\n",
              "      <th>29</th>\n",
              "      <td>VALERA</td>\n",
              "      <td>Sabine</td>\n",
              "      <td>PREPS-19-0084</td>\n",
              "      <td>130786049</td>\n",
              "      <td>APHM DIRECTION GENERALE</td>\n",
              "      <td>FOURMY</td>\n",
              "      <td>FOrmation des infirmiers des Unités de Réanima...</td>\n",
              "      <td>630121.0</td>\n",
              "      <td>2019</td>\n",
              "    </tr>\n",
              "  </tbody>\n",
              "</table>\n",
              "<p>263 rows × 9 columns</p>\n",
              "</div>\n",
              "      <button class=\"colab-df-convert\" onclick=\"convertToInteractive('df-22a70329-2980-4f8e-b7a0-dd3fa7604e62')\"\n",
              "              title=\"Convert this dataframe to an interactive table.\"\n",
              "              style=\"display:none;\">\n",
              "        \n",
              "  <svg xmlns=\"http://www.w3.org/2000/svg\" height=\"24px\"viewBox=\"0 0 24 24\"\n",
              "       width=\"24px\">\n",
              "    <path d=\"M0 0h24v24H0V0z\" fill=\"none\"/>\n",
              "    <path d=\"M18.56 5.44l.94 2.06.94-2.06 2.06-.94-2.06-.94-.94-2.06-.94 2.06-2.06.94zm-11 1L8.5 8.5l.94-2.06 2.06-.94-2.06-.94L8.5 2.5l-.94 2.06-2.06.94zm10 10l.94 2.06.94-2.06 2.06-.94-2.06-.94-.94-2.06-.94 2.06-2.06.94z\"/><path d=\"M17.41 7.96l-1.37-1.37c-.4-.4-.92-.59-1.43-.59-.52 0-1.04.2-1.43.59L10.3 9.45l-7.72 7.72c-.78.78-.78 2.05 0 2.83L4 21.41c.39.39.9.59 1.41.59.51 0 1.02-.2 1.41-.59l7.78-7.78 2.81-2.81c.8-.78.8-2.07 0-2.86zM5.41 20L4 18.59l7.72-7.72 1.47 1.35L5.41 20z\"/>\n",
              "  </svg>\n",
              "      </button>\n",
              "      \n",
              "  <style>\n",
              "    .colab-df-container {\n",
              "      display:flex;\n",
              "      flex-wrap:wrap;\n",
              "      gap: 12px;\n",
              "    }\n",
              "\n",
              "    .colab-df-convert {\n",
              "      background-color: #E8F0FE;\n",
              "      border: none;\n",
              "      border-radius: 50%;\n",
              "      cursor: pointer;\n",
              "      display: none;\n",
              "      fill: #1967D2;\n",
              "      height: 32px;\n",
              "      padding: 0 0 0 0;\n",
              "      width: 32px;\n",
              "    }\n",
              "\n",
              "    .colab-df-convert:hover {\n",
              "      background-color: #E2EBFA;\n",
              "      box-shadow: 0px 1px 2px rgba(60, 64, 67, 0.3), 0px 1px 3px 1px rgba(60, 64, 67, 0.15);\n",
              "      fill: #174EA6;\n",
              "    }\n",
              "\n",
              "    [theme=dark] .colab-df-convert {\n",
              "      background-color: #3B4455;\n",
              "      fill: #D2E3FC;\n",
              "    }\n",
              "\n",
              "    [theme=dark] .colab-df-convert:hover {\n",
              "      background-color: #434B5C;\n",
              "      box-shadow: 0px 1px 3px 1px rgba(0, 0, 0, 0.15);\n",
              "      filter: drop-shadow(0px 1px 2px rgba(0, 0, 0, 0.3));\n",
              "      fill: #FFFFFF;\n",
              "    }\n",
              "  </style>\n",
              "\n",
              "      <script>\n",
              "        const buttonEl =\n",
              "          document.querySelector('#df-22a70329-2980-4f8e-b7a0-dd3fa7604e62 button.colab-df-convert');\n",
              "        buttonEl.style.display =\n",
              "          google.colab.kernel.accessAllowed ? 'block' : 'none';\n",
              "\n",
              "        async function convertToInteractive(key) {\n",
              "          const element = document.querySelector('#df-22a70329-2980-4f8e-b7a0-dd3fa7604e62');\n",
              "          const dataTable =\n",
              "            await google.colab.kernel.invokeFunction('convertToInteractive',\n",
              "                                                     [key], {});\n",
              "          if (!dataTable) return;\n",
              "\n",
              "          const docLinkHtml = 'Like what you see? Visit the ' +\n",
              "            '<a target=\"_blank\" href=https://colab.research.google.com/notebooks/data_table.ipynb>data table notebook</a>'\n",
              "            + ' to learn more about interactive tables.';\n",
              "          element.innerHTML = '';\n",
              "          dataTable['output_type'] = 'display_data';\n",
              "          await google.colab.output.renderOutput(dataTable, element);\n",
              "          const docLink = document.createElement('div');\n",
              "          docLink.innerHTML = docLinkHtml;\n",
              "          element.appendChild(docLink);\n",
              "        }\n",
              "      </script>\n",
              "    </div>\n",
              "  </div>\n",
              "  "
            ]
          },
          "metadata": {},
          "execution_count": 236
        }
      ]
    }
  ]
}